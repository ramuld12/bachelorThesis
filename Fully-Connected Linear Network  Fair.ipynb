{
 "cells": [
  {
   "cell_type": "code",
   "execution_count": 50,
   "id": "cosmetic-budget",
   "metadata": {},
   "outputs": [],
   "source": [
    "import pandas as pd\n",
    "import numpy as np\n",
    "import re\n",
    "import torchvision.transforms as transforms\n",
    "import matplotlib.pyplot as plt\n",
    "\n",
    "import torch\n",
    "from torch.utils.data import DataLoader\n",
    "from torch import nn, optim\n",
    "from torch.nn import functional as F\n",
    "from torchvision import datasets, transforms\n",
    "\n",
    "from sklearn.metrics import f1_score"
   ]
  },
  {
   "cell_type": "code",
   "execution_count": 51,
   "id": "explicit-trigger",
   "metadata": {},
   "outputs": [],
   "source": [
    "def CleanText(text):\n",
    "    text = re.sub(r'''[\\[|\\]]''', \"\", text).split()\n",
    "    text = np.array(text, dtype=\"float64\")\n",
    "    return text"
   ]
  },
  {
   "cell_type": "code",
   "execution_count": null,
   "id": "agricultural-hello",
   "metadata": {},
   "outputs": [],
   "source": []
  },
  {
   "cell_type": "code",
   "execution_count": null,
   "id": "steady-emergency",
   "metadata": {},
   "outputs": [],
   "source": []
  },
  {
   "cell_type": "code",
   "execution_count": 52,
   "id": "still-country",
   "metadata": {},
   "outputs": [],
   "source": [
    "# Normal dataset\n",
    "#df = pd.read_csv(\"domain_data_with_identities.csv\")\n",
    "\n",
    "# Epsilon 0,1 fair dataset\n",
    "df = pd.read_csv(\"domain_data_with_identities_private_xtrain0,1.csv\")\n",
    "\n",
    "# Epsilon 0,01 fair dataset\n",
    "#df = pd.read_csv(\"domain_data_with_identities_private_xtrain0,1.csv\")\n",
    "\n",
    "df['comment_text'] = df['comment_text'].apply(lambda text: CleanText(text))\n"
   ]
  },
  {
   "cell_type": "code",
   "execution_count": 103,
   "id": "korean-measure",
   "metadata": {},
   "outputs": [],
   "source": [
    "# Updating values for training_data\n",
    "training_data = df[df['split'] == 'train']\n",
    "#training_data = training_data.drop(training_data.query('toxicity==0').sample(frac=.85).index)\n",
    "\n",
    "# Getting test_data\n",
    "test_data = df[df['split'] == 'test']\n",
    "\n",
    "# Getting validation_data\n",
    "validation_data = df[df['split'] == 'val']\n",
    "#validation_data = validation_data.drop(validation_data.query('toxicity==0').sample(frac=.85).index)"
   ]
  },
  {
   "cell_type": "code",
   "execution_count": 112,
   "id": "sorted-tulsa",
   "metadata": {},
   "outputs": [
    {
     "name": "stdout",
     "output_type": "stream",
     "text": [
      "Toxic samples training data:  11358.0\n",
      "None-toxic samples training data:  87747.0\n",
      "\n",
      "\n",
      "Toxic samples validation data:  1878.0\n",
      "None-toxic samples validation data:  14552.0\n",
      "\n",
      "\n",
      "Toxic samples test data:  5640.0\n",
      "None-toxic samples test data:  42235.0\n",
      "\n",
      "\n",
      "male: 26894.0\n",
      "female: 34305.0\n",
      "LGBTQ: 8420\n",
      "christian: 23475.0\n",
      "muslim: 13080.0\n",
      "other_religion: 49.0\n",
      "black: 9207.0\n",
      "white: 15855.0\n"
     ]
    }
   ],
   "source": [
    "print('Toxic samples training data: ', sum(training_data['toxicity']))\n",
    "print('None-toxic samples training data: ', len(training_data['toxicity'])-sum(training_data['toxicity']))\n",
    "\n",
    "print(\"\\n\")\n",
    "print('Toxic samples validation data: ', sum(validation_data['toxicity']))\n",
    "print('None-toxic samples validation data: ', len(validation_data['toxicity'])-sum(validation_data['toxicity']))\n",
    "\n",
    "print(\"\\n\")\n",
    "print('Toxic samples test data: ', sum(test_data['toxicity']))\n",
    "print('None-toxic samples test data: ', len(test_data['toxicity'])-sum(test_data['toxicity']))\n",
    "\n",
    "print(\"\\n\")\n",
    "\n",
    "for col in training_data.columns[3:]:\n",
    "    print(col + \": \" + str(np.sum(training_data[col])))"
   ]
  },
  {
   "cell_type": "code",
   "execution_count": 55,
   "id": "defensive-interaction",
   "metadata": {},
   "outputs": [
    {
     "name": "stdout",
     "output_type": "stream",
     "text": [
      "Using device(type='cuda')\n"
     ]
    }
   ],
   "source": [
    "### Set parameters for the model\n",
    "#torch.manual_seed(42) # set fixed random seed for reproducibility\n",
    "batch_size = 128\n",
    "epochs = 1000\n",
    "lr = 0.0001\n",
    "\n",
    "cuda = True # Set this if training on GPU\n",
    "cuda = cuda and torch.cuda.is_available()\n",
    "device = torch.device(\"cuda\" if cuda else \"cpu\")\n",
    "print(\"Using \"+repr(device))"
   ]
  },
  {
   "cell_type": "code",
   "execution_count": 113,
   "id": "perfect-proceeding",
   "metadata": {},
   "outputs": [],
   "source": [
    "transform = transforms.Compose([transforms.ToTensor()])\n",
    "\n",
    "# Creating data loaders\n",
    "X_train = np.array(training_data['comment_text'].values.tolist())\n",
    "Y_train = np.array(training_data['toxicity'].values.tolist())\n",
    "\n",
    "X_test = np.array(test_data['comment_text'].values.tolist())\n",
    "Y_test = np.array(test_data['toxicity'].values.tolist())\n",
    "\n",
    "X_val = np.array(validation_data['comment_text'].values.tolist())\n",
    "Y_val = np.array(validation_data['toxicity'].values.tolist())\n",
    "\n",
    "                    \n",
    "prepare_trainloader = []\n",
    "for i in range(len(X_train)):\n",
    "    prepare_trainloader.append([X_train[i], Y_train[i]])\n",
    "    \n",
    "prepare_testloader = []\n",
    "for i in range(len(X_test)):\n",
    "    prepare_testloader.append([X_test[i], Y_test[i]])\n",
    "    \n",
    "prepare_validloader = []\n",
    "for i in range(len(X_val)):\n",
    "    prepare_validloader.append([X_val[i], Y_val[i]])\n",
    "\n",
    "train_loader = torch.utils.data.DataLoader(prepare_trainloader, batch_size=batch_size, shuffle=True)\n",
    "valid_loader = torch.utils.data.DataLoader(prepare_validloader, batch_size=len(prepare_validloader), shuffle=False)\n",
    "test_loader = torch.utils.data.DataLoader(prepare_testloader, batch_size=batch_size, shuffle=False)"
   ]
  },
  {
   "cell_type": "code",
   "execution_count": 118,
   "id": "generic-consistency",
   "metadata": {},
   "outputs": [
    {
     "name": "stdout",
     "output_type": "stream",
     "text": [
      "0 torch.Size([16430, 768])\n"
     ]
    }
   ],
   "source": [
    "for batch_idx, data in enumerate(valid_loader):\n",
    "    print(batch_idx, data[0].shape)"
   ]
  },
  {
   "cell_type": "code",
   "execution_count": 69,
   "id": "composed-postage",
   "metadata": {},
   "outputs": [],
   "source": [
    "def CheckAccuracy(predictions, labels):\n",
    "        acc = 0.0\n",
    "        for i in range(len(predictions)):\n",
    "            if (predictions[i] == labels[i]):\n",
    "                acc += 1\n",
    "        return acc/len(predictions)"
   ]
  },
  {
   "cell_type": "code",
   "execution_count": 70,
   "id": "applicable-waste",
   "metadata": {},
   "outputs": [],
   "source": [
    "class Net(nn.Module):\n",
    "    def __init__(self):\n",
    "        super(Net, self).__init__()\n",
    "        self.fc1 = nn.Sequential(nn.Linear(768, 64), nn.ReLU(), nn.Dropout(p=0.2))\n",
    "        self.fc2 = nn.Sequential(nn.Linear(64, 32), nn.ReLU())\n",
    "        self.fc3 = nn.Linear(32, 1)\n",
    "        self.sigmoid = nn.Sigmoid()\n",
    "        #self.logsoftmax = nn.LogSoftmax(dim=1)\n",
    "\n",
    "    def forward(self, x):\n",
    "        x = self.fc1(x)\n",
    "        x = self.fc2(x)\n",
    "        x = self.fc3(x)\n",
    "        x = self.sigmoid(x)\n",
    "        return x"
   ]
  },
  {
   "cell_type": "code",
   "execution_count": 77,
   "id": "threaded-springfield",
   "metadata": {},
   "outputs": [
    {
     "name": "stdout",
     "output_type": "stream",
     "text": [
      "====> Epoch: 1 Average training loss: 0.005125\n",
      "====> Validation set loss: 0.005487\n",
      "Accuracy on Validation set:  0.4782073380940655\n",
      "F1_score:  0.6228866346324968\n",
      "\n",
      "\n",
      "====> Epoch: 2 Average training loss: 0.004589\n",
      "====> Validation set loss: 0.005463\n",
      "Accuracy on Validation set:  0.5215464171386358\n",
      "F1_score:  0.5513738166705149\n",
      "\n",
      "\n",
      "====> Epoch: 3 Average training loss: 0.004482\n",
      "====> Validation set loss: 0.005443\n",
      "Accuracy on Validation set:  0.5180989903964541\n",
      "F1_score:  0.3327650869416979\n",
      "\n",
      "\n",
      "====> Epoch: 4 Average training loss: 0.004441\n",
      "====> Validation set loss: 0.005446\n",
      "Accuracy on Validation set:  0.5213001723713371\n",
      "F1_score:  0.10083256244218317\n",
      "\n",
      "\n",
      "====> Epoch: 5 Average training loss: 0.004414\n",
      "====> Validation set loss: 0.005466\n",
      "Accuracy on Validation set:  0.5328736764343758\n",
      "F1_score:  0.03263640999490056\n",
      "\n",
      "\n",
      "====> Epoch: 6 Average training loss: 0.004390\n",
      "====> Validation set loss: 0.005495\n",
      "Accuracy on Validation set:  0.5368135927111549\n",
      "F1_score:  0.00947867298578199\n",
      "\n",
      "\n",
      "====> Epoch: 7 Average training loss: 0.004372\n",
      "====> Validation set loss: 0.005522\n",
      "Accuracy on Validation set:  0.5368135927111549\n",
      "F1_score:  0.0021220159151193636\n",
      "\n",
      "\n",
      "====> Epoch: 8 Average training loss: 0.004362\n",
      "====> Validation set loss: 0.005569\n",
      "Accuracy on Validation set:  0.5373060822457523\n",
      "F1_score:  0.0\n",
      "\n",
      "\n",
      "====> Epoch: 9 Average training loss: 0.004346\n",
      "====> Validation set loss: 0.005612\n",
      "Accuracy on Validation set:  0.537552327013051\n",
      "F1_score:  0.0\n",
      "\n",
      "\n",
      "====> Epoch: 10 Average training loss: 0.004331\n",
      "====> Validation set loss: 0.005648\n",
      "Accuracy on Validation set:  0.537552327013051\n",
      "F1_score:  0.0\n",
      "\n",
      "\n",
      "====> Epoch: 11 Average training loss: 0.004317\n",
      "====> Validation set loss: 0.005721\n",
      "Accuracy on Validation set:  0.537552327013051\n",
      "F1_score:  0.0\n",
      "\n",
      "\n",
      "====> Epoch: 12 Average training loss: 0.004315\n",
      "====> Validation set loss: 0.005770\n",
      "Accuracy on Validation set:  0.537552327013051\n",
      "F1_score:  0.0\n",
      "\n",
      "\n",
      "====> Epoch: 13 Average training loss: 0.004292\n",
      "====> Validation set loss: 0.005840\n",
      "Accuracy on Validation set:  0.537552327013051\n",
      "F1_score:  0.0\n",
      "\n",
      "\n",
      "====> Epoch: 14 Average training loss: 0.004282\n",
      "====> Validation set loss: 0.005927\n",
      "Accuracy on Validation set:  0.537552327013051\n",
      "F1_score:  0.0\n",
      "\n",
      "\n",
      "====> Epoch: 15 Average training loss: 0.004275\n",
      "====> Validation set loss: 0.005978\n",
      "Accuracy on Validation set:  0.537552327013051\n",
      "F1_score:  0.0\n",
      "\n",
      "\n",
      "====> Epoch: 16 Average training loss: 0.004264\n",
      "====> Validation set loss: 0.006074\n",
      "Accuracy on Validation set:  0.537552327013051\n",
      "F1_score:  0.0\n",
      "\n",
      "\n",
      "====> Epoch: 17 Average training loss: 0.004246\n",
      "====> Validation set loss: 0.006197\n",
      "Accuracy on Validation set:  0.537552327013051\n",
      "F1_score:  0.0\n",
      "\n",
      "\n",
      "====> Epoch: 18 Average training loss: 0.004231\n",
      "====> Validation set loss: 0.006303\n",
      "Accuracy on Validation set:  0.537552327013051\n",
      "F1_score:  0.0\n",
      "\n",
      "\n",
      "====> Epoch: 19 Average training loss: 0.004219\n",
      "====> Validation set loss: 0.006419\n",
      "Accuracy on Validation set:  0.537552327013051\n",
      "F1_score:  0.0\n",
      "\n",
      "\n",
      "====> Epoch: 20 Average training loss: 0.004213\n",
      "====> Validation set loss: 0.006565\n",
      "Accuracy on Validation set:  0.537552327013051\n",
      "F1_score:  0.0\n",
      "\n",
      "\n",
      "====> Epoch: 21 Average training loss: 0.004199\n",
      "====> Validation set loss: 0.006662\n",
      "Accuracy on Validation set:  0.537552327013051\n",
      "F1_score:  0.0\n",
      "\n",
      "\n",
      "====> Epoch: 22 Average training loss: 0.004187\n",
      "====> Validation set loss: 0.006783\n",
      "Accuracy on Validation set:  0.537552327013051\n",
      "F1_score:  0.0\n",
      "\n",
      "\n",
      "====> Epoch: 23 Average training loss: 0.004180\n",
      "====> Validation set loss: 0.006888\n",
      "Accuracy on Validation set:  0.537552327013051\n",
      "F1_score:  0.0\n",
      "\n",
      "\n",
      "====> Epoch: 24 Average training loss: 0.004167\n",
      "====> Validation set loss: 0.007033\n",
      "Accuracy on Validation set:  0.537552327013051\n",
      "F1_score:  0.0\n",
      "\n",
      "\n",
      "====> Epoch: 25 Average training loss: 0.004156\n",
      "====> Validation set loss: 0.007111\n",
      "Accuracy on Validation set:  0.537552327013051\n",
      "F1_score:  0.0\n",
      "\n",
      "\n",
      "====> Epoch: 26 Average training loss: 0.004134\n",
      "====> Validation set loss: 0.007266\n",
      "Accuracy on Validation set:  0.537552327013051\n",
      "F1_score:  0.0\n",
      "\n",
      "\n",
      "====> Epoch: 27 Average training loss: 0.004138\n",
      "====> Validation set loss: 0.007372\n",
      "Accuracy on Validation set:  0.537552327013051\n",
      "F1_score:  0.0\n",
      "\n",
      "\n",
      "====> Epoch: 28 Average training loss: 0.004128\n",
      "====> Validation set loss: 0.007497\n",
      "Accuracy on Validation set:  0.537552327013051\n",
      "F1_score:  0.0\n",
      "\n",
      "\n",
      "====> Epoch: 29 Average training loss: 0.004111\n",
      "====> Validation set loss: 0.007605\n",
      "Accuracy on Validation set:  0.537552327013051\n",
      "F1_score:  0.0\n",
      "\n",
      "\n",
      "====> Epoch: 30 Average training loss: 0.004099\n",
      "====> Validation set loss: 0.007732\n",
      "Accuracy on Validation set:  0.537552327013051\n",
      "F1_score:  0.0\n",
      "\n",
      "\n",
      "====> Epoch: 31 Average training loss: 0.004084\n",
      "====> Validation set loss: 0.007894\n",
      "Accuracy on Validation set:  0.537552327013051\n",
      "F1_score:  0.0\n",
      "\n",
      "\n",
      "====> Epoch: 32 Average training loss: 0.004086\n",
      "====> Validation set loss: 0.007972\n",
      "Accuracy on Validation set:  0.537552327013051\n",
      "F1_score:  0.0\n",
      "\n",
      "\n",
      "====> Epoch: 33 Average training loss: 0.004063\n",
      "====> Validation set loss: 0.008112\n",
      "Accuracy on Validation set:  0.537552327013051\n",
      "F1_score:  0.0\n",
      "\n",
      "\n"
     ]
    }
   ],
   "source": [
    "# Setting up model parameters\n",
    "model = Net().to(device)\n",
    "optimizer = optim.AdamW(model.parameters(), lr=lr)\n",
    "#optimizer = optim.SGD(model.parameters(), lr=lr, momentum=0.9)\n",
    "loss_function = nn.BCELoss()\n",
    "#loss_function = nn.MSELoss()\n",
    "#loss_function = nn.NLLLoss()\n",
    "\n",
    "# Initialising early stopping criterias\n",
    "early_stopping = 30\n",
    "notImproved = 0\n",
    "bestLoss = None\n",
    "bestModel = None\n",
    "\n",
    "trainArr = []\n",
    "valArr = []\n",
    "\n",
    "bestf1 = 0\n",
    "\n",
    "for epoch in range(1, epochs + 1):\n",
    "    \n",
    "    train_loss = 0.0\n",
    "    for batch_idx, data in enumerate(train_loader):\n",
    "        \n",
    "        # get the input\n",
    "        inputs, labels = data\n",
    "        \n",
    "        inputs = inputs.unsqueeze(1)\n",
    "        \n",
    "        inputs = inputs.to(device).float()\n",
    "        labels = labels.to(device).float()\n",
    "        \n",
    "        # zero the parameter gradients\n",
    "        optimizer.zero_grad()\n",
    "        \n",
    "        # forward + backward + optimize            \n",
    "        outputs = model(inputs).squeeze()\n",
    "        \n",
    "        \n",
    "        loss = loss_function(outputs, labels)\n",
    "        \n",
    "        loss.backward()\n",
    "        \n",
    "        optimizer.step()\n",
    "        \n",
    "        train_loss += loss.item()\n",
    "    \n",
    "    train_loss /= len(train_loader.dataset)\n",
    "    \n",
    "    print('====> Epoch: {} Average training loss: {:.6f}'.format(epoch, train_loss))\n",
    "    \n",
    "    trainArr.append(train_loss)\n",
    "    \n",
    "    valid_loss = 0\n",
    "    labs = []\n",
    "    preds = []\n",
    "    \n",
    "    model.eval()\n",
    "    with torch.no_grad():        \n",
    "        for batch_idx, data in enumerate(valid_loader):\n",
    "            # get the input\n",
    "            inputs, labels = data\n",
    "            inputs = inputs.unsqueeze(1)\n",
    "            inputs = inputs.to(device).float()\n",
    "            #labels = labels.to(device).long()\n",
    "            labels = labels.to(device).float()\n",
    "            \n",
    "            outputs = model(inputs).squeeze()\n",
    "            \n",
    "            labs.extend(labels)\n",
    "            preds.extend(torch.round(outputs))\n",
    "            #preds.extend(outputs.argmax(axis=1))\n",
    "            \n",
    "            valid_loss += loss_function(outputs, labels).item()\n",
    "    \n",
    "    valid_loss /= len(valid_loader.dataset)\n",
    "    \n",
    "    valArr.append(valid_loss)\n",
    "    \n",
    "    print('====> Validation set loss: {:.6f}'.format(valid_loss))\n",
    "    \n",
    "    print(\"Accuracy on Validation set: \", CheckAccuracy(labs, preds))\n",
    "    \n",
    "    f1 = f1_score(torch.Tensor(labs).numpy(), torch.Tensor(preds).numpy(), zero_division=1)\n",
    "    \n",
    "    print(\"F1_score: \", f1)\n",
    "    if f1 > bestf1:\n",
    "        bestModel = model\n",
    "    \n",
    "    print(\"\\n\")\n",
    "    \n",
    "    # Initialising params for early stopping\n",
    "    if bestLoss == None:\n",
    "        bestLoss = valid_loss\n",
    "        \n",
    "    # Checks for early stopping\n",
    "    if valid_loss <= bestLoss:\n",
    "        notImproved = 0\n",
    "        bestLoss = valid_loss\n",
    "        #bestModel = model\n",
    "    else:\n",
    "        notImproved +=1\n",
    "        \n",
    "    # Converges if the training has not improved for a certain amount of iterations\n",
    "    if notImproved >= early_stopping:\n",
    "        break\n",
    "\n",
    "#if bestModel != None:\n",
    "model = bestModel\n",
    "    \n",
    "\n",
    "#torch.save(model, 'bestModelFullyConnectedNetwork0,1Fair.pth')"
   ]
  },
  {
   "cell_type": "code",
   "execution_count": 78,
   "id": "amateur-wells",
   "metadata": {},
   "outputs": [
    {
     "data": {
      "image/png": "[encoded data removed]",
      "text/plain": [
       "<Figure size 720x360 with 1 Axes>"
      ]
     },
     "metadata": {
      "needs_background": "light"
     },
     "output_type": "display_data"
    }
   ],
   "source": [
    "plt.figure(figsize=(10,5))\n",
    "plt.scatter(np.arange(0,len(trainArr)), trainArr, color='r', label='Training loss')\n",
    "plt.scatter(np.arange(0,len(valArr)), valArr, color='g', label='Validation loss')\n",
    "plt.title(\"Training loss vs Validation loss epsilon 0,1\")\n",
    "plt.xlabel(\"Epoch\")\n",
    "plt.ylabel(\"Loss\")\n",
    "plt.legend(loc=\"upper right\")\n",
    "plt.show()"
   ]
  },
  {
   "cell_type": "code",
   "execution_count": 79,
   "id": "australian-pottery",
   "metadata": {},
   "outputs": [],
   "source": [
    "def F1_Scores(preds, labels):\n",
    "    true_positives = 0\n",
    "    true_negatives = 0\n",
    "    false_positives = 0\n",
    "    false_negatives = 0\n",
    "    for i in range(len(labs)):\n",
    "        if labels[i]==1 and preds[i]==1:\n",
    "            true_positives += 1\n",
    "        if labels[i]==0 and preds[i]==0:\n",
    "            true_negatives += 1\n",
    "        if labels[i]==0 and preds[i]==1:\n",
    "            false_positives += 1\n",
    "        if labels[i]==1 and preds[i]==0:\n",
    "            false_negatives += 1\n",
    "    print(\"true_positives\", true_positives)\n",
    "    print(\"true_negatives\", true_negatives)\n",
    "    print(\"false_positives\", false_positives)\n",
    "    print(\"false_negatives\", false_negatives)\n",
    "    \n",
    "    return true_positives, true_negatives, false_positives, false_negatives"
   ]
  },
  {
   "cell_type": "code",
   "execution_count": 80,
   "id": "affected-bruce",
   "metadata": {
    "scrolled": true
   },
   "outputs": [
    {
     "name": "stdout",
     "output_type": "stream",
     "text": [
      "Accuracy on test set:  0.8821723237597912\n",
      "F1_score:  0.0\n",
      "true_positives 0\n",
      "true_negatives 42234\n",
      "false_positives 1\n",
      "false_negatives 5640\n",
      "Toxic accuracy:  0.0\n",
      "Non-toxic accuracy:  0.9999763229548952\n"
     ]
    }
   ],
   "source": [
    "labs = []\n",
    "preds = []\n",
    "\n",
    "model.eval()\n",
    "with torch.no_grad():        \n",
    "    for batch_idx, data in enumerate(test_loader):\n",
    "        # get the input\n",
    "        inputs, labels = data\n",
    "        inputs = inputs.unsqueeze(1)\n",
    "        inputs = inputs.to(device).float()\n",
    "        labels = labels.to(device).float()\n",
    "        \n",
    "        outputs = model(inputs).squeeze()\n",
    "        \n",
    "        labs.extend(labels)\n",
    "        preds.extend(torch.round(outputs))\n",
    "        \n",
    "print(\"Accuracy on test set: \", CheckAccuracy(labs, preds))\n",
    "\n",
    "f1 = f1_score(torch.Tensor(labs).numpy(), torch.Tensor(preds).numpy(), zero_division=1)\n",
    "print(\"F1_score: \", f1)\n",
    "\n",
    "true_positives, true_negatives, false_positives, false_negatives = F1_Scores(preds, labs)\n",
    "\n",
    "print(\"Toxic accuracy: \", true_positives/5640)\n",
    "print(\"Non-toxic accuracy: \", true_negatives/42235)"
   ]
  },
  {
   "cell_type": "code",
   "execution_count": null,
   "id": "wooden-marker",
   "metadata": {
    "scrolled": true
   },
   "outputs": [],
   "source": []
  },
  {
   "cell_type": "code",
   "execution_count": null,
   "id": "animated-lemon",
   "metadata": {},
   "outputs": [],
   "source": []
  },
  {
   "cell_type": "code",
   "execution_count": null,
   "id": "treated-repeat",
   "metadata": {},
   "outputs": [],
   "source": []
  },
  {
   "cell_type": "code",
   "execution_count": 122,
   "id": "entitled-investigator",
   "metadata": {
    "scrolled": false
   },
   "outputs": [
    {
     "name": "stdout",
     "output_type": "stream",
     "text": [
      "0.0001\n"
     ]
    },
    {
     "name": "stderr",
     "output_type": "stream",
     "text": [
      "C:\\Users\\frede\\anaconda3\\lib\\site-packages\\diffprivlib\\models\\logistic_regression.py:221: PrivacyLeakWarning: Data norm has not been specified and will be calculated on the data provided.  This will result in additional privacy leakage. To ensure differential privacy and no additional privacy leakage, specify `data_norm` at initialisation.\n",
      "  warnings.warn(\"Data norm has not been specified and will be calculated on the data provided.  This will \"\n"
     ]
    },
    {
     "name": "stdout",
     "output_type": "stream",
     "text": [
      "F1_score:  0.16722284019280684\n",
      "0.6246892950391645\n",
      "true_positives 1804\n",
      "true_negatives 28103\n",
      "false_positives 14132\n",
      "false_negatives 3836\n",
      "0.001\n"
     ]
    },
    {
     "name": "stderr",
     "output_type": "stream",
     "text": [
      "C:\\Users\\frede\\anaconda3\\lib\\site-packages\\diffprivlib\\models\\logistic_regression.py:221: PrivacyLeakWarning: Data norm has not been specified and will be calculated on the data provided.  This will result in additional privacy leakage. To ensure differential privacy and no additional privacy leakage, specify `data_norm` at initialisation.\n",
      "  warnings.warn(\"Data norm has not been specified and will be calculated on the data provided.  This will \"\n"
     ]
    },
    {
     "name": "stdout",
     "output_type": "stream",
     "text": [
      "F1_score:  0.18976664981507596\n",
      "0.3639477806788512\n",
      "true_positives 3566\n",
      "true_negatives 13858\n",
      "false_positives 28377\n",
      "false_negatives 2074\n",
      "0.01\n"
     ]
    },
    {
     "name": "stderr",
     "output_type": "stream",
     "text": [
      "C:\\Users\\frede\\anaconda3\\lib\\site-packages\\diffprivlib\\models\\logistic_regression.py:221: PrivacyLeakWarning: Data norm has not been specified and will be calculated on the data provided.  This will result in additional privacy leakage. To ensure differential privacy and no additional privacy leakage, specify `data_norm` at initialisation.\n",
      "  warnings.warn(\"Data norm has not been specified and will be calculated on the data provided.  This will \"\n"
     ]
    },
    {
     "name": "stdout",
     "output_type": "stream",
     "text": [
      "F1_score:  0.13047295072972676\n",
      "0.6689712793733682\n",
      "true_positives 1189\n",
      "true_negatives 30838\n",
      "false_positives 11397\n",
      "false_negatives 4451\n",
      "0.1\n"
     ]
    },
    {
     "name": "stderr",
     "output_type": "stream",
     "text": [
      "C:\\Users\\frede\\anaconda3\\lib\\site-packages\\diffprivlib\\models\\logistic_regression.py:221: PrivacyLeakWarning: Data norm has not been specified and will be calculated on the data provided.  This will result in additional privacy leakage. To ensure differential privacy and no additional privacy leakage, specify `data_norm` at initialisation.\n",
      "  warnings.warn(\"Data norm has not been specified and will be calculated on the data provided.  This will \"\n"
     ]
    },
    {
     "name": "stdout",
     "output_type": "stream",
     "text": [
      "F1_score:  0.19447133483919543\n",
      "0.5307154046997389\n",
      "true_positives 2712\n",
      "true_negatives 22696\n",
      "false_positives 19539\n",
      "false_negatives 2928\n",
      "1\n"
     ]
    },
    {
     "name": "stderr",
     "output_type": "stream",
     "text": [
      "C:\\Users\\frede\\anaconda3\\lib\\site-packages\\diffprivlib\\models\\logistic_regression.py:221: PrivacyLeakWarning: Data norm has not been specified and will be calculated on the data provided.  This will result in additional privacy leakage. To ensure differential privacy and no additional privacy leakage, specify `data_norm` at initialisation.\n",
      "  warnings.warn(\"Data norm has not been specified and will be calculated on the data provided.  This will \"\n"
     ]
    },
    {
     "name": "stdout",
     "output_type": "stream",
     "text": [
      "F1_score:  0.24124605678233438\n",
      "0.5980783289817232\n",
      "true_positives 3059\n",
      "true_negatives 25574\n",
      "false_positives 16661\n",
      "false_negatives 2581\n",
      "10\n"
     ]
    },
    {
     "name": "stderr",
     "output_type": "stream",
     "text": [
      "C:\\Users\\frede\\anaconda3\\lib\\site-packages\\diffprivlib\\models\\logistic_regression.py:221: PrivacyLeakWarning: Data norm has not been specified and will be calculated on the data provided.  This will result in additional privacy leakage. To ensure differential privacy and no additional privacy leakage, specify `data_norm` at initialisation.\n",
      "  warnings.warn(\"Data norm has not been specified and will be calculated on the data provided.  This will \"\n"
     ]
    },
    {
     "name": "stdout",
     "output_type": "stream",
     "text": [
      "F1_score:  0.2696797241723092\n",
      "0.6327728459530026\n",
      "true_positives 3246\n",
      "true_negatives 27048\n",
      "false_positives 15187\n",
      "false_negatives 2394\n"
     ]
    },
    {
     "name": "stderr",
     "output_type": "stream",
     "text": [
      "C:\\Users\\frede\\anaconda3\\lib\\site-packages\\diffprivlib\\models\\logistic_regression.py:394: ConvergenceWarning: lbfgs failed to converge. Increase the number of iterations.\n",
      "  warnings.warn(\"lbfgs failed to converge. Increase the number of iterations.\", ConvergenceWarning)\n"
     ]
    }
   ],
   "source": [
    "from diffprivlib.models import LogisticRegression\n",
    "from sklearn.metrics import precision_recall_fscore_support\n",
    "\n",
    "epsilons = [0.0001, 0.001, 0.01, 0.1, 1, 10]\n",
    "\n",
    "\n",
    "\n",
    "for eps in epsilons:\n",
    "    print(eps)\n",
    "    clf = LogisticRegression(epsilon=eps)\n",
    "    clf.fit(X_train, Y_train)\n",
    "    predictions = clf.predict(X_test)\n",
    "    f1 = f1_score(predictions, Y_test, zero_division=1)\n",
    "    \n",
    "    print(\"F1_score: \", f1)\n",
    "    \n",
    "    print(clf.score(X_test, Y_test))\n",
    "    \n",
    "    F1_Scores(predictions, Y_test)\n",
    "\n",
    "#predictions = np.array(predictions).reshape(len(predictions), 1)\n",
    "#Y_test = np.array(Y_test).reshape(len(Y_test), 1)\n",
    "\n",
    "    "
   ]
  },
  {
   "cell_type": "code",
   "execution_count": null,
   "id": "velvet-webcam",
   "metadata": {},
   "outputs": [],
   "source": []
  }
 ],
 "metadata": {
  "kernelspec": {
   "display_name": "Python 3",
   "language": "python",
   "name": "python3"
  },
  "language_info": {
   "codemirror_mode": {
    "name": "ipython",
    "version": 3
   },
   "file_extension": ".py",
   "mimetype": "text/x-python",
   "name": "python",
   "nbconvert_exporter": "python",
   "pygments_lexer": "ipython3",
   "version": "3.8.8"
  }
 },
 "nbformat": 4,
 "nbformat_minor": 5
}
