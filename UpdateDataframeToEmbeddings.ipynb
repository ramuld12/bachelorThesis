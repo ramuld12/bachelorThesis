{
 "cells": [
  {
   "cell_type": "code",
   "execution_count": 4,
   "metadata": {},
   "outputs": [],
   "source": [
    "import pandas as pd\n",
    "import re\n",
    "import numpy as np"
   ]
  },
  {
   "cell_type": "code",
   "execution_count": 5,
   "metadata": {},
   "outputs": [],
   "source": [
    "df = pd.read_csv(\"all_data_with_identities.csv\")\n",
    "\n",
    "\n",
    "training_data = df[df['split'] == 'train']['comment_text']\n",
    "test_data = df[df['split'] == 'test']['comment_text']\n",
    "validation_data = df[df['split'] == 'val']['comment_text']"
   ]
  },
  {
   "cell_type": "code",
   "execution_count": 6,
   "metadata": {
    "scrolled": false
   },
   "outputs": [],
   "source": [
    "# Generating CSV files to Embed\n",
    "\n",
    "#training_data = df[df['split'] == 'train']['comment_text']\n",
    "#test_data = df[df['split'] == 'test']['comment_text']\n",
    "#validation_data = df[df['split'] == 'val']['comment_text']\n",
    "\n",
    "#training_data.to_csv(r'C:\\Users\\frede\\Desktop\\train.csv', index=False, header=True)\n",
    "#test_data.to_csv(r'C:\\Users\\frede\\Desktop\\test.csv', index=False, header=True)\n",
    "#validation_data.to_csv(r'C:\\Users\\frede\\Desktop\\val.csv', index=False, header=True)"
   ]
  },
  {
   "cell_type": "code",
   "execution_count": 7,
   "metadata": {},
   "outputs": [],
   "source": [
    "def CleanText(text):\n",
    "    text = re.sub(r'''[\\[|\\]]''', \"\", text).split()\n",
    "    text = np.array(text, dtype=\"float64\")\n",
    "    return text"
   ]
  },
  {
   "cell_type": "code",
   "execution_count": 8,
   "metadata": {},
   "outputs": [],
   "source": [
    "TestEmbeddings = pd.read_csv('EmbeddedTest.csv').values.tolist()\n",
    "ValidationEmbeddings = pd.read_csv('EmbeddedVal.csv').values.tolist()\n",
    "TrainingEmbeddings = pd.read_csv('EmbeddedTrain.csv').values.tolist()"
   ]
  },
  {
   "cell_type": "code",
   "execution_count": 7,
   "metadata": {},
   "outputs": [
    {
     "name": "stdout",
     "output_type": "stream",
     "text": [
      "269038\n",
      "269038\n",
      "133782\n",
      "133782\n",
      "45180\n",
      "45180\n"
     ]
    }
   ],
   "source": [
    "print(len(training_data))\n",
    "print(len(TrainingEmbeddings))\n",
    "\n",
    "print(len(test_data))\n",
    "print(len(TestEmbeddings))\n",
    "\n",
    "print(len(validation_data))\n",
    "print(len(ValidationEmbeddings))"
   ]
  },
  {
   "cell_type": "code",
   "execution_count": 8,
   "metadata": {},
   "outputs": [],
   "source": [
    "for i, ind in enumerate(training_data.index):\n",
    "    df.at[ind, 'comment_text'] = TrainingEmbeddings[i][0]\n",
    "    \n",
    "for i, ind in enumerate(validation_data.index):\n",
    "    df.at[ind, 'comment_text'] = ValidationEmbeddings[i][0]\n",
    "    \n",
    "for i, ind in enumerate(test_data.index):\n",
    "    df.at[ind, 'comment_text'] = TestEmbeddings[i][0]"
   ]
  },
  {
   "cell_type": "code",
   "execution_count": 10,
   "metadata": {},
   "outputs": [],
   "source": [
    "df.to_csv(r'C:\\Users\\frede\\Desktop\\all_data_with_identitiesEmbedded.csv', index=False, header=True)"
   ]
  },
  {
   "cell_type": "code",
   "execution_count": null,
   "metadata": {},
   "outputs": [],
   "source": []
  },
  {
   "cell_type": "code",
   "execution_count": 146,
   "metadata": {},
   "outputs": [],
   "source": [
    "df['comment_text'] = df['comment_text'].apply(lambda text: CleanText(text))\n",
    "    "
   ]
  },
  {
   "cell_type": "code",
   "execution_count": null,
   "metadata": {},
   "outputs": [],
   "source": []
  },
  {
   "cell_type": "code",
   "execution_count": null,
   "metadata": {},
   "outputs": [],
   "source": []
  },
  {
   "cell_type": "code",
   "execution_count": null,
   "metadata": {},
   "outputs": [],
   "source": []
  }
 ],
 "metadata": {
  "kernelspec": {
   "display_name": "Python 3",
   "language": "python",
   "name": "python3"
  },
  "language_info": {
   "codemirror_mode": {
    "name": "ipython",
    "version": 3
   },
   "file_extension": ".py",
   "mimetype": "text/x-python",
   "name": "python",
   "nbconvert_exporter": "python",
   "pygments_lexer": "ipython3",
   "version": "3.8.8"
  }
 },
 "nbformat": 4,
 "nbformat_minor": 4
}
