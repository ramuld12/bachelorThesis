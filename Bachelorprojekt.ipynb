{
 "cells": [
  {
   "cell_type": "code",
   "execution_count": 1,
   "metadata": {
    "scrolled": false
   },
   "outputs": [],
   "source": [
    "import pandas as pd\n",
    "import numpy as np\n",
    "from sklearn.model_selection import train_test_split\n",
    "import re\n",
    "from sklearn.feature_extraction.text import CountVectorizer\n",
    "from wilds.common.data_loaders import get_train_loader\n",
    "import torchvision.transforms as transforms\n",
    "from sklearn.linear_model import LogisticRegression\n",
    "from gensim.models import Word2Vec\n",
    "\n",
    "def CleanText(text):\n",
    "    text = text.lower() #Turn all text entries into lower-case\n",
    "    text = re.sub(r'''(https?:\\/\\/www\\.|https?:\\/\\/)?[a-z0-9]+([\\-\\.]{1}[a-z0-9]+)*\\.[a-z]{2,3}[-a-zA-Z0-9()@:%_\\+.~#?&\\//=<>]*''', \"<URL>\", text)\n",
    "    #Replace URL with tag\n",
    "    text = re.sub(r'''[0-9]+[/\\-.]+[0-9]+[/\\-.]+[0-9]+''', \"<DATE>\", text) #Replace dates with tag\n",
    "    text = re.sub(r'''[a-z0-9._%+-]+\\@[a-z0-9.-]+[a-z0-9]\\.[a-z]{1,}''', \"<EMAIL>\", text)\n",
    "    text = re.sub(r'''[0-9]+''', \"<NUM>\", text) #Replace numbers with tag\n",
    "    \n",
    "    text = re.sub(r'''[.|,|!|?|\\'|\\''|\\\"|\\n|\\t|\\-|\\(|\\)]''', '', text)\n",
    "    text = re.sub(r'''^\\s+|\\s+$''', '', text) #Remove whitespaces at the end of string\n",
    "    text = re.sub(r'''[ ][ ]+|_''', \" \", text) #Remove multiple whitespace\n",
    "    return text\n",
    "\n",
    "df = pd.read_csv(\"all_data_with_identities.csv\")"
   ]
  },
  {
   "cell_type": "markdown",
   "metadata": {},
   "source": [
    "# Find columns needed"
   ]
  },
  {
   "cell_type": "code",
   "execution_count": 2,
   "metadata": {},
   "outputs": [],
   "source": [
    "df = df.loc[:, [\"comment_text\", \"split\", \"na_gender\", \"toxicity\", \"male\", \"female\", \"transgender\", \"other_gender\"]]\n"
   ]
  },
  {
   "cell_type": "code",
   "execution_count": 3,
   "metadata": {},
   "outputs": [],
   "source": [
    "training_data = df[df['split'] == 'train']\n",
    "training_data = training_data[training_data['na_gender'] == 0][:5000]\n",
    "\n",
    "test_data = df[df['split'] == 'test'][:500]\n",
    "validation_data = df[df['split'] == 'val']\n",
    "\n",
    "training_data['comment_text'] = training_data['comment_text'].apply(lambda text: CleanText(text))\n",
    "training_data['male'] = training_data['male'].apply(lambda x: round(x))\n",
    "training_data['female'] = training_data['female'].apply(lambda x: round(x))\n",
    "training_data['transgender'] = training_data['transgender'].apply(lambda x: round(x))\n",
    "training_data['other_gender'] = training_data['transgender'].apply(lambda x: round(x))\n",
    "\n",
    "test_data['comment_text'] = test_data['comment_text'].apply(lambda text: CleanText(text))\n"
   ]
  },
  {
   "cell_type": "code",
   "execution_count": null,
   "metadata": {},
   "outputs": [],
   "source": []
  },
  {
   "cell_type": "code",
   "execution_count": 4,
   "metadata": {},
   "outputs": [],
   "source": [
    "trainingComments = training_data['comment_text']\n",
    "trainingLabels = training_data['toxicity']\n",
    "trainingComments = trainingComments.values.tolist()\n",
    "\n",
    "testComments = test_data['comment_text']\n",
    "testComments = testComments.values.tolist()\n",
    "testLabels = test_data['toxicity']\n",
    "\n",
    "valComments = validation_data['comment_text']\n",
    "valComments = valComments.values.tolist()\n",
    "valLabels = validation_data['toxicity']\n",
    "\n"
   ]
  },
  {
   "cell_type": "raw",
   "metadata": {},
   "source": [
    "def PrepareData(comment_text, toxicity_labels):\n",
    "    texts = []\n",
    "    labels = []\n",
    "    for txt, label in zip(comment_text, toxicity_labels):\n",
    "        if(isinstance(txt, str) and isinstance(label, float)):\n",
    "            texts.append(CleanText(txt))\n",
    "            labels.append(round(label))\n",
    "    return texts, labels\n",
    "\n",
    "X_train, Y_train = PrepareData(trainingComments, trainingLabels)\n",
    "X_test, Y_test = PrepareData(testComments, testLabels)"
   ]
  },
  {
   "cell_type": "code",
   "execution_count": 5,
   "metadata": {},
   "outputs": [
    {
     "name": "stderr",
     "output_type": "stream",
     "text": [
      "<ipython-input-5-870a0a205244>:22: SettingWithCopyWarning: \n",
      "A value is trying to be set on a copy of a slice from a DataFrame\n",
      "\n",
      "See the caveats in the documentation: https://pandas.pydata.org/pandas-docs/stable/user_guide/indexing.html#returning-a-view-versus-a-copy\n",
      "  training_data['comment_text'][ind] = X_train_vectors[i]\n",
      "<ipython-input-5-870a0a205244>:25: SettingWithCopyWarning: \n",
      "A value is trying to be set on a copy of a slice from a DataFrame\n",
      "\n",
      "See the caveats in the documentation: https://pandas.pydata.org/pandas-docs/stable/user_guide/indexing.html#returning-a-view-versus-a-copy\n",
      "  test_data['comment_text'][ind] = X_test_vectors[i]\n"
     ]
    }
   ],
   "source": [
    "# Using count vectorizer with predefined stopwords\n",
    "cv = CountVectorizer(stop_words='english')\n",
    "\n",
    "# Creating vocabulary by fitting on trainingdata and transforming to the vocabulary vector\n",
    "count_vectorTrainingSet = cv.fit_transform(trainingComments)\n",
    "\n",
    "# Transforming test data to the vocabulary vector\n",
    "count_vectorTestSet = cv.transform(testComments)\n",
    "\n",
    "# Using the count_vector to create a matrix containing vectors of each review\n",
    "def createVectorArr(count_vector):    \n",
    "    vectors = []\n",
    "    for i in range(len(count_vector.toarray())):\n",
    "        vectors.append(count_vector[i].toarray()[0])\n",
    "    vectors = np.array(vectors)\n",
    "    return vectors\n",
    "\n",
    "X_train_vectors = createVectorArr(count_vectorTrainingSet)\n",
    "X_test_vectors = createVectorArr(count_vectorTestSet)\n",
    "\n",
    "for i, ind in enumerate(training_data.index):\n",
    "    training_data['comment_text'][ind] = X_train_vectors[i]\n",
    "    \n",
    "for i, ind in enumerate(test_data.index):\n",
    "    test_data['comment_text'][ind] = X_test_vectors[i]"
   ]
  },
  {
   "cell_type": "code",
   "execution_count": null,
   "metadata": {},
   "outputs": [],
   "source": []
  },
  {
   "cell_type": "code",
   "execution_count": null,
   "metadata": {},
   "outputs": [],
   "source": []
  },
  {
   "cell_type": "code",
   "execution_count": null,
   "metadata": {},
   "outputs": [],
   "source": []
  },
  {
   "cell_type": "code",
   "execution_count": null,
   "metadata": {},
   "outputs": [],
   "source": []
  },
  {
   "cell_type": "code",
   "execution_count": 6,
   "metadata": {},
   "outputs": [],
   "source": [
    "class AdalineGD():\n",
    "    def __init__(self, learning_rate = 0.01, n_iter = 20, w = None):\n",
    "        self.w = w\n",
    "        self.learning_rate = learning_rate\n",
    "        self.n_iter = n_iter\n",
    "        \n",
    "    def CheckAccuracy(self, predictions, labels):\n",
    "        acc = 0.0\n",
    "        for i in range(len(predictions)):\n",
    "            if (predictions[i] == round(labels[i])):\n",
    "                acc += 1\n",
    "        return acc/len(predictions)\n",
    "    \n",
    "    def predict(self, X_test):\n",
    "        # Making sure that array is numpy array\n",
    "        X_test = np.array(X_test).reshape((len(X_test), -1))\n",
    "        # Using the sign function as activation function since labels are {1, -1}\n",
    "        preds = np.dot(X_test, self.w)\n",
    "        \n",
    "        for i in range(len(preds)):\n",
    "            if preds[i] <= 0:\n",
    "                preds[i] = 0\n",
    "            else:\n",
    "                preds[i] = 1\n",
    "        return preds\n",
    "        \n",
    "    def fit(self, df):\n",
    "        # Making sure that arrays are numpy arrays\n",
    "        \n",
    "        X_train = df['comment_text'].values.tolist()\n",
    "        Y_train = df['toxicity'].values.tolist()\n",
    "        \n",
    "        X_train = np.array(X_train).reshape((len(X_train), -1))\n",
    "        Y_train = np.array(Y_train).reshape((len(Y_train), 1))\n",
    "        \n",
    "        \n",
    "        # Initializing w vector using random normal distribution\n",
    "        if self.w == None:\n",
    "            self.w = np.random.normal(0, 0.1, len(X_train[0])).reshape(len(X_train[0]), 1)\n",
    "        \n",
    "        # Updating w vector for each sample\n",
    "        output = np.dot(X_train, self.w)\n",
    "        error = (Y_train - output)            \n",
    "        self.w += (1/len(Y_train)) * self.learning_rate * np.dot(X_train.T, error)\n",
    "        \n",
    "        dic = {}\n",
    "        for col in df.columns[4:]:\n",
    "            tempSet = df[df[col] == 1]\n",
    "            tempLabels = tempSet['toxicity'].values.tolist()\n",
    "            tempVecs = tempSet['comment_text'].values.tolist()\n",
    "            dic[col] = [tempVecs, tempLabels]\n",
    "        \n",
    "        # Using n epochs\n",
    "        for i in range(self.n_iter):\n",
    "            accuracies = []\n",
    "            for col in df.columns[4:]:\n",
    "                tempPredictions = self.predict(dic[col][0])\n",
    "                currentAcc = self.CheckAccuracy(tempPredictions, dic[col][1])\n",
    "                accuracies.append([currentAcc, col])\n",
    "            \n",
    "            accuracies = np.array(accuracies)\n",
    "            if i == 0:\n",
    "                print(accuracies)\n",
    "            \n",
    "            worstCol = accuracies[np.argmin(accuracies[:,0])][1]\n",
    "            print(accuracies[np.argmin(accuracies[:,0])])\n",
    "            X_train = dic[worstCol][0]\n",
    "            Y_train = dic[worstCol][1]\n",
    "            \n",
    "            X_train = np.array(X_train).reshape((len(X_train), -1))\n",
    "            Y_train = np.array(Y_train).reshape((len(Y_train), 1))\n",
    "            \n",
    "            # Updating w vector for each sample\n",
    "            output = np.dot(X_train, self.w)\n",
    "            error = (Y_train - output)\n",
    "            self.w += (1/len(Y_train)) * self.learning_rate * np.dot(X_train.T, error)\n",
    "        print(accuracies)\n",
    "        return self\n",
    "    \n",
    "    "
   ]
  },
  {
   "cell_type": "code",
   "execution_count": 7,
   "metadata": {
    "scrolled": false
   },
   "outputs": [
    {
     "name": "stdout",
     "output_type": "stream",
     "text": [
      "[['0.5473083197389886' 'male']\n",
      " ['0.5381818181818182' 'female']\n",
      " ['0.6158940397350994' 'transgender']\n",
      " ['0.6158940397350994' 'other_gender']]\n",
      "['0.5381818181818182' 'female']\n",
      "['0.5441322314049587' 'female']\n",
      "['0.5461157024793388' 'female']\n",
      "['0.5484297520661157' 'female']\n",
      "['0.5527272727272727' 'female']\n",
      "['0.5553719008264463' 'female']\n",
      "['0.5573553719008264' 'female']\n",
      "['0.5606611570247934' 'female']\n",
      "['0.5626446280991736' 'female']\n",
      "['0.5666115702479338' 'female']\n",
      "['0.5715702479338843' 'female']\n",
      "['0.572892561983471' 'female']\n",
      "['0.5742148760330579' 'female']\n",
      "['0.5748760330578513' 'female']\n",
      "['0.5778512396694215' 'female']\n",
      "['0.5798347107438017' 'female']\n",
      "['0.5823817292006526' 'male']\n",
      "['0.5828099173553719' 'female']\n",
      "['0.5874380165289256' 'female']\n",
      "['0.5894214876033058' 'female']\n",
      "[['0.5938009787928222' 'male']\n",
      " ['0.5894214876033058' 'female']\n",
      " ['0.6158940397350994' 'transgender']\n",
      " ['0.6158940397350994' 'other_gender']]\n"
     ]
    },
    {
     "data": {
      "text/plain": [
       "0.602"
      ]
     },
     "execution_count": 7,
     "metadata": {},
     "output_type": "execute_result"
    }
   ],
   "source": [
    "model = AdalineGD(learning_rate = 0.5, n_iter = 20)\n",
    "model.fit(training_data)\n",
    "predictions = model.predict(X_test_vectors)\n",
    "diller = np.array(testLabels.values.tolist())\n",
    "model.CheckAccuracy(predictions, diller)"
   ]
  },
  {
   "cell_type": "code",
   "execution_count": 16,
   "metadata": {},
   "outputs": [
    {
     "name": "stdout",
     "output_type": "stream",
     "text": [
      "372.0\n",
      "500\n",
      "351.0\n"
     ]
    }
   ],
   "source": [
    "print(np.sum(np.round(diller)))\n",
    "print(len(predictions))\n",
    "print(np.sum(predictions))"
   ]
  },
  {
   "cell_type": "code",
   "execution_count": null,
   "metadata": {},
   "outputs": [],
   "source": []
  },
  {
   "cell_type": "code",
   "execution_count": null,
   "metadata": {},
   "outputs": [],
   "source": []
  },
  {
   "cell_type": "code",
   "execution_count": null,
   "metadata": {},
   "outputs": [],
   "source": []
  },
  {
   "cell_type": "code",
   "execution_count": null,
   "metadata": {},
   "outputs": [],
   "source": []
  },
  {
   "cell_type": "code",
   "execution_count": null,
   "metadata": {},
   "outputs": [],
   "source": []
  },
  {
   "cell_type": "code",
   "execution_count": null,
   "metadata": {},
   "outputs": [],
   "source": []
  },
  {
   "cell_type": "code",
   "execution_count": null,
   "metadata": {},
   "outputs": [],
   "source": []
  },
  {
   "cell_type": "code",
   "execution_count": null,
   "metadata": {},
   "outputs": [],
   "source": []
  },
  {
   "cell_type": "code",
   "execution_count": null,
   "metadata": {},
   "outputs": [],
   "source": []
  },
  {
   "cell_type": "code",
   "execution_count": null,
   "metadata": {},
   "outputs": [],
   "source": []
  }
 ],
 "metadata": {
  "kernelspec": {
   "display_name": "Python 3",
   "language": "python",
   "name": "python3"
  },
  "language_info": {
   "codemirror_mode": {
    "name": "ipython",
    "version": 3
   },
   "file_extension": ".py",
   "mimetype": "text/x-python",
   "name": "python",
   "nbconvert_exporter": "python",
   "pygments_lexer": "ipython3",
   "version": "3.8.5"
  }
 },
 "nbformat": 4,
 "nbformat_minor": 4
}
