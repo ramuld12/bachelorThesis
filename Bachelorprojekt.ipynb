{
 "cells": [
  {
   "cell_type": "code",
   "execution_count": 69,
   "metadata": {
    "scrolled": false
   },
   "outputs": [],
   "source": [
    "import pandas as pd\n",
    "import numpy as np\n",
    "from sklearn.model_selection import train_test_split\n",
    "import re\n",
    "from sklearn.feature_extraction.text import CountVectorizer\n",
    "from wilds.common.data_loaders import get_train_loader\n",
    "import torchvision.transforms as transforms\n",
    "from sklearn.linear_model import LogisticRegression\n",
    "from gensim.models import Word2Vec\n",
    "\n",
    "def CleanText(text):\n",
    "    text = text.lower() #Turn all text entries into lower-case\n",
    "    text = re.sub(r'''(https?:\\/\\/www\\.|https?:\\/\\/)?[a-z0-9]+([\\-\\.]{1}[a-z0-9]+)*\\.[a-z]{2,3}[-a-zA-Z0-9()@:%_\\+.~#?&\\//=<>]*''', \"<URL>\", text)\n",
    "    #Replace URL with tag\n",
    "    text = re.sub(r'''[0-9]+[/\\-.]+[0-9]+[/\\-.]+[0-9]+''', \"<DATE>\", text) #Replace dates with tag\n",
    "    text = re.sub(r'''[a-z0-9._%+-]+\\@[a-z0-9.-]+[a-z0-9]\\.[a-z]{1,}''', \"<EMAIL>\", text)\n",
    "    text = re.sub(r'''[0-9]+''', \"<NUM>\", text) #Replace numbers with tag\n",
    "    \n",
    "    text = re.sub(r'''[.|,|!|?|\\'|\\''|\\\"|\\n|\\t|\\-]''', '', text)\n",
    "    text = re.sub(r'''^\\s+|\\s+$''', '', text) #Remove whitespaces at the end of string\n",
    "    text = re.sub(r'''[ ][ ]+|_''', \" \", text) #Remove multiple whitespace\n",
    "    return text\n",
    "\n",
    "def CheckAccuracy(predictions, labels):\n",
    "    acc = 0.0\n",
    "    for i in range(len(predictions)):\n",
    "        if (predictions[i] == labels[i]):\n",
    "            acc += 1\n",
    "    return acc/len(predictions)\n",
    "\n",
    "df = pd.read_csv(\"all_data_with_identities.csv\")"
   ]
  },
  {
   "cell_type": "code",
   "execution_count": 70,
   "metadata": {},
   "outputs": [],
   "source": [
    "training_data = df[df['split'] == 'train']\n",
    "test_data = df[df['split'] == 'test']\n",
    "validation_data = df[df['split'] == 'val']"
   ]
  },
  {
   "cell_type": "code",
   "execution_count": 71,
   "metadata": {},
   "outputs": [],
   "source": [
    "trainingComments = training_data['comment_text']\n",
    "trainingLabels = training_data['toxicity']\n",
    "\n",
    "testComments = test_data['comment_text']\n",
    "testLabels = test_data['toxicity']\n",
    "\n",
    "valComments = validation_data['comment_text']\n",
    "valLabels = validation_data['toxicity']\n",
    "\n",
    "\n",
    "def PrepareData(comment_text, toxicity_labels):\n",
    "    texts = []\n",
    "    labels = []\n",
    "    for txt, label in zip(comment_text, toxicity_labels):\n",
    "        if(isinstance(txt, str) and isinstance(label, float)):\n",
    "            texts.append(CleanText(txt))\n",
    "            labels.append(round(label))\n",
    "    return texts, labels\n",
    "\n",
    "X_train, Y_train = PrepareData(trainingComments, trainingLabels)\n",
    "X_test, Y_test = PrepareData(testComments, testLabels)"
   ]
  },
  {
   "cell_type": "code",
   "execution_count": 72,
   "metadata": {},
   "outputs": [
    {
     "name": "stdout",
     "output_type": "stream",
     "text": [
      "269038\n",
      "269038\n",
      "133782\n",
      "133782\n",
      "lets get the black folks and the white folks at each others throats\n"
     ]
    }
   ],
   "source": [
    "print(len(X_train))\n",
    "print(len(Y_train))\n",
    "print(len(X_test))\n",
    "print(len(Y_test))\n",
    "\n",
    "print(X_train[3])\n",
    "\n",
    "\n",
    "X_train = np.array(X_train)[:10000]\n",
    "Y_train = np.array(Y_train)[:10000]\n",
    "\n",
    "X_test = np.array(X_test)[:2000]\n",
    "Y_test = np.array(Y_test)[:2000]"
   ]
  },
  {
   "cell_type": "code",
   "execution_count": 73,
   "metadata": {},
   "outputs": [
    {
     "name": "stdout",
     "output_type": "stream",
     "text": [
      "Accuracy on TestSet:  0.7535\n"
     ]
    },
    {
     "name": "stderr",
     "output_type": "stream",
     "text": [
      "C:\\Users\\frede\\anaconda3\\lib\\site-packages\\sklearn\\linear_model\\_logistic.py:762: ConvergenceWarning: lbfgs failed to converge (status=1):\n",
      "STOP: TOTAL NO. of ITERATIONS REACHED LIMIT.\n",
      "\n",
      "Increase the number of iterations (max_iter) or scale the data as shown in:\n",
      "    https://scikit-learn.org/stable/modules/preprocessing.html\n",
      "Please also refer to the documentation for alternative solver options:\n",
      "    https://scikit-learn.org/stable/modules/linear_model.html#logistic-regression\n",
      "  n_iter_i = _check_optimize_result(\n"
     ]
    }
   ],
   "source": [
    "# Using count vectorizer with predefined stopwords\n",
    "cv = CountVectorizer(stop_words='english')\n",
    "\n",
    "# Creating vocabulary by fitting on trainingdata and transforming to the vocabulary vector\n",
    "count_vectorTrainingSet = cv.fit_transform(X_train)\n",
    "\n",
    "# Transforming test data to the vocabulary vector\n",
    "count_vectorTestSet = cv.transform(X_test)\n",
    "\n",
    "# Using the count_vector to create a matrix containing vectors of each review\n",
    "def createVectorArr(count_vector):    \n",
    "    vectors = []\n",
    "    for i in range(len(count_vector.toarray())):\n",
    "        vectors.append(count_vector[i].toarray()[0])\n",
    "    vectors = np.array(vectors)\n",
    "    return vectors\n",
    "\n",
    "X_train_vectors = createVectorArr(count_vectorTrainingSet)\n",
    "X_test_vectors = createVectorArr(count_vectorTestSet)\n",
    "\n",
    "# Using sklearn linear Logistic regression\n",
    "clf = LogisticRegression(random_state=0)\n",
    "clf.fit(X_train_vectors, Y_train)\n",
    "predictions = clf.predict(X_test_vectors)\n",
    "\n",
    "print(\"Accuracy on TestSet: \", CheckAccuracy(predictions, Y_test))\n"
   ]
  },
  {
   "cell_type": "code",
   "execution_count": null,
   "metadata": {},
   "outputs": [],
   "source": []
  },
  {
   "cell_type": "code",
   "execution_count": null,
   "metadata": {},
   "outputs": [],
   "source": []
  },
  {
   "cell_type": "code",
   "execution_count": 74,
   "metadata": {},
   "outputs": [],
   "source": [
    "class AdalineSGD():\n",
    "\n",
    "    def __init__(self, learning_rate = 0.01, n_iter = 20, shuffle = True):\n",
    "        self.w = None\n",
    "        self.learning_rate = learning_rate\n",
    "        self.n_iter = n_iter\n",
    "        self.shuffle = shuffle\n",
    "    \n",
    "    def fit(self, X_train, Y_train):\n",
    "        # Making sure that arrays are numpy arrays\n",
    "        X_train = np.array(X_train).reshape((len(X_train), -1))\n",
    "        Y_train = np.array(Y_train).reshape((len(Y_train), 1))\n",
    "        \n",
    "        # prepend a column of ones\n",
    "        ones = np.ones((X_train.shape[0], 1))\n",
    "        X_train = np.concatenate((ones, X_train), axis=1)\n",
    "        Y_train = np.array(list(map(float, Y_train)))\n",
    "        \n",
    "        # Initializing w vector using random normal distribution\n",
    "        self.w = np.random.normal(loc=0.0, scale=0.01, size=len(X_train[0]))\n",
    "        \n",
    "        # Generating a cost array for visualisation\n",
    "        self.costArr_ = []\n",
    "        \n",
    "        # Using n epochs       \n",
    "        for i in range(self.n_iter):\n",
    "            \n",
    "            # Random shuffling the training data since stochastic gradient descent\n",
    "            if self.shuffle:\n",
    "                rand = np.random.permutation(len(X_train))\n",
    "                X_train = X_train[rand]\n",
    "                Y_train = Y_train[rand]\n",
    "            \n",
    "            tempCostArr = []\n",
    "            \n",
    "            # Updating w vector for each sample         \n",
    "            for xi, label in zip(X_train, Y_train):\n",
    "                output = np.dot(xi, self.w)\n",
    "                error = (label - output)\n",
    "                self.w += self.learning_rate * np.dot(xi, error)                \n",
    "                tempCostArr.append(0.5 * error**2)\n",
    "            avg_cost = sum(tempCostArr)/len(Y_train)\n",
    "            self.costArr_.append(avg_cost)\n",
    "        return self\n",
    "    \n",
    "    def predict(self, X_test):\n",
    "        # Making sure that array is numpy array\n",
    "        X_test = np.array(X_test).reshape((len(X_test), -1))\n",
    "        \n",
    "        # Adding ones in columns\n",
    "        ones = np.ones((X_test.shape[0], 1))\n",
    "        X_test = np.concatenate((ones, X_test), axis=1)\n",
    "        \n",
    "        # Using the sign function as activation function since labels are {1, -1}\n",
    "        return np.sign(np.matmul(X_test, self.w))"
   ]
  },
  {
   "cell_type": "code",
   "execution_count": 75,
   "metadata": {},
   "outputs": [
    {
     "name": "stderr",
     "output_type": "stream",
     "text": [
      "<ipython-input-75-799f4d1db6b2>:11: VisibleDeprecationWarning: Creating an ndarray from ragged nested sequences (which is a list-or-tuple of lists-or-tuples-or ndarrays with different lengths or shapes) is deprecated. If you meant to do this, you must specify 'dtype=object' when creating the ndarray\n",
      "  X_trainForw2v = np.array(X_trainForw2v)\n",
      "<ipython-input-75-799f4d1db6b2>:12: VisibleDeprecationWarning: Creating an ndarray from ragged nested sequences (which is a list-or-tuple of lists-or-tuples-or ndarrays with different lengths or shapes) is deprecated. If you meant to do this, you must specify 'dtype=object' when creating the ndarray\n",
      "  X_testForw2v = np.array(X_testForw2v)\n"
     ]
    }
   ],
   "source": [
    "# Preparing reviews in list of lists format\n",
    "X_trainForw2v = []\n",
    "X_testForw2v = []\n",
    "\n",
    "for sentence in X_train:\n",
    "    X_trainForw2v.append(sentence.split(' '))\n",
    "\n",
    "for sentence in X_test:\n",
    "    X_testForw2v.append(sentence.split(' '))\n",
    "\n",
    "X_trainForw2v = np.array(X_trainForw2v)\n",
    "X_testForw2v = np.array(X_testForw2v)"
   ]
  },
  {
   "cell_type": "code",
   "execution_count": 108,
   "metadata": {},
   "outputs": [],
   "source": [
    "# Do not want words with overall less than 3 appearances to count, generating vector of size 200 for each word\n",
    "modelw2v = Word2Vec(X_trainForw2v, min_count=3, size=100, iter=60)"
   ]
  },
  {
   "cell_type": "code",
   "execution_count": null,
   "metadata": {},
   "outputs": [],
   "source": []
  },
  {
   "cell_type": "code",
   "execution_count": 109,
   "metadata": {},
   "outputs": [],
   "source": [
    "def TransformToEmbedding(model, data):\n",
    "    transformed = np.zeros((len(data), model.vector_size))\n",
    "    for i, sentence in enumerate(data):\n",
    "        currentLst = []\n",
    "        for word in sentence:\n",
    "            if word in model.wv.vocab.keys():\n",
    "                currentLst.append(model.wv[word])\n",
    "        if (len(currentLst) > 0):\n",
    "            currentLst = np.mean(np.array(currentLst), axis=0)\n",
    "        else:\n",
    "            currentLst = np.zeros(model.vector_size)\n",
    "        transformed[i] = np.array(currentLst)\n",
    "    return np.array(transformed)\n",
    "\n",
    "\n",
    "X_trainForw2vTransformed = TransformToEmbedding(modelw2v, X_trainForw2v)\n",
    "X_testForw2vTransformed = TransformToEmbedding(modelw2v, X_testForw2v)"
   ]
  },
  {
   "cell_type": "code",
   "execution_count": 110,
   "metadata": {},
   "outputs": [
    {
     "name": "stdout",
     "output_type": "stream",
     "text": [
      "Accuracy on TestSet:  0.7345\n"
     ]
    }
   ],
   "source": [
    "\n",
    "# Using sklearn linear Logistic regression\n",
    "clf1 = LogisticRegression(random_state=0)\n",
    "clf1.fit(X_trainForw2vTransformed, Y_train)\n",
    "predictions = clf1.predict(X_testForw2vTransformed)\n",
    "print(\"Accuracy on TestSet: \", CheckAccuracy(predictions, Y_test))\n",
    "\n"
   ]
  },
  {
   "cell_type": "code",
   "execution_count": null,
   "metadata": {},
   "outputs": [],
   "source": []
  },
  {
   "cell_type": "code",
   "execution_count": null,
   "metadata": {},
   "outputs": [],
   "source": []
  },
  {
   "cell_type": "code",
   "execution_count": null,
   "metadata": {},
   "outputs": [],
   "source": []
  },
  {
   "cell_type": "code",
   "execution_count": null,
   "metadata": {},
   "outputs": [],
   "source": []
  }
 ],
 "metadata": {
  "kernelspec": {
   "display_name": "Python 3",
   "language": "python",
   "name": "python3"
  },
  "language_info": {
   "codemirror_mode": {
    "name": "ipython",
    "version": 3
   },
   "file_extension": ".py",
   "mimetype": "text/x-python",
   "name": "python",
   "nbconvert_exporter": "python",
   "pygments_lexer": "ipython3",
   "version": "3.8.5"
  }
 },
 "nbformat": 4,
 "nbformat_minor": 4
}
