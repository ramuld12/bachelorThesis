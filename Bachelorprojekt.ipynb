{
 "cells": [
  {
   "cell_type": "code",
   "execution_count": null,
   "metadata": {},
   "outputs": [],
   "source": []
  },
  {
   "cell_type": "code",
   "execution_count": 1,
   "metadata": {
    "scrolled": false
   },
   "outputs": [],
   "source": [
    "import pandas as pd\n",
    "import numpy as np\n",
    "from sklearn.model_selection import train_test_split\n",
    "import re\n",
    "from sklearn.feature_extraction.text import CountVectorizer\n",
    "from wilds.common.data_loaders import get_train_loader\n",
    "import torchvision.transforms as transforms\n",
    "from sklearn.linear_model import LogisticRegression\n",
    "from gensim.models import Word2Vec\n",
    "\n",
    "def CleanText(text):\n",
    "    text = text.lower() #Turn all text entries into lower-case\n",
    "    text = re.sub(r'''(https?:\\/\\/www\\.|https?:\\/\\/)?[a-z0-9]+([\\-\\.]{1}[a-z0-9]+)*\\.[a-z]{2,3}[-a-zA-Z0-9()@:%_\\+.~#?&\\//=<>]*''', \"<URL>\", text)\n",
    "    #Replace URL with tag\n",
    "    text = re.sub(r'''[0-9]+[/\\-.]+[0-9]+[/\\-.]+[0-9]+''', \"<DATE>\", text) #Replace dates with tag\n",
    "    text = re.sub(r'''[a-z0-9._%+-]+\\@[a-z0-9.-]+[a-z0-9]\\.[a-z]{1,}''', \"<EMAIL>\", text)\n",
    "    text = re.sub(r'''[0-9]+''', \"<NUM>\", text) #Replace numbers with tag\n",
    "    \n",
    "    text = re.sub(r'''[.|,|!|?|\\'|\\''|\\\"|\\n|\\t|\\-]''', '', text)\n",
    "    text = re.sub(r'''^\\s+|\\s+$''', '', text) #Remove whitespaces at the end of string\n",
    "    text = re.sub(r'''[ ][ ]+|_''', \" \", text) #Remove multiple whitespace\n",
    "    return text\n",
    "\n",
    "def CheckAccuracy(predictions, labels):\n",
    "    acc = 0.0\n",
    "    for i in range(len(predictions)):\n",
    "        if (predictions[i] == labels[i]):\n",
    "            acc += 1\n",
    "    return acc/len(predictions)\n",
    "\n",
    "df = pd.read_csv(\"all_data_with_identities.csv\")"
   ]
  },
  {
   "cell_type": "code",
   "execution_count": 4,
   "metadata": {},
   "outputs": [
    {
     "data": {
      "text/plain": [
       "Unnamed: 0                                                                             0\n",
       "id                                                                                627762\n",
       "comment_text                           OH yes - Were those evil Christian Missionarie...\n",
       "split                                                                               test\n",
       "created_date                                               2016-11-26 15:56:03.862109+00\n",
       "publication_id                                                                        13\n",
       "parent_id                                                                         627198\n",
       "article_id                                                                        152737\n",
       "rating                                                                          approved\n",
       "funny                                                                                  0\n",
       "wow                                                                                    0\n",
       "sad                                                                                    0\n",
       "likes                                                                                  0\n",
       "disagree                                                                               0\n",
       "toxicity                                                                             0.8\n",
       "severe_toxicity                                                                        0\n",
       "obscene                                                                                0\n",
       "sexual_explicit                                                                        0\n",
       "identity_attack                                                                      0.7\n",
       "insult                                                                               0.5\n",
       "threat                                                                                 0\n",
       "male                                                                                   0\n",
       "female                                                                                 0\n",
       "transgender                                                                            0\n",
       "other_gender                                                                           0\n",
       "heterosexual                                                                           0\n",
       "homosexual_gay_or_lesbian                                                              0\n",
       "bisexual                                                                               0\n",
       "other_sexual_orientation                                                               0\n",
       "christian                                                                              1\n",
       "jewish                                                                                 0\n",
       "muslim                                                                                 0\n",
       "hindu                                                                                  0\n",
       "buddhist                                                                               0\n",
       "atheist                                                                                0\n",
       "other_religion                                                                         0\n",
       "black                                                                                  0\n",
       "white                                                                                  0\n",
       "asian                                                                                  0\n",
       "latino                                                                                 0\n",
       "other_race_or_ethnicity                                                                0\n",
       "physical_disability                                                                    0\n",
       "intellectual_or_learning_disability                                                    0\n",
       "psychiatric_or_mental_illness                                                          0\n",
       "other_disability                                                                       0\n",
       "identity_annotator_count                                                               4\n",
       "toxicity_annotator_count                                                              10\n",
       "LGBTQ                                                                                  0\n",
       "other_religions                                                                        0\n",
       "asian_latino_etc                                                                       0\n",
       "disability_any                                                                         0\n",
       "identity_any                                                                           1\n",
       "num_identities                                                                         1\n",
       "more_than_one_identity                                                             False\n",
       "na_gender                                                                              1\n",
       "na_orientation                                                                         1\n",
       "na_religion                                                                            0\n",
       "na_race                                                                                1\n",
       "na_disability                                                                          1\n",
       "Name: 0, dtype: object"
      ]
     },
     "execution_count": 4,
     "metadata": {},
     "output_type": "execute_result"
    }
   ],
   "source": [
    "df.loc[0]"
   ]
  },
  {
   "cell_type": "code",
   "execution_count": 20,
   "metadata": {},
   "outputs": [
    {
     "name": "stdout",
     "output_type": "stream",
     "text": [
      "Unnamed: 0                                                         2\n",
      "id                                                            416437\n",
      "comment_text                              even up here.......BLACKS!\n",
      "split                                                          train\n",
      "created_date                           2016-08-04 16:48:07.175252+00\n",
      "publication_id                                                    21\n",
      "parent_id                                                        NaN\n",
      "article_id                                                    143025\n",
      "rating                                                      rejected\n",
      "funny                                                              0\n",
      "wow                                                                0\n",
      "sad                                                                0\n",
      "likes                                                              1\n",
      "disagree                                                           0\n",
      "toxicity                                                    0.688525\n",
      "severe_toxicity                                            0.0327869\n",
      "obscene                                                    0.0491803\n",
      "sexual_explicit                                                    0\n",
      "identity_attack                                             0.639344\n",
      "insult                                                      0.213115\n",
      "threat                                                             0\n",
      "male                                                               0\n",
      "female                                                             0\n",
      "transgender                                                        0\n",
      "other_gender                                                       0\n",
      "heterosexual                                                       0\n",
      "homosexual_gay_or_lesbian                                          0\n",
      "bisexual                                                           0\n",
      "other_sexual_orientation                                           0\n",
      "christian                                                          0\n",
      "jewish                                                             0\n",
      "muslim                                                             0\n",
      "hindu                                                              0\n",
      "buddhist                                                           0\n",
      "atheist                                                            0\n",
      "other_religion                                                     0\n",
      "black                                                              1\n",
      "white                                                              0\n",
      "asian                                                              0\n",
      "latino                                                             0\n",
      "other_race_or_ethnicity                                            0\n",
      "physical_disability                                                0\n",
      "intellectual_or_learning_disability                                0\n",
      "psychiatric_or_mental_illness                                      0\n",
      "other_disability                                                   0\n",
      "identity_annotator_count                                           4\n",
      "toxicity_annotator_count                                          61\n",
      "LGBTQ                                                              0\n",
      "other_religions                                                    0\n",
      "asian_latino_etc                                                   0\n",
      "disability_any                                                     0\n",
      "identity_any                                                       1\n",
      "num_identities                                                     1\n",
      "more_than_one_identity                                         False\n",
      "na_gender                                                          1\n",
      "na_orientation                                                     1\n",
      "na_religion                                                        1\n",
      "na_race                                                            0\n",
      "na_disability                                                      1\n",
      "Name: 2, dtype: object\n"
     ]
    }
   ],
   "source": [
    "training_data = df[df['split'] == 'train']\n",
    "test_data = df[df['split'] == 'test']\n",
    "validation_data = df[df['split'] == 'val']\n",
    "\n",
    "print(training_data.loc[2])"
   ]
  },
  {
   "cell_type": "code",
   "execution_count": 23,
   "metadata": {},
   "outputs": [
    {
     "ename": "KeyError",
     "evalue": "1",
     "output_type": "error",
     "traceback": [
      "\u001b[1;31m---------------------------------------------------------------------------\u001b[0m",
      "\u001b[1;31mKeyError\u001b[0m                                  Traceback (most recent call last)",
      "\u001b[1;32m~\\anaconda3\\lib\\site-packages\\pandas\\core\\indexes\\base.py\u001b[0m in \u001b[0;36mget_loc\u001b[1;34m(self, key, method, tolerance)\u001b[0m\n\u001b[0;32m   2894\u001b[0m             \u001b[1;32mtry\u001b[0m\u001b[1;33m:\u001b[0m\u001b[1;33m\u001b[0m\u001b[1;33m\u001b[0m\u001b[0m\n\u001b[1;32m-> 2895\u001b[1;33m                 \u001b[1;32mreturn\u001b[0m \u001b[0mself\u001b[0m\u001b[1;33m.\u001b[0m\u001b[0m_engine\u001b[0m\u001b[1;33m.\u001b[0m\u001b[0mget_loc\u001b[0m\u001b[1;33m(\u001b[0m\u001b[0mcasted_key\u001b[0m\u001b[1;33m)\u001b[0m\u001b[1;33m\u001b[0m\u001b[1;33m\u001b[0m\u001b[0m\n\u001b[0m\u001b[0;32m   2896\u001b[0m             \u001b[1;32mexcept\u001b[0m \u001b[0mKeyError\u001b[0m \u001b[1;32mas\u001b[0m \u001b[0merr\u001b[0m\u001b[1;33m:\u001b[0m\u001b[1;33m\u001b[0m\u001b[1;33m\u001b[0m\u001b[0m\n",
      "\u001b[1;32mpandas\\_libs\\index.pyx\u001b[0m in \u001b[0;36mpandas._libs.index.IndexEngine.get_loc\u001b[1;34m()\u001b[0m\n",
      "\u001b[1;32mpandas\\_libs\\index.pyx\u001b[0m in \u001b[0;36mpandas._libs.index.IndexEngine.get_loc\u001b[1;34m()\u001b[0m\n",
      "\u001b[1;32mpandas\\_libs\\hashtable_class_helper.pxi\u001b[0m in \u001b[0;36mpandas._libs.hashtable.Int64HashTable.get_item\u001b[1;34m()\u001b[0m\n",
      "\u001b[1;32mpandas\\_libs\\hashtable_class_helper.pxi\u001b[0m in \u001b[0;36mpandas._libs.hashtable.Int64HashTable.get_item\u001b[1;34m()\u001b[0m\n",
      "\u001b[1;31mKeyError\u001b[0m: 1",
      "\nThe above exception was the direct cause of the following exception:\n",
      "\u001b[1;31mKeyError\u001b[0m                                  Traceback (most recent call last)",
      "\u001b[1;32m<ipython-input-23-a768054715be>\u001b[0m in \u001b[0;36m<module>\u001b[1;34m\u001b[0m\n\u001b[0;32m      4\u001b[0m  \u001b[1;31m#   print(i)\u001b[0m\u001b[1;33m\u001b[0m\u001b[1;33m\u001b[0m\u001b[1;33m\u001b[0m\u001b[0m\n\u001b[0;32m      5\u001b[0m \u001b[1;33m\u001b[0m\u001b[0m\n\u001b[1;32m----> 6\u001b[1;33m \u001b[0mprint\u001b[0m\u001b[1;33m(\u001b[0m\u001b[0mtrainingComments\u001b[0m\u001b[1;33m.\u001b[0m\u001b[0mloc\u001b[0m\u001b[1;33m[\u001b[0m\u001b[1;36m1\u001b[0m\u001b[1;33m]\u001b[0m\u001b[1;33m)\u001b[0m\u001b[1;33m\u001b[0m\u001b[1;33m\u001b[0m\u001b[0m\n\u001b[0m",
      "\u001b[1;32m~\\anaconda3\\lib\\site-packages\\pandas\\core\\indexing.py\u001b[0m in \u001b[0;36m__getitem__\u001b[1;34m(self, key)\u001b[0m\n\u001b[0;32m    877\u001b[0m \u001b[1;33m\u001b[0m\u001b[0m\n\u001b[0;32m    878\u001b[0m             \u001b[0mmaybe_callable\u001b[0m \u001b[1;33m=\u001b[0m \u001b[0mcom\u001b[0m\u001b[1;33m.\u001b[0m\u001b[0mapply_if_callable\u001b[0m\u001b[1;33m(\u001b[0m\u001b[0mkey\u001b[0m\u001b[1;33m,\u001b[0m \u001b[0mself\u001b[0m\u001b[1;33m.\u001b[0m\u001b[0mobj\u001b[0m\u001b[1;33m)\u001b[0m\u001b[1;33m\u001b[0m\u001b[1;33m\u001b[0m\u001b[0m\n\u001b[1;32m--> 879\u001b[1;33m             \u001b[1;32mreturn\u001b[0m \u001b[0mself\u001b[0m\u001b[1;33m.\u001b[0m\u001b[0m_getitem_axis\u001b[0m\u001b[1;33m(\u001b[0m\u001b[0mmaybe_callable\u001b[0m\u001b[1;33m,\u001b[0m \u001b[0maxis\u001b[0m\u001b[1;33m=\u001b[0m\u001b[0maxis\u001b[0m\u001b[1;33m)\u001b[0m\u001b[1;33m\u001b[0m\u001b[1;33m\u001b[0m\u001b[0m\n\u001b[0m\u001b[0;32m    880\u001b[0m \u001b[1;33m\u001b[0m\u001b[0m\n\u001b[0;32m    881\u001b[0m     \u001b[1;32mdef\u001b[0m \u001b[0m_is_scalar_access\u001b[0m\u001b[1;33m(\u001b[0m\u001b[0mself\u001b[0m\u001b[1;33m,\u001b[0m \u001b[0mkey\u001b[0m\u001b[1;33m:\u001b[0m \u001b[0mTuple\u001b[0m\u001b[1;33m)\u001b[0m\u001b[1;33m:\u001b[0m\u001b[1;33m\u001b[0m\u001b[1;33m\u001b[0m\u001b[0m\n",
      "\u001b[1;32m~\\anaconda3\\lib\\site-packages\\pandas\\core\\indexing.py\u001b[0m in \u001b[0;36m_getitem_axis\u001b[1;34m(self, key, axis)\u001b[0m\n\u001b[0;32m   1108\u001b[0m         \u001b[1;31m# fall thru to straight lookup\u001b[0m\u001b[1;33m\u001b[0m\u001b[1;33m\u001b[0m\u001b[1;33m\u001b[0m\u001b[0m\n\u001b[0;32m   1109\u001b[0m         \u001b[0mself\u001b[0m\u001b[1;33m.\u001b[0m\u001b[0m_validate_key\u001b[0m\u001b[1;33m(\u001b[0m\u001b[0mkey\u001b[0m\u001b[1;33m,\u001b[0m \u001b[0maxis\u001b[0m\u001b[1;33m)\u001b[0m\u001b[1;33m\u001b[0m\u001b[1;33m\u001b[0m\u001b[0m\n\u001b[1;32m-> 1110\u001b[1;33m         \u001b[1;32mreturn\u001b[0m \u001b[0mself\u001b[0m\u001b[1;33m.\u001b[0m\u001b[0m_get_label\u001b[0m\u001b[1;33m(\u001b[0m\u001b[0mkey\u001b[0m\u001b[1;33m,\u001b[0m \u001b[0maxis\u001b[0m\u001b[1;33m=\u001b[0m\u001b[0maxis\u001b[0m\u001b[1;33m)\u001b[0m\u001b[1;33m\u001b[0m\u001b[1;33m\u001b[0m\u001b[0m\n\u001b[0m\u001b[0;32m   1111\u001b[0m \u001b[1;33m\u001b[0m\u001b[0m\n\u001b[0;32m   1112\u001b[0m     \u001b[1;32mdef\u001b[0m \u001b[0m_get_slice_axis\u001b[0m\u001b[1;33m(\u001b[0m\u001b[0mself\u001b[0m\u001b[1;33m,\u001b[0m \u001b[0mslice_obj\u001b[0m\u001b[1;33m:\u001b[0m \u001b[0mslice\u001b[0m\u001b[1;33m,\u001b[0m \u001b[0maxis\u001b[0m\u001b[1;33m:\u001b[0m \u001b[0mint\u001b[0m\u001b[1;33m)\u001b[0m\u001b[1;33m:\u001b[0m\u001b[1;33m\u001b[0m\u001b[1;33m\u001b[0m\u001b[0m\n",
      "\u001b[1;32m~\\anaconda3\\lib\\site-packages\\pandas\\core\\indexing.py\u001b[0m in \u001b[0;36m_get_label\u001b[1;34m(self, label, axis)\u001b[0m\n\u001b[0;32m   1057\u001b[0m     \u001b[1;32mdef\u001b[0m \u001b[0m_get_label\u001b[0m\u001b[1;33m(\u001b[0m\u001b[0mself\u001b[0m\u001b[1;33m,\u001b[0m \u001b[0mlabel\u001b[0m\u001b[1;33m,\u001b[0m \u001b[0maxis\u001b[0m\u001b[1;33m:\u001b[0m \u001b[0mint\u001b[0m\u001b[1;33m)\u001b[0m\u001b[1;33m:\u001b[0m\u001b[1;33m\u001b[0m\u001b[1;33m\u001b[0m\u001b[0m\n\u001b[0;32m   1058\u001b[0m         \u001b[1;31m# GH#5667 this will fail if the label is not present in the axis.\u001b[0m\u001b[1;33m\u001b[0m\u001b[1;33m\u001b[0m\u001b[1;33m\u001b[0m\u001b[0m\n\u001b[1;32m-> 1059\u001b[1;33m         \u001b[1;32mreturn\u001b[0m \u001b[0mself\u001b[0m\u001b[1;33m.\u001b[0m\u001b[0mobj\u001b[0m\u001b[1;33m.\u001b[0m\u001b[0mxs\u001b[0m\u001b[1;33m(\u001b[0m\u001b[0mlabel\u001b[0m\u001b[1;33m,\u001b[0m \u001b[0maxis\u001b[0m\u001b[1;33m=\u001b[0m\u001b[0maxis\u001b[0m\u001b[1;33m)\u001b[0m\u001b[1;33m\u001b[0m\u001b[1;33m\u001b[0m\u001b[0m\n\u001b[0m\u001b[0;32m   1060\u001b[0m \u001b[1;33m\u001b[0m\u001b[0m\n\u001b[0;32m   1061\u001b[0m     \u001b[1;32mdef\u001b[0m \u001b[0m_handle_lowerdim_multi_index_axis0\u001b[0m\u001b[1;33m(\u001b[0m\u001b[0mself\u001b[0m\u001b[1;33m,\u001b[0m \u001b[0mtup\u001b[0m\u001b[1;33m:\u001b[0m \u001b[0mTuple\u001b[0m\u001b[1;33m)\u001b[0m\u001b[1;33m:\u001b[0m\u001b[1;33m\u001b[0m\u001b[1;33m\u001b[0m\u001b[0m\n",
      "\u001b[1;32m~\\anaconda3\\lib\\site-packages\\pandas\\core\\generic.py\u001b[0m in \u001b[0;36mxs\u001b[1;34m(self, key, axis, level, drop_level)\u001b[0m\n\u001b[0;32m   3489\u001b[0m             \u001b[0mloc\u001b[0m\u001b[1;33m,\u001b[0m \u001b[0mnew_index\u001b[0m \u001b[1;33m=\u001b[0m \u001b[0mself\u001b[0m\u001b[1;33m.\u001b[0m\u001b[0mindex\u001b[0m\u001b[1;33m.\u001b[0m\u001b[0mget_loc_level\u001b[0m\u001b[1;33m(\u001b[0m\u001b[0mkey\u001b[0m\u001b[1;33m,\u001b[0m \u001b[0mdrop_level\u001b[0m\u001b[1;33m=\u001b[0m\u001b[0mdrop_level\u001b[0m\u001b[1;33m)\u001b[0m\u001b[1;33m\u001b[0m\u001b[1;33m\u001b[0m\u001b[0m\n\u001b[0;32m   3490\u001b[0m         \u001b[1;32melse\u001b[0m\u001b[1;33m:\u001b[0m\u001b[1;33m\u001b[0m\u001b[1;33m\u001b[0m\u001b[0m\n\u001b[1;32m-> 3491\u001b[1;33m             \u001b[0mloc\u001b[0m \u001b[1;33m=\u001b[0m \u001b[0mself\u001b[0m\u001b[1;33m.\u001b[0m\u001b[0mindex\u001b[0m\u001b[1;33m.\u001b[0m\u001b[0mget_loc\u001b[0m\u001b[1;33m(\u001b[0m\u001b[0mkey\u001b[0m\u001b[1;33m)\u001b[0m\u001b[1;33m\u001b[0m\u001b[1;33m\u001b[0m\u001b[0m\n\u001b[0m\u001b[0;32m   3492\u001b[0m \u001b[1;33m\u001b[0m\u001b[0m\n\u001b[0;32m   3493\u001b[0m             \u001b[1;32mif\u001b[0m \u001b[0misinstance\u001b[0m\u001b[1;33m(\u001b[0m\u001b[0mloc\u001b[0m\u001b[1;33m,\u001b[0m \u001b[0mnp\u001b[0m\u001b[1;33m.\u001b[0m\u001b[0mndarray\u001b[0m\u001b[1;33m)\u001b[0m\u001b[1;33m:\u001b[0m\u001b[1;33m\u001b[0m\u001b[1;33m\u001b[0m\u001b[0m\n",
      "\u001b[1;32m~\\anaconda3\\lib\\site-packages\\pandas\\core\\indexes\\base.py\u001b[0m in \u001b[0;36mget_loc\u001b[1;34m(self, key, method, tolerance)\u001b[0m\n\u001b[0;32m   2895\u001b[0m                 \u001b[1;32mreturn\u001b[0m \u001b[0mself\u001b[0m\u001b[1;33m.\u001b[0m\u001b[0m_engine\u001b[0m\u001b[1;33m.\u001b[0m\u001b[0mget_loc\u001b[0m\u001b[1;33m(\u001b[0m\u001b[0mcasted_key\u001b[0m\u001b[1;33m)\u001b[0m\u001b[1;33m\u001b[0m\u001b[1;33m\u001b[0m\u001b[0m\n\u001b[0;32m   2896\u001b[0m             \u001b[1;32mexcept\u001b[0m \u001b[0mKeyError\u001b[0m \u001b[1;32mas\u001b[0m \u001b[0merr\u001b[0m\u001b[1;33m:\u001b[0m\u001b[1;33m\u001b[0m\u001b[1;33m\u001b[0m\u001b[0m\n\u001b[1;32m-> 2897\u001b[1;33m                 \u001b[1;32mraise\u001b[0m \u001b[0mKeyError\u001b[0m\u001b[1;33m(\u001b[0m\u001b[0mkey\u001b[0m\u001b[1;33m)\u001b[0m \u001b[1;32mfrom\u001b[0m \u001b[0merr\u001b[0m\u001b[1;33m\u001b[0m\u001b[1;33m\u001b[0m\u001b[0m\n\u001b[0m\u001b[0;32m   2898\u001b[0m \u001b[1;33m\u001b[0m\u001b[0m\n\u001b[0;32m   2899\u001b[0m         \u001b[1;32mif\u001b[0m \u001b[0mtolerance\u001b[0m \u001b[1;32mis\u001b[0m \u001b[1;32mnot\u001b[0m \u001b[1;32mNone\u001b[0m\u001b[1;33m:\u001b[0m\u001b[1;33m\u001b[0m\u001b[1;33m\u001b[0m\u001b[0m\n",
      "\u001b[1;31mKeyError\u001b[0m: 1"
     ]
    }
   ],
   "source": [
    "trainingComments = training_data['Unnamed: 0']\n",
    "\n",
    "#for i in trainingComments:\n",
    " #   print(i)\n",
    "\n",
    "print(trainingComments.loc[1])"
   ]
  },
  {
   "cell_type": "code",
   "execution_count": 5,
   "metadata": {},
   "outputs": [],
   "source": [
    "trainingComments = training_data['comment_text']\n",
    "trainingLabels = training_data['toxicity']\n",
    "\n",
    "testComments = test_data['comment_text']\n",
    "testLabels = test_data['toxicity']\n",
    "\n",
    "valComments = validation_data['comment_text']\n",
    "valLabels = validation_data['toxicity']\n",
    "\n",
    "\n",
    "\n",
    "def PrepareData(comment_text, toxicity_labels):\n",
    "    texts = []\n",
    "    labels = []\n",
    "    for txt, label in zip(comment_text, toxicity_labels):\n",
    "        if(isinstance(txt, str) and isinstance(label, float)):\n",
    "            texts.append(CleanText(txt))\n",
    "            labels.append(round(label))\n",
    "    return texts, labels\n",
    "\n",
    "X_train, Y_train = PrepareData(trainingComments, trainingLabels)\n",
    "X_test, Y_test = PrepareData(testComments, testLabels)"
   ]
  },
  {
   "cell_type": "code",
   "execution_count": null,
   "metadata": {},
   "outputs": [],
   "source": []
  },
  {
   "cell_type": "code",
   "execution_count": 7,
   "metadata": {},
   "outputs": [
    {
     "name": "stdout",
     "output_type": "stream",
     "text": [
      "10000\n",
      "10000\n",
      "2000\n",
      "2000\n",
      "you have no business making any comments on this site craig for all the bigot and racists comments that youve personally posted on this site against rural alaska natives the homeless and the lgbt community you should be banned from this site alaska and the nation dont need your kind breathing our air no its not time to move on every time you rear your bigot racist head ill be there to call you down and so should everyone else that is exposed to your garbage\n"
     ]
    }
   ],
   "source": [
    "print(len(X_train))\n",
    "print(len(Y_train))\n",
    "print(len(X_test))\n",
    "print(len(Y_test))\n",
    "\n",
    "print(X_train[2])\n",
    "\n",
    "\n",
    "X_train = np.array(X_train)[:10000]\n",
    "Y_train = np.array(Y_train)[:10000]\n",
    "\n",
    "X_test = np.array(X_test)[:2000]\n",
    "Y_test = np.array(Y_test)[:2000]"
   ]
  },
  {
   "cell_type": "code",
   "execution_count": 8,
   "metadata": {},
   "outputs": [
    {
     "name": "stderr",
     "output_type": "stream",
     "text": [
      "C:\\Users\\ramuld12\\anaconda3\\lib\\site-packages\\sklearn\\linear_model\\_logistic.py:762: ConvergenceWarning: lbfgs failed to converge (status=1):\n",
      "STOP: TOTAL NO. of ITERATIONS REACHED LIMIT.\n",
      "\n",
      "Increase the number of iterations (max_iter) or scale the data as shown in:\n",
      "    https://scikit-learn.org/stable/modules/preprocessing.html\n",
      "Please also refer to the documentation for alternative solver options:\n",
      "    https://scikit-learn.org/stable/modules/linear_model.html#logistic-regression\n",
      "  n_iter_i = _check_optimize_result(\n"
     ]
    },
    {
     "name": "stdout",
     "output_type": "stream",
     "text": [
      "Accuracy on TestSet:  0.7535\n"
     ]
    }
   ],
   "source": [
    "# Using count vectorizer with predefined stopwords\n",
    "cv = CountVectorizer(stop_words='english')\n",
    "\n",
    "# Creating vocabulary by fitting on trainingdata and transforming to the vocabulary vector\n",
    "count_vectorTrainingSet = cv.fit_transform(X_train)\n",
    "\n",
    "# Transforming test data to the vocabulary vector\n",
    "count_vectorTestSet = cv.transform(X_test)\n",
    "\n",
    "# Using the count_vector to create a matrix containing vectors of each review\n",
    "def createVectorArr(count_vector):    \n",
    "    vectors = []\n",
    "    for i in range(len(count_vector.toarray())):\n",
    "        vectors.append(count_vector[i].toarray()[0])\n",
    "    vectors = np.array(vectors)\n",
    "    return vectors\n",
    "\n",
    "X_train_vectors = createVectorArr(count_vectorTrainingSet)\n",
    "X_test_vectors = createVectorArr(count_vectorTestSet)\n",
    "\n",
    "# Using sklearn linear Logistic regression\n",
    "clf = LogisticRegression(random_state=0)\n",
    "clf.fit(X_train_vectors, Y_train)\n",
    "predictions = clf.predict(X_test_vectors)\n",
    "\n",
    "print(\"Accuracy on TestSet: \", CheckAccuracy(predictions, Y_test))\n"
   ]
  },
  {
   "cell_type": "code",
   "execution_count": null,
   "metadata": {},
   "outputs": [],
   "source": []
  },
  {
   "cell_type": "code",
   "execution_count": null,
   "metadata": {},
   "outputs": [],
   "source": []
  },
  {
   "cell_type": "code",
   "execution_count": 9,
   "metadata": {},
   "outputs": [],
   "source": [
    "class AdalineSGD():\n",
    "\n",
    "    def __init__(self, learning_rate = 0.01, n_iter = 20, shuffle = True):\n",
    "        self.w = None\n",
    "        self.learning_rate = learning_rate\n",
    "        self.n_iter = n_iter\n",
    "        self.shuffle = shuffle\n",
    "    \n",
    "    def fit(self, X_train, Y_train):\n",
    "        # Making sure that arrays are numpy arrays\n",
    "        X_train = np.array(X_train).reshape((len(X_train), -1))\n",
    "        Y_train = np.array(Y_train).reshape((len(Y_train), 1))\n",
    "        \n",
    "        # prepend a column of ones\n",
    "        ones = np.ones((X_train.shape[0], 1))\n",
    "        X_train = np.concatenate((ones, X_train), axis=1)\n",
    "        Y_train = np.array(list(map(float, Y_train)))\n",
    "        \n",
    "        # Initializing w vector using random normal distribution\n",
    "        self.w = np.random.normal(loc=0.0, scale=0.01, size=len(X_train[0]))\n",
    "        \n",
    "        # Generating a cost array for visualisation\n",
    "        self.costArr_ = []\n",
    "        \n",
    "        # Using n epochs       \n",
    "        for i in range(self.n_iter):\n",
    "            \n",
    "            # Random shuffling the training data since stochastic gradient descent\n",
    "            if self.shuffle:\n",
    "                rand = np.random.permutation(len(X_train))\n",
    "                X_train = X_train[rand]\n",
    "                Y_train = Y_train[rand]\n",
    "            \n",
    "            tempCostArr = []\n",
    "            \n",
    "            # Updating w vector for each sample         \n",
    "            for xi, label in zip(X_train, Y_train):\n",
    "                output = np.dot(xi, self.w)\n",
    "                error = (label - output)\n",
    "                self.w += self.learning_rate * np.dot(xi, error)                \n",
    "                tempCostArr.append(0.5 * error**2)\n",
    "            avg_cost = sum(tempCostArr)/len(Y_train)\n",
    "            self.costArr_.append(avg_cost)\n",
    "        return self\n",
    "    \n",
    "    def predict(self, X_test):\n",
    "        # Making sure that array is numpy array\n",
    "        X_test = np.array(X_test).reshape((len(X_test), -1))\n",
    "        \n",
    "        # Adding ones in columns\n",
    "        ones = np.ones((X_test.shape[0], 1))\n",
    "        X_test = np.concatenate((ones, X_test), axis=1)\n",
    "        \n",
    "        # Using the sign function as activation function since labels are {1, -1}\n",
    "        return np.sign(np.matmul(X_test, self.w))"
   ]
  },
  {
   "cell_type": "code",
   "execution_count": 10,
   "metadata": {},
   "outputs": [
    {
     "name": "stderr",
     "output_type": "stream",
     "text": [
      "<ipython-input-10-799f4d1db6b2>:11: VisibleDeprecationWarning: Creating an ndarray from ragged nested sequences (which is a list-or-tuple of lists-or-tuples-or ndarrays with different lengths or shapes) is deprecated. If you meant to do this, you must specify 'dtype=object' when creating the ndarray\n",
      "  X_trainForw2v = np.array(X_trainForw2v)\n",
      "<ipython-input-10-799f4d1db6b2>:12: VisibleDeprecationWarning: Creating an ndarray from ragged nested sequences (which is a list-or-tuple of lists-or-tuples-or ndarrays with different lengths or shapes) is deprecated. If you meant to do this, you must specify 'dtype=object' when creating the ndarray\n",
      "  X_testForw2v = np.array(X_testForw2v)\n"
     ]
    }
   ],
   "source": [
    "# Preparing reviews in list of lists format\n",
    "X_trainForw2v = []\n",
    "X_testForw2v = []\n",
    "\n",
    "for sentence in X_train:\n",
    "    X_trainForw2v.append(sentence.split(' '))\n",
    "\n",
    "for sentence in X_test:\n",
    "    X_testForw2v.append(sentence.split(' '))\n",
    "\n",
    "X_trainForw2v = np.array(X_trainForw2v)\n",
    "X_testForw2v = np.array(X_testForw2v)"
   ]
  },
  {
   "cell_type": "code",
   "execution_count": 11,
   "metadata": {},
   "outputs": [],
   "source": [
    "# Do not want words with overall less than 3 appearances to count, generating vector of size 200 for each word\n",
    "modelw2v = Word2Vec(X_trainForw2v, min_count=3, size=100, iter=60)"
   ]
  },
  {
   "cell_type": "code",
   "execution_count": null,
   "metadata": {},
   "outputs": [],
   "source": []
  },
  {
   "cell_type": "code",
   "execution_count": 12,
   "metadata": {},
   "outputs": [],
   "source": [
    "def TransformToEmbedding(model, data):\n",
    "    transformed = np.zeros((len(data), model.vector_size))\n",
    "    for i, sentence in enumerate(data):\n",
    "        currentLst = []\n",
    "        for word in sentence:\n",
    "            if word in model.wv.vocab.keys():\n",
    "                currentLst.append(model.wv[word])\n",
    "        if (len(currentLst) > 0):\n",
    "            currentLst = np.mean(np.array(currentLst), axis=0)\n",
    "        else:\n",
    "            currentLst = np.zeros(model.vector_size)\n",
    "        transformed[i] = np.array(currentLst)\n",
    "    return np.array(transformed)\n",
    "\n",
    "\n",
    "X_trainForw2vTransformed = TransformToEmbedding(modelw2v, X_trainForw2v)\n",
    "X_testForw2vTransformed = TransformToEmbedding(modelw2v, X_testForw2v)"
   ]
  },
  {
   "cell_type": "code",
   "execution_count": 14,
   "metadata": {},
   "outputs": [
    {
     "name": "stdout",
     "output_type": "stream",
     "text": [
      "Accuracy on TestSet:  0.7345\n"
     ]
    }
   ],
   "source": [
    "\n",
    "# Using sklearn linear Logistic regression\n",
    "clf1 = LogisticRegression(random_state=0)\n",
    "clf1.fit(X_trainForw2vTransformed, Y_train)\n",
    "predictions = clf1.predict(X_testForw2vTransformed)\n",
    "print(\"Accuracy on TestSet: \", CheckAccuracy(predictions, Y_test))\n",
    "\n"
   ]
  },
  {
   "cell_type": "code",
   "execution_count": null,
   "metadata": {},
   "outputs": [],
   "source": []
  },
  {
   "cell_type": "code",
   "execution_count": null,
   "metadata": {},
   "outputs": [],
   "source": []
  },
  {
   "cell_type": "code",
   "execution_count": null,
   "metadata": {},
   "outputs": [],
   "source": []
  },
  {
   "cell_type": "code",
   "execution_count": null,
   "metadata": {},
   "outputs": [],
   "source": []
  }
 ],
 "metadata": {
  "kernelspec": {
   "display_name": "Python 3",
   "language": "python",
   "name": "python3"
  },
  "language_info": {
   "codemirror_mode": {
    "name": "ipython",
    "version": 3
   },
   "file_extension": ".py",
   "mimetype": "text/x-python",
   "name": "python",
   "nbconvert_exporter": "python",
   "pygments_lexer": "ipython3",
   "version": "3.8.5"
  }
 },
 "nbformat": 4,
 "nbformat_minor": 4
}
