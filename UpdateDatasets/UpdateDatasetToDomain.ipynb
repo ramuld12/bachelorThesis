{
 "cells": [
  {
   "cell_type": "code",
   "execution_count": null,
   "id": "adjustable-remedy",
   "metadata": {},
   "outputs": [],
   "source": [
    "import pandas as pd\n",
    "import numpy as np\n",
    "import re"
   ]
  },
  {
   "cell_type": "code",
   "execution_count": null,
   "id": "noted-coating",
   "metadata": {},
   "outputs": [],
   "source": [
    "def CleanText(text):\n",
    "    text = re.sub(r'''[\\[|\\]]''', \"\", text).split()\n",
    "    text = np.array(text, dtype=\"float64\")\n",
    "    return text"
   ]
  },
  {
   "cell_type": "code",
   "execution_count": null,
   "id": "cloudy-update",
   "metadata": {},
   "outputs": [],
   "source": [
    "df = pd.read_csv(\"all_data_with_identities.csv\")\n",
    "df = df.loc[:, [\"comment_text\", \"split\", \"toxicity\", \"male\", \"female\", \"LGBTQ\", \"christian\", \"muslim\", \"other_religion\", \"black\", \"white\"]]\n",
    "\n",
    "df['toxicity'] = df['toxicity'].apply(lambda score: np.round(score))\n",
    "#df['comment_text'] = df['comment_text'].apply(lambda text: CleanText(text))\n",
    "\n",
    "df['male'] = df['male'].apply(lambda x: np.round(x))\n",
    "df['female'] = df['female'].apply(lambda x: np.round(x))\n",
    "df['LGBTQ'] = df['LGBTQ'].apply(lambda x: np.round(x))\n",
    "df['christian'] = df['christian'].apply(lambda x: np.round(x))\n",
    "df['muslim'] = df['muslim'].apply(lambda x: np.round(x))\n",
    "df['other_religion'] = df['other_religion'].apply(lambda x: np.round(x))\n",
    "df['black'] = df['black'].apply(lambda x: np.round(x))\n",
    "df['white'] = df['white'].apply(lambda x: np.round(x))"
   ]
  },
  {
   "cell_type": "code",
   "execution_count": null,
   "id": "parental-aspect",
   "metadata": {},
   "outputs": [],
   "source": [
    "# Updating values for training_data\n",
    "training_data = df[df['split'] == 'train']\n",
    "training_data = training_data[(training_data['male'] == 1) | (training_data['female'] == 1) | (training_data['LGBTQ'] == 1) | (training_data['christian'] == 1) | (training_data['muslim'] == 1) | (training_data['other_religion'] == 1) | (training_data['black'] == 1) | (training_data['white'] == 1)]\n",
    "\n",
    "# Getting test_data\n",
    "test_data = df[df['split'] == 'test']\n",
    "test_data = test_data[(test_data['male'] == 1) | (test_data['female'] == 1) | (test_data['LGBTQ'] == 1) | (test_data['christian'] == 1) | (test_data['muslim'] == 1) | (test_data['other_religion'] == 1) | (test_data['black'] == 1) | (test_data['white'] == 1)]\n",
    "\n",
    "# Getting validation_data\n",
    "validation_data = df[df['split'] == 'val']\n",
    "validation_data = validation_data[(validation_data['male'] == 1) | (validation_data['female'] == 1) | (validation_data['LGBTQ'] == 1) | (validation_data['christian'] == 1) | (validation_data['muslim'] == 1) | (validation_data['other_religion'] == 1) | (validation_data['black'] == 1) | (validation_data['white'] == 1)]"
   ]
  },
  {
   "cell_type": "code",
   "execution_count": null,
   "id": "bound-anthropology",
   "metadata": {},
   "outputs": [],
   "source": [
    "dataframes = [training_data, test_data, validation_data]\n",
    "newDF = pd.concat(dataframes)"
   ]
  },
  {
   "cell_type": "code",
   "execution_count": null,
   "id": "sixth-princeton",
   "metadata": {},
   "outputs": [],
   "source": [
    "newDF.to_csv(r'C:\\Users\\frede\\Desktop\\domain_data.csv', index=False, header=True)"
   ]
  },
  {
   "cell_type": "code",
   "execution_count": null,
   "id": "rotary-administrator",
   "metadata": {},
   "outputs": [],
   "source": []
  },
  {
   "cell_type": "code",
   "execution_count": null,
   "id": "tired-midnight",
   "metadata": {},
   "outputs": [],
   "source": []
  },
  {
   "cell_type": "code",
   "execution_count": null,
   "id": "ignored-moisture",
   "metadata": {},
   "outputs": [],
   "source": []
  },
  {
   "cell_type": "code",
   "execution_count": null,
   "id": "technical-terry",
   "metadata": {},
   "outputs": [],
   "source": []
  }
 ],
 "metadata": {
  "kernelspec": {
   "display_name": "Python 3",
   "language": "python",
   "name": "python3"
  },
  "language_info": {
   "codemirror_mode": {
    "name": "ipython",
    "version": 3
   },
   "file_extension": ".py",
   "mimetype": "text/x-python",
   "name": "python",
   "nbconvert_exporter": "python",
   "pygments_lexer": "ipython3",
   "version": "3.8.8"
  }
 },
 "nbformat": 4,
 "nbformat_minor": 5
}
