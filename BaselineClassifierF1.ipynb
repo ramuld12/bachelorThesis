{
 "cells": [
  {
   "cell_type": "code",
   "execution_count": 1,
   "metadata": {},
   "outputs": [
    {
     "name": "stderr",
     "output_type": "stream",
     "text": [
      "WARNING:root:The WILDS package is out of date. Your version is 1.0.0, while the latest version is 1.1.0.\n"
     ]
    }
   ],
   "source": [
    "import pandas as pd\n",
    "import numpy as np\n",
    "from sklearn.model_selection import train_test_split\n",
    "import re\n",
    "from sklearn.metrics import f1_score\n",
    "from sklearn.feature_extraction.text import CountVectorizer\n",
    "from wilds.common.data_loaders import get_train_loader\n",
    "import torchvision.transforms as transforms\n",
    "import matplotlib.pyplot as plt"
   ]
  },
  {
   "cell_type": "code",
   "execution_count": 2,
   "metadata": {},
   "outputs": [],
   "source": [
    "def CleanText(text):\n",
    "    text = re.sub(r'''[\\[|\\]]''', \"\", text).split()\n",
    "    text = np.array(text, dtype=\"float64\")\n",
    "    return text"
   ]
  },
  {
   "cell_type": "code",
   "execution_count": 3,
   "metadata": {},
   "outputs": [],
   "source": [
    "df = pd.read_csv(\"all_data_with_identitiesEmbedded.csv\")\n",
    "\n",
    "df = df.loc[:, [\"comment_text\", \"split\", \"na_gender\", \"na_race\", \"toxicity\", \"male\", \"female\", \"transgender\", \"black\", \"white\", \"asian\", \"latino\"]]\n",
    "\n",
    "df['toxicity'] = df['toxicity'].apply(lambda score: np.round(score))\n",
    "df['comment_text'] = df['comment_text'].apply(lambda text: CleanText(text))\n",
    "\n",
    "df['male'] = df['male'].apply(lambda x: round(x))\n",
    "df['female'] = df['female'].apply(lambda x: round(x))\n",
    "df['transgender'] = df['transgender'].apply(lambda x: round(x))\n",
    "df['black'] = df['black'].apply(lambda x: round(x))\n",
    "df['white'] = df['white'].apply(lambda x: round(x))\n",
    "df['asian'] = df['asian'].apply(lambda x: round(x))\n",
    "df['latino'] = df['latino'].apply(lambda x: round(x))"
   ]
  },
  {
   "cell_type": "code",
   "execution_count": 4,
   "metadata": {},
   "outputs": [],
   "source": [
    "# Updating values for training_data\n",
    "training_data = df[df['split'] == 'train']\n",
    "training_data = training_data[(training_data['na_gender'] == 0) | (training_data['na_race'] == 0)]\n",
    "\n",
    "# Getting test_data\n",
    "test_data = df[df['split'] == 'test']\n",
    "test_data = test_data[(test_data['na_gender'] == 0) | (test_data['na_race'] == 0)]\n",
    "\n",
    "# Getting validation_data\n",
    "validation_data = df[df['split'] == 'val']\n",
    "validation_data = validation_data[(validation_data['na_gender'] == 0) | (validation_data['na_race'] == 0)]"
   ]
  },
  {
   "cell_type": "code",
   "execution_count": 5,
   "metadata": {},
   "outputs": [],
   "source": [
    "X_train = training_data['comment_text'].values.tolist()\n",
    "Y_train = training_data['toxicity'].values.tolist()\n",
    "\n",
    "X_test = test_data['comment_text'].values.tolist()\n",
    "Y_test = test_data['toxicity'].values.tolist()\n",
    "\n",
    "X_val = validation_data['comment_text'].values.tolist()\n",
    "Y_val = validation_data['toxicity'].values.tolist()"
   ]
  },
  {
   "cell_type": "code",
   "execution_count": null,
   "metadata": {},
   "outputs": [],
   "source": []
  },
  {
   "cell_type": "code",
   "execution_count": 37,
   "metadata": {},
   "outputs": [],
   "source": [
    "class AdalineGDF1():\n",
    "    def __init__(self, learning_rate = 0.01, n_iter = 20, w = None):\n",
    "        self.w = w\n",
    "        self.learning_rate = learning_rate\n",
    "        self.n_iter = n_iter\n",
    "        \n",
    "    def CheckAccuracy(self, predictions, labels):\n",
    "        acc = 0.0\n",
    "        for i in range(len(predictions)):\n",
    "            if (predictions[i] == labels[i]):\n",
    "                acc += 1\n",
    "        return acc/len(predictions)\n",
    "    \n",
    "    def CheckF1Score(self, predictions, labels):\n",
    "        # As seen in https://scikit-learn.org/stable/modules/generated/sklearn.metrics.f1_score.html\n",
    "        \n",
    "        print(f1_score(labels, predictions))\n",
    "        return f1_score(labels, predictions)\n",
    "        \n",
    "    \n",
    "    def predict(self, X_test):\n",
    "        # Making sure that array is numpy array\n",
    "        X_test = np.array(X_test).reshape((len(X_test), -1))\n",
    "        output = np.dot(X_test, self.w)\n",
    "        # Sigmoid giving 0-1 results\n",
    "        \n",
    "        preds = np.round(1/(1+np.exp(-output)))\n",
    "        return preds\n",
    "    \n",
    "    def PredictTestSetDemographic(self, dfTest):\n",
    "        dic = {}\n",
    "        for col in dfTest.columns[5:]:\n",
    "            tempSet = dfTest[dfTest[col] == 1]\n",
    "            tempLabels = tempSet['toxicity'].values.tolist()\n",
    "            tempVecs = tempSet['comment_text'].values.tolist()\n",
    "            dic[col] = [tempVecs, tempLabels]\n",
    "        \n",
    "        accuracies = []\n",
    "        for col in dic:\n",
    "            tempPredictions = self.predict(dic[col][0])\n",
    "            currentAccuracy = self.CheckAccuracy(tempPredictions, dic[col][1])\n",
    "            accuracies.append([currentAccuracy, col])\n",
    "        \n",
    "        accuracies = np.array(accuracies)\n",
    "        return accuracies\n",
    "        \n",
    "    def fit(self, X_train, Y_train, X_val, Y_val):\n",
    "        # Making sure that arrays are numpy arrays\n",
    "        \n",
    "        X_train = np.array(X_train).reshape((len(X_train), -1))\n",
    "        Y_train = np.array(Y_train).reshape((len(Y_train), 1))\n",
    "        \n",
    "        X_val = np.array(X_val).reshape((len(X_val), -1))\n",
    "        Y_val = np.array(Y_val).reshape((len(Y_val), 1))\n",
    "        \n",
    "        # Initializing w vector using random normal distribution\n",
    "        if self.w == None:\n",
    "            self.w = np.random.normal(0, 0.1, len(X_train[0])).reshape(len(X_train[0]), 1)\n",
    "        \n",
    "        badEpoch = 0\n",
    "        self.bestW = self.w\n",
    "        bestF1 = 0\n",
    "        early_stopping = 10\n",
    "        \n",
    "        # Using n epochs\n",
    "        for i in range(self.n_iter):\n",
    "            output = 1/(1+np.exp(-np.dot(X_train, self.w)))\n",
    "            error = (Y_train - output)\n",
    "            self.w += (1/len(Y_train)) * self.learning_rate * np.dot(X_train.T, error)\n",
    "        \n",
    "            tmpPreds = self.predict(X_val)\n",
    "            f1 = self.CheckF1Score(tmpPreds, Y_val)\n",
    "            \n",
    "            # Saving the best model and also checks for Early_Stopping\n",
    "            if f1 > bestF1:\n",
    "                bestF1 = f1\n",
    "                badEpoch = 0\n",
    "                self.bestW = self.w\n",
    "            else:\n",
    "                badEpoch += 1\n",
    "            \n",
    "            if badEpoch >= early_stopping:\n",
    "                self.w = self.bestW                \n",
    "                print(\"Stopped cause of bad Epoch in iteration: \", i)\n",
    "                break\n",
    "                \n",
    "        return self"
   ]
  },
  {
   "cell_type": "code",
   "execution_count": 47,
   "metadata": {},
   "outputs": [
    {
     "name": "stdout",
     "output_type": "stream",
     "text": [
      "0.20393691160288546\n",
      "0.2041267501842299\n",
      "0.20281620553359686\n",
      "0.201638937174075\n",
      "0.2013724266999376\n",
      "0.20040180813661476\n",
      "0.19972225729074608\n",
      "0.19903406202338586\n",
      "0.19900370417677862\n",
      "0.19840657928553074\n",
      "0.19909502262443435\n",
      "0.19916796671866877\n",
      "Stopped cause of bad Epoch in iteration:  11\n",
      "model accuracy is:  0.4947836497349068\n",
      "0.21345522321824797\n",
      "f1_score is:  0.21345522321824797\n"
     ]
    }
   ],
   "source": [
    "model = AdalineGDF1(learning_rate = 0.0001, n_iter = 10000)\n",
    "\n",
    "model.fit(X_train, Y_train, X_val, Y_val)\n",
    "\n",
    "predictions = model.predict(X_test)\n",
    "\n",
    "Y_test = np.array(Y_test).reshape(len(Y_test), 1)\n",
    "\n",
    "print('model accuracy is: ', model.CheckAccuracy(predictions, Y_test))\n",
    "\n",
    "print('f1_score is: ', model.CheckF1Score(predictions, Y_test))"
   ]
  },
  {
   "cell_type": "code",
   "execution_count": 48,
   "metadata": {},
   "outputs": [],
   "source": [
    "class OwnF1():\n",
    "    def __init__(self, y_pred=None, y_true=None):\n",
    "        self.tp = 0\n",
    "        self.tn = 0\n",
    "        self.fp = 0\n",
    "        self.fn = 0\n",
    "        self.y_pred = y_pred\n",
    "        self.y_true = y_true\n",
    "    \n",
    "    \n",
    "    precision = 0\n",
    "    recall = 0\n",
    "    def confusion_matrix(self):\n",
    "        for i in range(len(self.y_true)):\n",
    "            if self.y_true[i]==1 and self.y_pred[i]==1:\n",
    "                self.tp += 1\n",
    "            if self.y_true[i]==0 and self.y_pred[i]==0:\n",
    "                self.tn += 1\n",
    "            if self.y_true[i]==0 and self.y_pred[i]==1:\n",
    "                self.fp += 1\n",
    "            if self.y_true[i]==1 and self.y_pred[i]==0:\n",
    "                self.fn += 1\n",
    "        return [self.tp, self.tn, self.fp, self.fn]\n",
    "    \n",
    "    def precision_recall(self):\n",
    "        self.precision = self.tp/(self.tp+self.fp)\n",
    "        self.recall = self.tp/(self.tp+self.fn)\n",
    "        print('Precision : ',self.precision, '\\nRecall : ',self.recall)\n",
    "        \n",
    "    def f1_score(self):\n",
    "        f1 = 2*(self.precision*self.recall)/(self.precision+self.recall)\n",
    "        print('F1 Score : ',f1)\n",
    "        \n"
   ]
  },
  {
   "cell_type": "code",
   "execution_count": 49,
   "metadata": {},
   "outputs": [
    {
     "name": "stdout",
     "output_type": "stream",
     "text": [
      "[2405, 14953, 15712, 2012]\n",
      "True Positives : 2405\n",
      "True Negatives : 14953\n",
      "False Positives : 15712\n",
      "False Negatives : 2012\n",
      "Precision :  0.13274824750234587 \n",
      "Recall :  0.544487208512565\n",
      "F1 Score :  0.21345522321824797\n"
     ]
    }
   ],
   "source": [
    "model = OwnF1(predictions, Y_test)\n",
    "res_list = model.confusion_matrix()\n",
    "print(res_list)\n",
    "print('True Positives :', res_list[0])\n",
    "print('True Negatives :', res_list[1])\n",
    "print('False Positives :', res_list[2])\n",
    "print('False Negatives :', res_list[3])\n",
    "model.precision_recall()\n",
    "model.f1_score()"
   ]
  },
  {
   "cell_type": "code",
   "execution_count": 53,
   "metadata": {},
   "outputs": [
    {
     "name": "stderr",
     "output_type": "stream",
     "text": [
      "<ipython-input-53-b3e39705347d>:6: MatplotlibDeprecationWarning: Using a string of single character colors as a color sequence is deprecated since 3.2 and will be removed two minor releases later. Use an explicit list instead.\n",
      "  plt.bar(x_pos, y, color='rgbkymc')\n"
     ]
    },
    {
     "data": {
      "image/png": "[encoded data removed]",
      "text/plain": [
       "<Figure size 432x288 with 1 Axes>"
      ]
     },
     "metadata": {
      "needs_background": "light"
     },
     "output_type": "display_data"
    }
   ],
   "source": [
    "forBarPlot = model.PredictTestSetDemographic(test_data)\n",
    "plt.figure()\n",
    "x = forBarPlot[:,1]\n",
    "y = np.array(forBarPlot[:,0].astype(float))\n",
    "x_pos = [i for i, _ in enumerate(x)]\n",
    "plt.bar(x_pos, y, color='rgbkymc')\n",
    "plt.xlabel(\"\\nDemographic source\")\n",
    "plt.ylabel(\"Accuracy\")\n",
    "plt.xticks(x_pos, x)\n",
    "plt.show()"
   ]
  },
  {
   "cell_type": "code",
   "execution_count": 54,
   "metadata": {},
   "outputs": [
    {
     "data": {
      "text/plain": [
       "array([['0.20224281598006386', 'male'],\n",
       "       ['0.1786521935775667', 'female'],\n",
       "       ['0.22782874617737003', 'transgender'],\n",
       "       ['0.2924131829241318', 'black'],\n",
       "       ['0.2748283148441627', 'white'],\n",
       "       ['0.1297709923664122', 'asian'],\n",
       "       ['0.2210953346855984', 'latino']], dtype='<U32')"
      ]
     },
     "execution_count": 54,
     "metadata": {},
     "output_type": "execute_result"
    }
   ],
   "source": [
    "forBarPlot"
   ]
  },
  {
   "cell_type": "code",
   "execution_count": 11,
   "metadata": {},
   "outputs": [
    {
     "data": {
      "text/plain": [
       "0.051097952823252225"
      ]
     },
     "execution_count": 11,
     "metadata": {},
     "output_type": "execute_result"
    }
   ],
   "source": [
    "np.std(forBarPlot[:,0].astype(float))"
   ]
  },
  {
   "cell_type": "code",
   "execution_count": 12,
   "metadata": {},
   "outputs": [
    {
     "name": "stdout",
     "output_type": "stream",
     "text": [
      "Antal toxic i predictions:  [527.]\n",
      "Antal toxic i test set:  [4417.]\n",
      "Samples i test set:  35082\n"
     ]
    }
   ],
   "source": [
    "print(\"Antal toxic i predictions: \", sum(predictions))\n",
    "print(\"Antal toxic i test set: \", sum(Y_test))\n",
    "print(\"Samples i test set: \", len(Y_test))"
   ]
  },
  {
   "cell_type": "code",
   "execution_count": null,
   "metadata": {},
   "outputs": [],
   "source": []
  },
  {
   "cell_type": "code",
   "execution_count": null,
   "metadata": {},
   "outputs": [],
   "source": []
  }
 ],
 "metadata": {
  "kernelspec": {
   "display_name": "Python 3",
   "language": "python",
   "name": "python3"
  },
  "language_info": {
   "codemirror_mode": {
    "name": "ipython",
    "version": 3
   },
   "file_extension": ".py",
   "mimetype": "text/x-python",
   "name": "python",
   "nbconvert_exporter": "python",
   "pygments_lexer": "ipython3",
   "version": "3.8.5"
  }
 },
 "nbformat": 4,
 "nbformat_minor": 4
}
