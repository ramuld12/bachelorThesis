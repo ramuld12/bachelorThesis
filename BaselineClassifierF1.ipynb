{
 "cells": [
  {
   "cell_type": "code",
   "execution_count": 1,
   "metadata": {},
   "outputs": [
    {
     "name": "stderr",
     "output_type": "stream",
     "text": [
      "WARNING:root:The WILDS package is out of date. Your version is 1.0.0, while the latest version is 1.1.0.\n"
     ]
    }
   ],
   "source": [
    "import pandas as pd\n",
    "import numpy as np\n",
    "from sklearn.model_selection import train_test_split\n",
    "import re\n",
    "from sklearn.metrics import f1_score\n",
    "from sklearn.feature_extraction.text import CountVectorizer\n",
    "from wilds.common.data_loaders import get_train_loader\n",
    "import torchvision.transforms as transforms\n",
    "import matplotlib.pyplot as plt"
   ]
  },
  {
   "cell_type": "code",
   "execution_count": 2,
   "metadata": {},
   "outputs": [],
   "source": [
    "def CleanText(text):\n",
    "    text = re.sub(r'''[\\[|\\]]''', \"\", text).split()\n",
    "    text = np.array(text, dtype=\"float64\")\n",
    "    return text"
   ]
  },
  {
   "cell_type": "code",
   "execution_count": 3,
   "metadata": {},
   "outputs": [],
   "source": [
    "df = pd.read_csv(\"all_data_with_identitiesEmbedded.csv\")\n",
    "\n",
    "df = df.loc[:, [\"comment_text\", \"split\", \"na_gender\", \"na_race\", \"toxicity\", \"male\", \"female\", \"transgender\", \"black\", \"white\", \"asian\", \"latino\"]]\n",
    "\n",
    "df['toxicity'] = df['toxicity'].apply(lambda score: np.round(score))\n",
    "df['comment_text'] = df['comment_text'].apply(lambda text: CleanText(text))\n",
    "\n",
    "df['male'] = df['male'].apply(lambda x: round(x))\n",
    "df['female'] = df['female'].apply(lambda x: round(x))\n",
    "df['transgender'] = df['transgender'].apply(lambda x: round(x))\n",
    "df['black'] = df['black'].apply(lambda x: round(x))\n",
    "df['white'] = df['white'].apply(lambda x: round(x))\n",
    "df['asian'] = df['asian'].apply(lambda x: round(x))\n",
    "df['latino'] = df['latino'].apply(lambda x: round(x))"
   ]
  },
  {
   "cell_type": "code",
   "execution_count": 4,
   "metadata": {},
   "outputs": [],
   "source": [
    "# Updating values for training_data\n",
    "training_data = df[df['split'] == 'train']\n",
    "training_data = training_data[(training_data['na_gender'] == 0) | (training_data['na_race'] == 0)]\n",
    "\n",
    "# Getting test_data\n",
    "test_data = df[df['split'] == 'test']\n",
    "test_data = test_data[(test_data['na_gender'] == 0) | (test_data['na_race'] == 0)]\n",
    "\n",
    "# Getting validation_data\n",
    "validation_data = df[df['split'] == 'val']\n",
    "validation_data = validation_data[(validation_data['na_gender'] == 0) | (validation_data['na_race'] == 0)]"
   ]
  },
  {
   "cell_type": "code",
   "execution_count": 5,
   "metadata": {},
   "outputs": [],
   "source": [
    "X_train = training_data['comment_text'].values.tolist()\n",
    "Y_train = training_data['toxicity'].values.tolist()\n",
    "\n",
    "X_test = test_data['comment_text'].values.tolist()\n",
    "Y_test = test_data['toxicity'].values.tolist()\n",
    "\n",
    "X_val = validation_data['comment_text'].values.tolist()\n",
    "Y_val = validation_data['toxicity'].values.tolist()"
   ]
  },
  {
   "cell_type": "code",
   "execution_count": null,
   "metadata": {},
   "outputs": [],
   "source": [
    "class OwnF1():\n",
    "    def __init__(self, y_pred=None, y_true=None):\n",
    "        self.tp = 0\n",
    "        self.tn = 0\n",
    "        self.fp = 0\n",
    "        self.fn = 0\n",
    "        self.f1 = 0\n",
    "        self.y_pred = y_pred\n",
    "        self.y_true = y_true\n",
    "    \n",
    "    precision = 0\n",
    "    recall = 0\n",
    "    def confusion_matrix(self):\n",
    "        for i in range(len(self.y_true)):\n",
    "            if self.y_true[i]==1 and self.y_pred[i]==1:\n",
    "                self.tp += 1\n",
    "            if self.y_true[i]==0 and self.y_pred[i]==0:\n",
    "                self.tn += 1\n",
    "            if self.y_true[i]==0 and self.y_pred[i]==1:\n",
    "                self.fp += 1\n",
    "            if self.y_true[i]==1 and self.y_pred[i]==0:\n",
    "                self.fn += 1\n",
    "    \n",
    "    def precision_recall(self):\n",
    "        self.confusion_matrix()\n",
    "        self.precision = self.tp/(self.tp+self.fp)\n",
    "        self.recall = self.tp/(self.tp+self.fn)\n",
    "        \n",
    "    def f1_score(self):\n",
    "        self.precision_recall()\n",
    "        self.f1 = 2*(self.precision*self.recall)/(self.precision+self.recall)\n",
    "        \n",
    "    def print_info(self):\n",
    "        print('True Positives :', self.tp)\n",
    "        print('True Negatives :', self.tn)\n",
    "        print('False Positives :',self.fp)\n",
    "        print('False Negatives :',self.fn)\n",
    "        print('Precision : ',self.precision, '\\nRecall : ',self.recall)\n",
    "        print('F1 Score : ',self.f1)"
   ]
  },
  {
   "cell_type": "code",
   "execution_count": 6,
   "metadata": {},
   "outputs": [],
   "source": [
    "class AdalineGDF1():\n",
    "    def __init__(self, learning_rate = 0.01, n_iter = 20, w = None):\n",
    "        self.w = w\n",
    "        self.learning_rate = learning_rate\n",
    "        self.n_iter = n_iter\n",
    "        \n",
    "    def CheckAccuracy(self, predictions, labels):\n",
    "        acc = 0.0\n",
    "        for i in range(len(predictions)):\n",
    "            #print(predictions[i],labels[i])\n",
    "            if (predictions[i] == labels[i]):\n",
    "                acc += 1\n",
    "        return acc/len(predictions)\n",
    "    \n",
    "    def predict(self, X_test):\n",
    "        # Making sure that array is numpy array\n",
    "        X_test = np.array(X_test).reshape((len(X_test), -1))\n",
    "        output = np.dot(X_test, self.w)\n",
    "        # Sigmoid giving 0-1 results\n",
    "        \n",
    "        preds = np.round(1/(1+np.exp(-output)))\n",
    "        return preds\n",
    "    \n",
    "    def PredictTestSetDemographic(self, dfTest):\n",
    "        dic = {}\n",
    "        for col in dfTest.columns[5:]:\n",
    "            tempSet = dfTest[dfTest[col] == 1]\n",
    "            tempLabels = tempSet['toxicity'].values.tolist()\n",
    "            tempVecs = tempSet['comment_text'].values.tolist()\n",
    "            dic[col] = [tempVecs, tempLabels]\n",
    "        \n",
    "        accuracies = []\n",
    "        for col in dic:\n",
    "            tempPredictions = self.predict(dic[col][0])\n",
    "            currentAccuracy = self.CheckAccuracy(tempPredictions, dic[col][1])\n",
    "            accuracies.append([currentAccuracy, col])\n",
    "        \n",
    "        accuracies = np.array(accuracies)\n",
    "        return accuracies\n",
    "        \n",
    "    def fit(self, X_train, Y_train, X_val, Y_val):\n",
    "        # Making sure that arrays are numpy arrays\n",
    "        \n",
    "        X_train = np.array(X_train).reshape((len(X_train), -1))\n",
    "        Y_train = np.array(Y_train).reshape((len(Y_train), 1))\n",
    "        \n",
    "        X_val = np.array(X_val).reshape((len(X_val), -1))\n",
    "        Y_val = np.array(Y_val).reshape((len(Y_val), 1))\n",
    "        \n",
    "        # Initializing w vector using random normal distribution\n",
    "        if self.w == None:\n",
    "            self.w = np.random.normal(0, 0.1, len(X_train[0])).reshape(len(X_train[0]), 1)\n",
    "        \n",
    "        badEpoch = 0\n",
    "        self.bestW = self.w\n",
    "        bestAcc = 0\n",
    "        early_stopping = 5\n",
    "        \n",
    "        # Using n epochs\n",
    "        for i in range(self.n_iter):\n",
    "            output = 1/(1+np.exp(-np.dot(X_train, self.w)))\n",
    "            error = (Y_train - output)\n",
    "            self.w += (1/len(Y_train)) * self.learning_rate * np.dot(X_train.T, error)\n",
    "        \n",
    "            tmpPreds = self.predict(X_val)\n",
    "            \n",
    "            if i == 0:     \n",
    "                print(\"---- F1 score before training ---------\")\n",
    "                self.CheckF1Score(self.predict(X_test), Y_test)\n",
    "            \n",
    "            valAcc = self.CheckAccuracy(tmpPreds, Y_val)\n",
    "            \n",
    "            # Saving the best model and also checks for Early_Stopping\n",
    "            if valAcc > bestAcc:\n",
    "                bestAcc = valAcc\n",
    "                badEpoch = 0\n",
    "                self.bestW = self.w\n",
    "            else:\n",
    "                badEpoch += 1\n",
    "            \n",
    "            if badEpoch >= early_stopping:\n",
    "                self.w = self.bestW                \n",
    "                print(\"Stopped cause of bad Epoch in iteration: \", i)\n",
    "                break\n",
    "            #Print status\n",
    "            if (i % 100) == 0:\n",
    "                print('Iteration ', i, ' Done')\n",
    "                \n",
    "        return self"
   ]
  },
  {
   "cell_type": "code",
   "execution_count": 7,
   "metadata": {},
   "outputs": [
    {
     "name": "stdout",
     "output_type": "stream",
     "text": [
      "F1_score is:  0.22037896659310555\n",
      "F1_score is:  0.22039448633005862\n",
      "F1_score is:  0.2204952380952381\n",
      "F1_score is:  0.22066229207996335\n",
      "F1_score is:  0.22072965959395513\n",
      "F1_score is:  0.2208476517754868\n",
      "F1_score is:  0.22096577017114916\n",
      "F1_score is:  0.22110014535995715\n",
      "F1_score is:  0.2211332312404288\n",
      "F1_score is:  0.22120098039215688\n",
      "F1_score is:  0.22128443182690094\n",
      "F1_score is:  0.22145434999616065\n",
      "F1_score is:  0.22152190622598\n",
      "F1_score is:  0.22167525574955776\n",
      "F1_score is:  0.22181174478565382\n",
      "F1_score is:  0.22189713581767787\n",
      "F1_score is:  0.22203284784629684\n",
      "F1_score is:  0.2221705426356589\n",
      "F1_score is:  0.22236082956494624\n",
      "F1_score is:  0.2225345514171937\n",
      "F1_score is:  0.2227462076554272\n",
      "F1_score is:  0.22288635469917423\n",
      "F1_score is:  0.2229915807695334\n",
      "F1_score is:  0.22306178669815033\n",
      "F1_score is:  0.22306238185255198\n",
      "F1_score is:  0.22320862396956245\n",
      "F1_score is:  0.2232603092783505\n",
      "Stopped cause of bad Epoch in iteration:  114\n",
      "model accuracy is:  0.24063622370446383\n",
      "f1_score is:  0.2322766570605187\n"
     ]
    }
   ],
   "source": [
    "model = AdalineGDF1(learning_rate = 0.00004, n_iter = 10000)\n",
    "\n",
    "model.fit(X_train, Y_train, X_val, Y_val)\n",
    "\n",
    "predictions = model.predict(X_test)\n",
    "\n",
    "Y_test = np.array(Y_test).reshape(len(Y_test), 1)\n",
    "\n",
    "model.CheckAccuracy(predictions, Y_test)\n",
    "\n",
    "\n",
    "print(\"---- F1 score after training ---------\")\n",
    "model.CheckF1Score(predictions, Y_test)\n"
   ]
  },
  {
   "cell_type": "code",
   "execution_count": 8,
   "metadata": {},
   "outputs": [],
   "source": [
    "\n"
   ]
  },
  {
   "cell_type": "code",
   "execution_count": null,
   "metadata": {},
   "outputs": [],
   "source": []
  },
  {
   "cell_type": "code",
   "execution_count": 10,
   "metadata": {},
   "outputs": [
    {
     "ename": "AttributeError",
     "evalue": "'OwnF1' object has no attribute 'PredictTestSetDemographic'",
     "output_type": "error",
     "traceback": [
      "\u001b[1;31m---------------------------------------------------------------------------\u001b[0m",
      "\u001b[1;31mAttributeError\u001b[0m                            Traceback (most recent call last)",
      "\u001b[1;32m<ipython-input-10-b3e39705347d>\u001b[0m in \u001b[0;36m<module>\u001b[1;34m\u001b[0m\n\u001b[1;32m----> 1\u001b[1;33m \u001b[0mforBarPlot\u001b[0m \u001b[1;33m=\u001b[0m \u001b[0mmodel\u001b[0m\u001b[1;33m.\u001b[0m\u001b[0mPredictTestSetDemographic\u001b[0m\u001b[1;33m(\u001b[0m\u001b[0mtest_data\u001b[0m\u001b[1;33m)\u001b[0m\u001b[1;33m\u001b[0m\u001b[1;33m\u001b[0m\u001b[0m\n\u001b[0m\u001b[0;32m      2\u001b[0m \u001b[0mplt\u001b[0m\u001b[1;33m.\u001b[0m\u001b[0mfigure\u001b[0m\u001b[1;33m(\u001b[0m\u001b[1;33m)\u001b[0m\u001b[1;33m\u001b[0m\u001b[1;33m\u001b[0m\u001b[0m\n\u001b[0;32m      3\u001b[0m \u001b[0mx\u001b[0m \u001b[1;33m=\u001b[0m \u001b[0mforBarPlot\u001b[0m\u001b[1;33m[\u001b[0m\u001b[1;33m:\u001b[0m\u001b[1;33m,\u001b[0m\u001b[1;36m1\u001b[0m\u001b[1;33m]\u001b[0m\u001b[1;33m\u001b[0m\u001b[1;33m\u001b[0m\u001b[0m\n\u001b[0;32m      4\u001b[0m \u001b[0my\u001b[0m \u001b[1;33m=\u001b[0m \u001b[0mnp\u001b[0m\u001b[1;33m.\u001b[0m\u001b[0marray\u001b[0m\u001b[1;33m(\u001b[0m\u001b[0mforBarPlot\u001b[0m\u001b[1;33m[\u001b[0m\u001b[1;33m:\u001b[0m\u001b[1;33m,\u001b[0m\u001b[1;36m0\u001b[0m\u001b[1;33m]\u001b[0m\u001b[1;33m.\u001b[0m\u001b[0mastype\u001b[0m\u001b[1;33m(\u001b[0m\u001b[0mfloat\u001b[0m\u001b[1;33m)\u001b[0m\u001b[1;33m)\u001b[0m\u001b[1;33m\u001b[0m\u001b[1;33m\u001b[0m\u001b[0m\n\u001b[0;32m      5\u001b[0m \u001b[0mx_pos\u001b[0m \u001b[1;33m=\u001b[0m \u001b[1;33m[\u001b[0m\u001b[0mi\u001b[0m \u001b[1;32mfor\u001b[0m \u001b[0mi\u001b[0m\u001b[1;33m,\u001b[0m \u001b[0m_\u001b[0m \u001b[1;32min\u001b[0m \u001b[0menumerate\u001b[0m\u001b[1;33m(\u001b[0m\u001b[0mx\u001b[0m\u001b[1;33m)\u001b[0m\u001b[1;33m]\u001b[0m\u001b[1;33m\u001b[0m\u001b[1;33m\u001b[0m\u001b[0m\n",
      "\u001b[1;31mAttributeError\u001b[0m: 'OwnF1' object has no attribute 'PredictTestSetDemographic'"
     ]
    }
   ],
   "source": [
    "forBarPlot = model.PredictTestSetDemographic(test_data)\n",
    "plt.figure()\n",
    "x = forBarPlot[:,1]\n",
    "y = np.array(forBarPlot[:,0].astype(float))\n",
    "x_pos = [i for i, _ in enumerate(x)]\n",
    "plt.bar(x_pos, y, color='rgbkymc')\n",
    "plt.xlabel(\"\\nDemographic source\")\n",
    "plt.ylabel(\"Accuracy\")\n",
    "plt.xticks(x_pos, x)\n",
    "plt.show()"
   ]
  },
  {
   "cell_type": "code",
   "execution_count": null,
   "metadata": {},
   "outputs": [],
   "source": [
    "forBarPlot"
   ]
  },
  {
   "cell_type": "code",
   "execution_count": null,
   "metadata": {},
   "outputs": [],
   "source": [
    "np.std(forBarPlot[:,0].astype(float))"
   ]
  },
  {
   "cell_type": "code",
   "execution_count": null,
   "metadata": {},
   "outputs": [],
   "source": [
    "print(\"Antal toxic i predictions: \", sum(predictions))\n",
    "print(\"Antal toxic i test set: \", sum(Y_test))\n",
    "print(\"Samples i test set: \", len(Y_test))"
   ]
  },
  {
   "cell_type": "code",
   "execution_count": null,
   "metadata": {},
   "outputs": [],
   "source": []
  },
  {
   "cell_type": "code",
   "execution_count": null,
   "metadata": {},
   "outputs": [],
   "source": [
    "f1_score([0,0,0], [0,0,0], zero_division=1, average='macro')"
   ]
  },
  {
   "cell_type": "code",
   "execution_count": null,
   "metadata": {},
   "outputs": [],
   "source": []
  }
 ],
 "metadata": {
  "kernelspec": {
   "display_name": "Python 3",
   "language": "python",
   "name": "python3"
  },
  "language_info": {
   "codemirror_mode": {
    "name": "ipython",
    "version": 3
   },
   "file_extension": ".py",
   "mimetype": "text/x-python",
   "name": "python",
   "nbconvert_exporter": "python",
   "pygments_lexer": "ipython3",
   "version": "3.8.5"
  }
 },
 "nbformat": 4,
 "nbformat_minor": 4
}
