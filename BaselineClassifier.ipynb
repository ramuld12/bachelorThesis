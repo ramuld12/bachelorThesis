{
 "cells": [
  {
   "cell_type": "code",
   "execution_count": 186,
   "metadata": {
    "scrolled": false
   },
   "outputs": [],
   "source": [
    "import pandas as pd\n",
    "import numpy as np\n",
    "from sklearn.model_selection import train_test_split\n",
    "import re\n",
    "from sklearn.feature_extraction.text import CountVectorizer\n",
    "from wilds.common.data_loaders import get_train_loader\n",
    "import torchvision.transforms as transforms\n",
    "import matplotlib.pyplot as plt"
   ]
  },
  {
   "cell_type": "code",
   "execution_count": 187,
   "metadata": {},
   "outputs": [],
   "source": [
    "def CleanText(text):\n",
    "    text = re.sub(r'''[\\[|\\]]''', \"\", text).split()\n",
    "    text = np.array(text, dtype=\"float64\")\n",
    "    return text"
   ]
  },
  {
   "cell_type": "code",
   "execution_count": 188,
   "metadata": {},
   "outputs": [],
   "source": [
    "df = pd.read_csv(\"all_data_with_identitiesEmbedded.csv\")\n",
    "\n",
    "df = df.loc[:, [\"comment_text\", \"split\", \"na_gender\", \"na_race\", \"toxicity\", \"male\", \"female\", \"transgender\", \"black\", \"white\", \"asian\", \"latino\"]]\n",
    "\n",
    "df['toxicity'] = df['toxicity'].apply(lambda score: np.round(score))\n",
    "df['comment_text'] = df['comment_text'].apply(lambda text: CleanText(text))\n",
    "\n",
    "df['male'] = df['male'].apply(lambda x: round(x))\n",
    "df['female'] = df['female'].apply(lambda x: round(x))\n",
    "df['transgender'] = df['transgender'].apply(lambda x: round(x))\n",
    "df['black'] = df['black'].apply(lambda x: round(x))\n",
    "df['white'] = df['white'].apply(lambda x: round(x))\n",
    "df['asian'] = df['asian'].apply(lambda x: round(x))\n",
    "df['latino'] = df['latino'].apply(lambda x: round(x))"
   ]
  },
  {
   "cell_type": "code",
   "execution_count": 189,
   "metadata": {},
   "outputs": [],
   "source": [
    "# Updating values for training_data\n",
    "training_data = df[df['split'] == 'train']\n",
    "training_data = training_data[(training_data['na_gender'] == 0) | (training_data['na_race'] == 0)]\n",
    "\n",
    "# Getting test_data\n",
    "test_data = df[df['split'] == 'test']\n",
    "test_data = test_data[(test_data['na_gender'] == 0) | (test_data['na_race'] == 0)]\n",
    "\n",
    "# Getting validation_data\n",
    "validation_data = df[df['split'] == 'val']\n",
    "validation_data = validation_data[(validation_data['na_gender'] == 0) | (validation_data['na_race'] == 0)]"
   ]
  },
  {
   "cell_type": "code",
   "execution_count": 190,
   "metadata": {},
   "outputs": [],
   "source": [
    "X_train = training_data['comment_text'].values.tolist()\n",
    "Y_train = training_data['toxicity'].values.tolist()\n",
    "\n",
    "X_test = test_data['comment_text'].values.tolist()\n",
    "Y_test = test_data['toxicity'].values.tolist()\n",
    "\n",
    "X_val = validation_data['comment_text'].values.tolist()\n",
    "Y_val = validation_data['toxicity'].values.tolist()"
   ]
  },
  {
   "cell_type": "code",
   "execution_count": 191,
   "metadata": {},
   "outputs": [],
   "source": [
    "class AdalineGD():\n",
    "    def __init__(self, learning_rate = 0.01, n_iter = 20, w = None):\n",
    "        self.w = w\n",
    "        self.learning_rate = learning_rate\n",
    "        self.n_iter = n_iter\n",
    "        \n",
    "    def CheckAccuracy(self, predictions, labels):\n",
    "        acc = 0.0\n",
    "        for i in range(len(predictions)):\n",
    "            #print(predictions[i],labels[i])\n",
    "            if (predictions[i] == labels[i]):\n",
    "                acc += 1\n",
    "        return acc/len(predictions)\n",
    "    \n",
    "    def predict(self, X_test):\n",
    "        # Making sure that array is numpy array\n",
    "        X_test = np.array(X_test).reshape((len(X_test), -1))\n",
    "        output = np.dot(X_test, self.w)\n",
    "        # Sigmoid giving 0-1 results\n",
    "        \n",
    "        preds = np.round(1/(1+np.exp(-output)))\n",
    "        return preds\n",
    "    \n",
    "    def PredictTestSetDemographic(self, dfTest):\n",
    "        dic = {}\n",
    "        for col in dfTest.columns[5:]:\n",
    "            tempSet = dfTest[dfTest[col] == 1]\n",
    "            tempLabels = tempSet['toxicity'].values.tolist()\n",
    "            tempVecs = tempSet['comment_text'].values.tolist()\n",
    "            dic[col] = [tempVecs, tempLabels]\n",
    "        \n",
    "        accuracies = []\n",
    "        for col in dic:\n",
    "            tempPredictions = self.predict(dic[col][0])\n",
    "            currentAccuracy = self.CheckAccuracy(tempPredictions, dic[col][1])\n",
    "            accuracies.append([currentAccuracy, col])\n",
    "        \n",
    "        accuracies = np.array(accuracies)\n",
    "        return accuracies\n",
    "        \n",
    "    def fit(self, X_train, Y_train, X_val, Y_val):\n",
    "        # Making sure that arrays are numpy arrays\n",
    "        \n",
    "        X_train = np.array(X_train).reshape((len(X_train), -1))\n",
    "        Y_train = np.array(Y_train).reshape((len(Y_train), 1))\n",
    "        \n",
    "        X_val = np.array(X_val).reshape((len(X_val), -1))\n",
    "        Y_val = np.array(Y_val).reshape((len(Y_val), 1))\n",
    "        \n",
    "        # Initializing w vector using random normal distribution\n",
    "        if self.w == None:\n",
    "            self.w = np.random.normal(0, 0.1, len(X_train[0])).reshape(len(X_train[0]), 1)\n",
    "        \n",
    "        badEpoch = 0\n",
    "        self.bestW = self.w\n",
    "        bestAcc = 0\n",
    "        early_stopping = 5\n",
    "        \n",
    "        # Using n epochs\n",
    "        for i in range(self.n_iter):\n",
    "            output = 1/(1+np.exp(-np.dot(X_train, self.w)))\n",
    "            error = (Y_train - output)\n",
    "            self.w += (1/len(Y_train)) * self.learning_rate * np.dot(X_train.T, error)\n",
    "        \n",
    "            tmpPreds = self.predict(X_val)\n",
    "            acc = self.CheckAccuracy(tmpPreds, Y_val)\n",
    "            \n",
    "            # Saving the best model and also checks for Early_Stopping\n",
    "            if acc > bestAcc:\n",
    "                bestAcc = acc\n",
    "                badEpoch = 0\n",
    "                self.bestW = self.w\n",
    "            else:\n",
    "                badEpoch += 1\n",
    "            \n",
    "            if badEpoch >= early_stopping:\n",
    "                self.w = self.bestW                \n",
    "                print(\"Stopped cause of bad Epoch in iteration: \", i)\n",
    "                break\n",
    "                \n",
    "        return self"
   ]
  },
  {
   "cell_type": "code",
   "execution_count": 197,
   "metadata": {
    "scrolled": false
   },
   "outputs": [
    {
     "name": "stdout",
     "output_type": "stream",
     "text": [
      "Stopped cause of bad Epoch in iteration:  123\n"
     ]
    },
    {
     "data": {
      "text/plain": [
       "0.8706459152841913"
      ]
     },
     "execution_count": 197,
     "metadata": {},
     "output_type": "execute_result"
    }
   ],
   "source": [
    "model = AdalineGD(learning_rate = 0.001, n_iter = 500)\n",
    "\n",
    "model.fit(X_train, Y_train, X_val, Y_val)\n",
    "\n",
    "predictions = model.predict(X_test)\n",
    "\n",
    "Y_test = np.array(Y_test).reshape(len(Y_test), 1)\n",
    "\n",
    "model.CheckAccuracy(predictions, Y_test)"
   ]
  },
  {
   "cell_type": "code",
   "execution_count": 198,
   "metadata": {},
   "outputs": [
    {
     "name": "stderr",
     "output_type": "stream",
     "text": [
      "<ipython-input-198-b3e39705347d>:6: MatplotlibDeprecationWarning: Using a string of single character colors as a color sequence is deprecated since 3.2 and will be removed two minor releases later. Use an explicit list instead.\n",
      "  plt.bar(x_pos, y, color='rgbkymc')\n"
     ]
    },
    {
     "data": {
      "image/png": "[encoded data removed]",
      "text/plain": [
       "<Figure size 432x288 with 1 Axes>"
      ]
     },
     "metadata": {
      "needs_background": "light"
     },
     "output_type": "display_data"
    }
   ],
   "source": [
    "forBarPlot = model.PredictTestSetDemographic(test_data)\n",
    "plt.figure()\n",
    "x = forBarPlot[:,1]\n",
    "y = np.array(forBarPlot[:,0].astype(float))\n",
    "x_pos = [i for i, _ in enumerate(x)]\n",
    "plt.bar(x_pos, y, color='rgbkymc')\n",
    "plt.xlabel(\"\\nDemographic source\")\n",
    "plt.ylabel(\"Accuracy\")\n",
    "plt.xticks(x_pos, x)\n",
    "plt.show()"
   ]
  },
  {
   "cell_type": "code",
   "execution_count": 199,
   "metadata": {},
   "outputs": [
    {
     "data": {
      "text/plain": [
       "array([['0.8916751031851102', 'male'],\n",
       "       ['0.9041157847127996', 'female'],\n",
       "       ['0.8669724770642202', 'transgender'],\n",
       "       ['0.7666445476664455', 'black'],\n",
       "       ['0.7941098784997359', 'white'],\n",
       "       ['0.9151823579304496', 'asian'],\n",
       "       ['0.845841784989858', 'latino']], dtype='<U32')"
      ]
     },
     "execution_count": 199,
     "metadata": {},
     "output_type": "execute_result"
    }
   ],
   "source": [
    "forBarPlot"
   ]
  },
  {
   "cell_type": "code",
   "execution_count": 200,
   "metadata": {},
   "outputs": [
    {
     "data": {
      "text/plain": [
       "0.05226418562779183"
      ]
     },
     "execution_count": 200,
     "metadata": {},
     "output_type": "execute_result"
    }
   ],
   "source": [
    "np.std(forBarPlot[:,0].astype(float))"
   ]
  },
  {
   "cell_type": "code",
   "execution_count": null,
   "metadata": {},
   "outputs": [],
   "source": []
  }
 ],
 "metadata": {
  "kernelspec": {
   "display_name": "Python 3",
   "language": "python",
   "name": "python3"
  },
  "language_info": {
   "codemirror_mode": {
    "name": "ipython",
    "version": 3
   },
   "file_extension": ".py",
   "mimetype": "text/x-python",
   "name": "python",
   "nbconvert_exporter": "python",
   "pygments_lexer": "ipython3",
   "version": "3.8.5"
  }
 },
 "nbformat": 4,
 "nbformat_minor": 4
}
