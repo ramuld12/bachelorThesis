{
 "cells": [
  {
   "cell_type": "code",
   "execution_count": 5,
   "metadata": {
    "scrolled": false
   },
   "outputs": [],
   "source": [
    "import pandas as pd\n",
    "import numpy as np\n",
    "from sklearn.model_selection import train_test_split\n",
    "import re\n",
    "from sklearn.feature_extraction.text import CountVectorizer\n",
    "from wilds.common.data_loaders import get_train_loader\n",
    "import torchvision.transforms as transforms\n",
    "from sklearn.linear_model import LogisticRegression\n",
    "\n",
    "\n"
   ]
  },
  {
   "cell_type": "code",
   "execution_count": 6,
   "metadata": {},
   "outputs": [],
   "source": [
    "df = pd.read_csv(\"all_data_with_identitiesEmbedded.csv\")"
   ]
  },
  {
   "cell_type": "code",
   "execution_count": 7,
   "metadata": {},
   "outputs": [],
   "source": [
    "def CleanText(text):\n",
    "    text = re.sub(r'''[\\[|\\]]''', \"\", text).split()\n",
    "    text = np.array(text, dtype=\"float64\")\n",
    "    return text\n"
   ]
  },
  {
   "cell_type": "code",
   "execution_count": 8,
   "metadata": {},
   "outputs": [],
   "source": [
    "df = pd.read_csv(\"all_data_with_identitiesEmbedded.csv\")\n",
    "\n",
    "df = df.loc[:, [\"comment_text\", \"split\", \"toxicity\"]]\n",
    "df['toxicity'] = df['toxicity'].apply(lambda score: np.round(score))\n",
    "df['comment_text'] = df['comment_text'].apply(lambda text: CleanText(text))\n"
   ]
  },
  {
   "cell_type": "code",
   "execution_count": 9,
   "metadata": {},
   "outputs": [],
   "source": [
    "# Updating values for training_data\n",
    "training_data = df[df['split'] == 'train']\n",
    "\n",
    "# Getting test_data\n",
    "test_data = df[df['split'] == 'test']\n",
    "\n",
    "# Getting validation_data\n",
    "validation_data = df[df['split'] == 'val']"
   ]
  },
  {
   "cell_type": "code",
   "execution_count": 12,
   "metadata": {},
   "outputs": [],
   "source": [
    "X_train = training_data['comment_text'].values.tolist()\n",
    "Y_train = training_data['toxicity'].values.tolist()\n",
    "\n",
    "X_test = test_data['comment_text'].values.tolist()\n",
    "Y_test = test_data['toxicity'].values.tolist()\n",
    "\n",
    "X_val = validation_data['comment_text'].values.tolist()\n",
    "Y_val = validation_data['toxicity'].values.tolist()"
   ]
  },
  {
   "cell_type": "code",
   "execution_count": 101,
   "metadata": {},
   "outputs": [],
   "source": [
    "class AdalineGD():\n",
    "    def __init__(self, learning_rate = 0.01, n_iter = 20, w = None):\n",
    "        self.w = w\n",
    "        self.learning_rate = learning_rate\n",
    "        self.n_iter = n_iter\n",
    "        \n",
    "    def CheckAccuracy(self, predictions, labels):\n",
    "        acc = 0.0\n",
    "        for i in range(len(predictions)):\n",
    "            #print(predictions[i],labels[i])\n",
    "            if (predictions[i] == labels[i]):\n",
    "                acc += 1\n",
    "        return acc/len(predictions)\n",
    "    \n",
    "    def predict(self, X_test):\n",
    "        # Making sure that array is numpy array\n",
    "        X_test = np.array(X_test).reshape((len(X_test), -1))\n",
    "        output = np.dot(X_test, self.w)\n",
    "        # Sigmoid giving 0-1 results\n",
    "        \n",
    "        preds = np.round(1/(1+np.exp(-output)))\n",
    "        return preds\n",
    "        \n",
    "    def fit(self, X_train, Y_train, X_val, Y_val):\n",
    "        # Making sure that arrays are numpy arrays\n",
    "        \n",
    "        X_train = np.array(X_train).reshape((len(X_train), -1))\n",
    "        Y_train = np.array(Y_train).reshape((len(Y_train), 1))\n",
    "        \n",
    "        X_val = np.array(X_val).reshape((len(X_val), -1))\n",
    "        Y_val = np.array(Y_val).reshape((len(Y_val), 1))\n",
    "        \n",
    "        # Initializing w vector using random normal distribution\n",
    "        if self.w == None:\n",
    "            self.w = np.random.normal(0, 0.1, len(X_train[0])).reshape(len(X_train[0]), 1)\n",
    "        \n",
    "        badEpoch = 0\n",
    "        self.bestW = self.w\n",
    "        bestAcc = 0\n",
    "        early_stopping = 5\n",
    "        \n",
    "        # Using n epochs\n",
    "        for i in range(self.n_iter):\n",
    "            output = 1/(1+np.exp(-np.dot(X_train, self.w)))\n",
    "            error = (Y_train - output)\n",
    "            self.w += (1/len(Y_train)) * self.learning_rate * np.dot(X_train.T, error)\n",
    "        \n",
    "            tmpPreds = self.predict(X_val)\n",
    "            acc = self.CheckAccuracy(tmpPreds, Y_val)\n",
    "            \n",
    "            #print(acc)\n",
    "            \n",
    "            # Saving the best model and also checks for Early_Stopping\n",
    "            if acc > bestAcc:\n",
    "                bestAcc = acc\n",
    "                badEpoch = 0\n",
    "                self.bestW = self.w\n",
    "            else:\n",
    "                badEpoch += 1\n",
    "            \n",
    "            if badEpoch >= early_stopping:\n",
    "                self.w = self.bestW                \n",
    "                print(\"Stopped cause of bad Epoch in iteration: \", i)\n",
    "                break\n",
    "                \n",
    "        return self"
   ]
  },
  {
   "cell_type": "code",
   "execution_count": null,
   "metadata": {
    "scrolled": false
   },
   "outputs": [],
   "source": [
    "model = AdalineGD(learning_rate = 0.0002, n_iter = 10000)\n",
    "\n",
    "model.fit(X_train, Y_train, X_val, Y_val)\n",
    "\n",
    "predictions = model.predict(X_test)\n",
    "\n",
    "print(predictions)\n",
    "Y_test = np.array(Y_test).reshape(len(Y_test), 1)\n",
    "print(Y_test)\n",
    "model.CheckAccuracy(predictions, Y_test)"
   ]
  },
  {
   "cell_type": "code",
   "execution_count": 107,
   "metadata": {},
   "outputs": [
    {
     "data": {
      "text/plain": [
       "array([1196.])"
      ]
     },
     "execution_count": 107,
     "metadata": {},
     "output_type": "execute_result"
    }
   ],
   "source": [
    "sum(predictions)"
   ]
  },
  {
   "cell_type": "code",
   "execution_count": 108,
   "metadata": {},
   "outputs": [
    {
     "data": {
      "text/plain": [
       "array([10840.])"
      ]
     },
     "execution_count": 108,
     "metadata": {},
     "output_type": "execute_result"
    }
   ],
   "source": [
    "sum(Y_test)"
   ]
  },
  {
   "cell_type": "code",
   "execution_count": 109,
   "metadata": {},
   "outputs": [
    {
     "data": {
      "text/plain": [
       "133782"
      ]
     },
     "execution_count": 109,
     "metadata": {},
     "output_type": "execute_result"
    }
   ],
   "source": [
    "len(Y_test)"
   ]
  },
  {
   "cell_type": "code",
   "execution_count": 110,
   "metadata": {},
   "outputs": [
    {
     "data": {
      "text/plain": [
       "21607.0"
      ]
     },
     "execution_count": 110,
     "metadata": {},
     "output_type": "execute_result"
    }
   ],
   "source": [
    "sum(Y_train)"
   ]
  },
  {
   "cell_type": "code",
   "execution_count": null,
   "metadata": {},
   "outputs": [],
   "source": []
  },
  {
   "cell_type": "code",
   "execution_count": null,
   "metadata": {},
   "outputs": [],
   "source": []
  },
  {
   "cell_type": "code",
   "execution_count": null,
   "metadata": {},
   "outputs": [],
   "source": []
  },
  {
   "cell_type": "code",
   "execution_count": null,
   "metadata": {},
   "outputs": [],
   "source": []
  },
  {
   "cell_type": "code",
   "execution_count": null,
   "metadata": {},
   "outputs": [],
   "source": []
  },
  {
   "cell_type": "code",
   "execution_count": null,
   "metadata": {},
   "outputs": [],
   "source": []
  },
  {
   "cell_type": "code",
   "execution_count": null,
   "metadata": {},
   "outputs": [],
   "source": []
  }
 ],
 "metadata": {
  "kernelspec": {
   "display_name": "Python 3",
   "language": "python",
   "name": "python3"
  },
  "language_info": {
   "codemirror_mode": {
    "name": "ipython",
    "version": 3
   },
   "file_extension": ".py",
   "mimetype": "text/x-python",
   "name": "python",
   "nbconvert_exporter": "python",
   "pygments_lexer": "ipython3",
   "version": "3.8.5"
  }
 },
 "nbformat": 4,
 "nbformat_minor": 4
}
