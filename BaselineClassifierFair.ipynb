{
 "cells": [
  {
   "cell_type": "code",
   "execution_count": 126,
   "metadata": {},
   "outputs": [],
   "source": [
    "import pandas as pd\n",
    "import numpy as np\n",
    "from sklearn.model_selection import train_test_split\n",
    "import re\n",
    "from sklearn.feature_extraction.text import CountVectorizer\n",
    "from wilds.common.data_loaders import get_train_loader\n",
    "import torchvision.transforms as transforms\n",
    "from sklearn.linear_model import LogisticRegression\n",
    "\n",
    "\n",
    "df = pd.read_csv(\"all_data_with_identitiesEmbedded.csv\")"
   ]
  },
  {
   "cell_type": "code",
   "execution_count": 127,
   "metadata": {},
   "outputs": [],
   "source": [
    "def CleanText(text):\n",
    "    text = re.sub(r'''[\\[|\\]]''', \"\", text).split()\n",
    "    text = np.array(text, dtype=\"float64\")\n",
    "    return text"
   ]
  },
  {
   "cell_type": "code",
   "execution_count": 128,
   "metadata": {},
   "outputs": [],
   "source": [
    "df = pd.read_csv(\"all_data_with_identitiesEmbedded.csv\")\n",
    "\n",
    "df = df.loc[:, [\"comment_text\", \"split\", \"na_gender\", \"toxicity\", \"male\", \"female\", \"transgender\"]]\n",
    "df['toxicity'] = df['toxicity'].apply(lambda score: np.round(score))\n",
    "df['comment_text'] = df['comment_text'].apply(lambda text: CleanText(text))\n",
    "\n",
    "df['male'] = df['male'].apply(lambda x: round(x))\n",
    "df['female'] = df['female'].apply(lambda x: round(x))\n",
    "df['transgender'] = df['transgender'].apply(lambda x: round(x))"
   ]
  },
  {
   "cell_type": "code",
   "execution_count": 129,
   "metadata": {},
   "outputs": [],
   "source": [
    "# Updating values for training_data\n",
    "training_data = df[df['split'] == 'train']\n",
    "training_data = training_data[training_data['na_gender'] == 0]\n",
    "\n",
    "# Getting test_data\n",
    "test_data = df[df['split'] == 'test']\n",
    "test_data = test_data[test_data['na_gender'] == 0]\n",
    "\n",
    "# Getting validation_data\n",
    "validation_data = df[df['split'] == 'val']\n",
    "validation_data = validation_data[validation_data['na_gender'] == 0]"
   ]
  },
  {
   "cell_type": "code",
   "execution_count": 130,
   "metadata": {},
   "outputs": [],
   "source": [
    "X_train = training_data['comment_text'].values.tolist()\n",
    "Y_train = training_data['toxicity'].values.tolist()\n",
    "\n",
    "X_test = test_data['comment_text'].values.tolist()\n",
    "Y_test = test_data['toxicity'].values.tolist()\n",
    "\n",
    "X_val = validation_data['comment_text'].values.tolist()\n",
    "Y_val = validation_data['toxicity'].values.tolist()"
   ]
  },
  {
   "cell_type": "code",
   "execution_count": 148,
   "metadata": {},
   "outputs": [],
   "source": [
    "class AdalineGDTrainWorst():\n",
    "    def __init__(self, learning_rate = 0.01, n_iter = 20, w = None):\n",
    "        self.w = w\n",
    "        self.bestW = None\n",
    "        self.learning_rate = learning_rate\n",
    "        self.n_iter = n_iter\n",
    "        \n",
    "    def CheckAccuracy(self, predictions, labels):\n",
    "        acc = 0.0\n",
    "        for i in range(len(predictions)):\n",
    "            if (np.round(predictions[i]) == np.round(labels[i])):\n",
    "                acc += 1\n",
    "        return acc/len(predictions)\n",
    "    \n",
    "    def predict(self, X_test):\n",
    "        # Making sure that array is numpy array\n",
    "        X_test = np.array(X_test).reshape((len(X_test), -1))\n",
    "        output = np.dot(X_test, self.w)\n",
    "        # Sigmoid giving 0-1 results\n",
    "        preds = np.round(1/(1+np.exp(-output)))\n",
    "        return preds\n",
    "    \n",
    "    def PredictTestSetDemographic(self, dfTest):\n",
    "        dic = {}\n",
    "        for col in dfTest.columns[4:]:\n",
    "            tempSet = dfTest[dfTest[col] == 1]\n",
    "            tempLabels = tempSet['toxicity'].values.tolist()\n",
    "            tempVecs = tempSet['comment_text'].values.tolist()\n",
    "            dic[col] = [tempVecs, tempLabels]\n",
    "        \n",
    "        accuracies = []\n",
    "        for col in dic:\n",
    "            tempPredictions = self.predict(dic[col][0])\n",
    "            currentAccuracy = self.CheckAccuracy(tempPredictions, dic[col][1])\n",
    "            accuracies.append([currentAccuracy, col])\n",
    "        \n",
    "        accuracies = np.array(accuracies)\n",
    "        return accuracies\n",
    "    \n",
    "        \n",
    "    def fit(self, dfTrain, dfVal):\n",
    "        # Making sure that arrays are numpy arrays\n",
    "        \n",
    "        X_train = dfTrain['comment_text'].values.tolist()\n",
    "        Y_train = dfTrain['toxicity'].values.tolist()\n",
    "        \n",
    "        X_train = np.array(X_train).reshape((len(X_train), -1))\n",
    "        Y_train = np.array(Y_train).reshape((len(Y_train), 1))\n",
    "        \n",
    "        X_val = dfVal['comment_text'].values.tolist()\n",
    "        Y_val = dfVal['toxicity'].values.tolist()\n",
    "        \n",
    "        X_val = np.array(X_val).reshape((len(X_val), -1))\n",
    "        Y_val = np.array(Y_val).reshape((len(Y_val), 1))\n",
    "        \n",
    "        # Initializing w vector using random normal distribution\n",
    "        if self.w == None:\n",
    "            self.w = np.random.normal(0, 0.1, len(X_train[0])).reshape(len(X_train[0]), 1)\n",
    "        \n",
    "        # Updating w vector for each sample\n",
    "        output = 1/(1+np.exp(-np.dot(X_train, self.w)))\n",
    "        error = (Y_train - output)            \n",
    "        self.w += (1/len(Y_train)) * self.learning_rate * np.dot(X_train.T, error)\n",
    "        \n",
    "        dic = {}\n",
    "        for col in dfTrain.columns[4:]:\n",
    "            tempSet = dfTrain[dfTrain[col] == 1]\n",
    "            tempLabels = tempSet['toxicity'].values.tolist()\n",
    "            tempVecs = tempSet['comment_text'].values.tolist()\n",
    "            dic[col] = [tempVecs, tempLabels]\n",
    "        \n",
    "        valPreds = self.predict(X_val)\n",
    "        bestAcc = self.CheckAccuracy(valPreds, Y_val)\n",
    "\n",
    "        badEpoch = 0\n",
    "        self.bestW = self.w\n",
    "        early_stopping = 5\n",
    "        \n",
    "        self.FinalAccList_ = []\n",
    "        \n",
    "        # Using n epochs\n",
    "        for i in range(self.n_iter):\n",
    "            accuracies = []\n",
    "            for col in dfTrain.columns[4:]:\n",
    "                tempPredictions = self.predict(dic[col][0])\n",
    "                currentAccuracy = self.CheckAccuracy(tempPredictions, dic[col][1])\n",
    "                accuracies.append([currentAccuracy, col])\n",
    "            accuracies = np.array(accuracies)\n",
    "            \n",
    "            if i == 0:                \n",
    "                print(accuracies)\n",
    "            \n",
    "            worstCol = accuracies[np.argmin(accuracies[:,0])][1]\n",
    "            \n",
    "            X_train = dic[worstCol][0]\n",
    "            Y_train = dic[worstCol][1]\n",
    "            \n",
    "            X_train = np.array(X_train).reshape((len(X_train), -1))\n",
    "            Y_train = np.array(Y_train).reshape((len(Y_train), 1))\n",
    "            \n",
    "            # Updating w vector for each sample\n",
    "            output = 1/(1+np.exp(-np.dot(X_train, self.w)))\n",
    "            error = (Y_train - output)\n",
    "            self.w += (1/len(Y_train)) * self.learning_rate * np.dot(X_train.T, error)\n",
    "            \n",
    "            valPreds = self.predict(X_val)\n",
    "            acc = self.CheckAccuracy(valPreds, Y_val)\n",
    "            \n",
    "            self.FinalAccList_.append((acc, worstCol, i))\n",
    "                        \n",
    "            # Saving the best model and also checks for Early_Stopping\n",
    "            if acc > bestAcc:\n",
    "                bestAcc = acc\n",
    "                badEpoch = 0\n",
    "                self.bestW = self.w\n",
    "            else:\n",
    "                badEpoch += 1\n",
    "\n",
    "            if badEpoch >= early_stopping:\n",
    "                self.w = self.bestW\n",
    "                accuracies = []\n",
    "                for col in dfTrain.columns[4:]:\n",
    "                    tempPredictions = self.predict(dic[col][0])\n",
    "                    currentAccuracy = self.CheckAccuracy(tempPredictions, dic[col][1])\n",
    "                    accuracies.append([currentAccuracy, col])\n",
    "                accuracies = np.array(accuracies)\n",
    "                print(accuracies)\n",
    "                \n",
    "                print(\"Stopped cause of bad Epoch in iteration: \", i)\n",
    "                break\n",
    "        self.FinalAccList_ = np.array(self.FinalAccList_)\n",
    "        return self"
   ]
  },
  {
   "cell_type": "code",
   "execution_count": 149,
   "metadata": {
    "scrolled": true
   },
   "outputs": [
    {
     "name": "stdout",
     "output_type": "stream",
     "text": [
      "[['0.89454897003049' 'male']\n",
      " ['0.9041539134236992' 'female']\n",
      " ['0.8695941450432468' 'transgender']]\n",
      "[['0.8945117870156912' 'male']\n",
      " ['0.9041247631540592' 'female']\n",
      " ['0.8689288090485695' 'transgender']]\n",
      "Stopped cause of bad Epoch in iteration:  4\n",
      "Accuracy on testSet after round 0.8933464180569185\n"
     ]
    }
   ],
   "source": [
    "model = AdalineGDTrainWorst(learning_rate = 0.0001, n_iter = 1000)\n",
    "\n",
    "model.fit(training_data, validation_data)\n",
    "\n",
    "predictions = model.predict(X_test)\n",
    "\n",
    "Y_test = np.array(Y_test).reshape(len(Y_test), 1)\n",
    "\n",
    "model.CheckAccuracy(predictions, Y_test)\n",
    "\n",
    "\n",
    "\n",
    "\n",
    "print(\"Accuracy on testSet after round\", model.CheckAccuracy(predictions, Y_test))\n"
   ]
  },
  {
   "cell_type": "code",
   "execution_count": 150,
   "metadata": {},
   "outputs": [
    {
     "data": {
      "text/plain": [
       "array([['0.8917529787399735', 'male'],\n",
       "       ['0.9030173806293209', 'female'],\n",
       "       ['0.8685015290519877', 'transgender']], dtype='<U32')"
      ]
     },
     "execution_count": 150,
     "metadata": {},
     "output_type": "execute_result"
    }
   ],
   "source": []
  },
  {
   "cell_type": "code",
   "execution_count": 152,
   "metadata": {},
   "outputs": [
    {
     "data": {
      "image/png": "[encoded data removed]",
      "text/plain": [
       "<Figure size 432x288 with 1 Axes>"
      ]
     },
     "metadata": {
      "needs_background": "light"
     },
     "output_type": "display_data"
    }
   ],
   "source": [
    "forBarPlot = model.PredictTestSetDemographic(test_data)\n",
    "\n",
    "x = forBarPlot\n",
    "energy = [5, 6, 15, 22, 24, 8]\n",
    "\n",
    "x_pos = [i for i, _ in enumerate(x)]\n",
    "\n",
    "plt.bar(x_pos, energy, color='green')\n",
    "plt.xlabel(\"Energy Source\")\n",
    "plt.ylabel(\"Energy Output (GJ)\")\n",
    "plt.title(\"Energy output from various fuel sources\")\n",
    "\n",
    "plt.xticks(x_pos, x)\n",
    "\n",
    "plt.show()"
   ]
  },
  {
   "cell_type": "code",
   "execution_count": 136,
   "metadata": {},
   "outputs": [],
   "source": [
    "# Rodet\n",
    "lstlst = []\n",
    "for k in np.unique(model.FinalAccList_[:,1]):\n",
    "    tmpLst = []\n",
    "    for i in model.FinalAccList_:\n",
    "        if k == i[1]:\n",
    "            tmpLst.append([i[0], i[2], i[1]])\n",
    "    lstlst.append(np.array(tmpLst))"
   ]
  },
  {
   "cell_type": "code",
   "execution_count": 137,
   "metadata": {},
   "outputs": [
    {
     "data": {
      "image/png": "[encoded data removed]",
      "text/plain": [
       "<Figure size 432x288 with 1 Axes>"
      ]
     },
     "metadata": {
      "needs_background": "light"
     },
     "output_type": "display_data"
    }
   ],
   "source": [
    "import matplotlib.pyplot as plt\n",
    "\n",
    "\n",
    "plt.figure()\n",
    "for lst in lstlst:\n",
    "    plt.scatter(np.array(lst[:,1]).astype(int), np.array(lst[:,0]).astype(np.float), label=lst[:,2][0])\n",
    "\n",
    "plt.xlabel('Iteration')\n",
    "plt.ylabel('Accuracy')\n",
    "plt.title('Fair classifier')\n",
    "plt.legend(loc='upper left')\n",
    "plt.show()\n",
    "\n"
   ]
  },
  {
   "cell_type": "code",
   "execution_count": null,
   "metadata": {},
   "outputs": [],
   "source": []
  },
  {
   "cell_type": "code",
   "execution_count": null,
   "metadata": {},
   "outputs": [],
   "source": []
  },
  {
   "cell_type": "code",
   "execution_count": null,
   "metadata": {},
   "outputs": [],
   "source": []
  },
  {
   "cell_type": "code",
   "execution_count": null,
   "metadata": {},
   "outputs": [],
   "source": []
  }
 ],
 "metadata": {
  "kernelspec": {
   "display_name": "Python 3",
   "language": "python",
   "name": "python3"
  },
  "language_info": {
   "codemirror_mode": {
    "name": "ipython",
    "version": 3
   },
   "file_extension": ".py",
   "mimetype": "text/x-python",
   "name": "python",
   "nbconvert_exporter": "python",
   "pygments_lexer": "ipython3",
   "version": "3.8.5"
  }
 },
 "nbformat": 4,
 "nbformat_minor": 4
}
