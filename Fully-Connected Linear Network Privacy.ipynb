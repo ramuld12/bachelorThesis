{
 "cells": [
  {
   "cell_type": "code",
   "execution_count": 21,
   "metadata": {},
   "outputs": [],
   "source": [
    "import pandas as pd\n",
    "import numpy as np\n",
    "import re\n",
    "import matplotlib.pyplot as plt\n",
    "\n",
    "import torch\n",
    "from torch.utils.data import DataLoader\n",
    "from torch import nn, optim\n",
    "from sklearn.metrics import f1_score\n",
    "import glob"
   ]
  },
  {
   "cell_type": "code",
   "execution_count": 6,
   "metadata": {},
   "outputs": [],
   "source": [
    "def CleanText(text):\n",
    "    text = re.sub(r'''[\\[|\\]]''', \"\", text).split()\n",
    "    text = np.array(text, dtype=\"float64\")\n",
    "    return text"
   ]
  },
  {
   "cell_type": "code",
   "execution_count": 7,
   "metadata": {},
   "outputs": [],
   "source": [
    "# Normal dataset\n",
    "#df = pd.read_csv('CSVFiles/smallDomainDataBertweetEmbedded.csv')\n",
    "#df = pd.read_csv('CSVFiles/small10000DomainDataBertweetEmbedded.csv')\n",
    "df = pd.read_csv('CSVFiles/small50000DomainDataBertweetEmbedded.csv')\n",
    "df['comment_text'] = df['comment_text'].apply(lambda text: CleanText(text))"
   ]
  },
  {
   "cell_type": "code",
   "execution_count": null,
   "metadata": {},
   "outputs": [],
   "source": []
  },
  {
   "cell_type": "code",
   "execution_count": 8,
   "metadata": {},
   "outputs": [],
   "source": [
    "# Updating values for training_data\n",
    "training_data = df[df['split'] == 'train']\n",
    "\n",
    "# Getting test_data\n",
    "test_data = df[df['split'] == 'test']\n",
    "\n",
    "# Getting validation_data\n",
    "validation_data = df[df['split'] == 'val']"
   ]
  },
  {
   "cell_type": "code",
   "execution_count": 9,
   "metadata": {
    "scrolled": true
   },
   "outputs": [
    {
     "name": "stdout",
     "output_type": "stream",
     "text": [
      "Toxic samples training data:  22010.0\n",
      "None-toxic samples training data:  22010.0\n",
      "\n",
      "\n",
      "Toxic samples validation data:  1510.0\n",
      "None-toxic samples validation data:  1510.0\n",
      "\n",
      "\n",
      "Toxic samples test data:  1510.0\n",
      "None-toxic samples test data:  1510.0\n",
      "\n",
      "\n",
      "male: 4567.0\n",
      "female: 5272.0\n",
      "LGBTQ: 1652.0\n",
      "christian: 2300.0\n",
      "muslim: 2332.0\n",
      "other_religion: 20.0\n",
      "black: 2475.0\n",
      "white: 3818.0\n"
     ]
    }
   ],
   "source": [
    "print('Toxic samples training data: ', sum(training_data['toxicity']))\n",
    "print('None-toxic samples training data: ', len(training_data['toxicity'])-sum(training_data['toxicity']))\n",
    "\n",
    "print(\"\\n\")\n",
    "print('Toxic samples validation data: ', sum(validation_data['toxicity']))\n",
    "print('None-toxic samples validation data: ', len(validation_data['toxicity'])-sum(validation_data['toxicity']))\n",
    "\n",
    "print(\"\\n\")\n",
    "print('Toxic samples test data: ', sum(test_data['toxicity']))\n",
    "print('None-toxic samples test data: ', len(test_data['toxicity'])-sum(test_data['toxicity']))\n",
    "\n",
    "print(\"\\n\")\n",
    "\n",
    "for col in training_data.columns[3:]:\n",
    "    print(col + \": \" + str(np.sum(training_data[col])))"
   ]
  },
  {
   "cell_type": "code",
   "execution_count": 10,
   "metadata": {},
   "outputs": [],
   "source": [
    "def CheckAccuracy(predictions, labels):\n",
    "        acc = 0.0\n",
    "        for i in range(len(predictions)):\n",
    "            if (predictions[i] == labels[i]):\n",
    "                acc += 1\n",
    "        return acc/len(predictions)\n",
    "    \n",
    "def CreatePlot(trainArr, valArr, path):\n",
    "    plt.figure(figsize=(10,5))\n",
    "    plt.scatter(np.arange(0,len(trainArr)), trainArr, color='r', label='Training loss')\n",
    "    plt.scatter(np.arange(0,len(valArr)), valArr, color='g', label='Validation loss')\n",
    "    plt.title(\"Training loss vs Validation loss\")\n",
    "    plt.xlabel(\"Epoch\")\n",
    "    plt.ylabel(\"Loss\")\n",
    "    plt.legend(loc=\"upper right\")\n",
    "    plt.savefig(path, bbox_inches='tight')\n",
    "    plt.show()"
   ]
  },
  {
   "cell_type": "code",
   "execution_count": 11,
   "metadata": {},
   "outputs": [
    {
     "name": "stdout",
     "output_type": "stream",
     "text": [
      "Using device(type='cuda')\n"
     ]
    }
   ],
   "source": [
    "### Set parameters for the model\n",
    "torch.manual_seed(1) # set fixed random seed for reproducibility\n",
    "cuda = True # Set this if training on GPU\n",
    "cuda = cuda and torch.cuda.is_available()\n",
    "device = torch.device(\"cuda\" if cuda else \"cpu\")\n",
    "print(\"Using \"+repr(device))"
   ]
  },
  {
   "cell_type": "code",
   "execution_count": 12,
   "metadata": {},
   "outputs": [],
   "source": [
    "# Creating data loaders\n",
    "X_train = np.array(training_data['comment_text'].values.tolist())\n",
    "Y_train = np.array(training_data['toxicity'].values.tolist())\n",
    "\n",
    "X_test = np.array(test_data['comment_text'].values.tolist())\n",
    "Y_test = np.array(test_data['toxicity'].values.tolist())\n",
    "\n",
    "X_val = np.array(validation_data['comment_text'].values.tolist())\n",
    "Y_val = np.array(validation_data['toxicity'].values.tolist())\n",
    "    \n",
    "prepare_testloader = []\n",
    "for i in range(len(X_test)):\n",
    "    prepare_testloader.append([X_test[i], Y_test[i]])\n",
    "    \n",
    "prepare_validloader = []\n",
    "for i in range(len(X_val)):\n",
    "    prepare_validloader.append([X_val[i], Y_val[i]])"
   ]
  },
  {
   "cell_type": "code",
   "execution_count": 13,
   "metadata": {},
   "outputs": [],
   "source": [
    "class Net(nn.Module):\n",
    "    def __init__(self):\n",
    "        super(Net, self).__init__()\n",
    "        self.fc1 = nn.Sequential(nn.Linear(768, 64), nn.ReLU())\n",
    "        self.fc2 = nn.Sequential(nn.Linear(64, 32), nn.ReLU())\n",
    "        self.fc3 = nn.Linear(32, 1)\n",
    "        self.sigmoid = nn.Sigmoid()\n",
    "\n",
    "    def forward(self, x):\n",
    "        x = self.fc1(x)\n",
    "        x = self.fc2(x)\n",
    "        x = self.fc3(x)\n",
    "        x = self.sigmoid(x)\n",
    "        return x"
   ]
  },
  {
   "cell_type": "code",
   "execution_count": 14,
   "metadata": {
    "scrolled": true
   },
   "outputs": [],
   "source": [
    "def Train(model, train_loader, valid_loader, loss_function, optimizer, learning_rate, early_stopping=50, epochs=1000):\n",
    "    \n",
    "    # Setting up model parameters\n",
    "    model = model.to(device)\n",
    "    if optimizer == 'Adam':\n",
    "        optimizer = optim.Adam(model.parameters(), lr=learning_rate)\n",
    "    \n",
    "    if optimizer == 'AdamW':\n",
    "        optimizer = optim.AdamW(model.parameters(), lr=learning_rate)\n",
    "    \n",
    "    if optimizer == 'SGD':\n",
    "        optimizer = optim.SGD(model.parameters(), lr=learning_rate)\n",
    "    \n",
    "    loss_function = loss_function\n",
    "\n",
    "    # Initialising early stopping criterias\n",
    "    early_stopping = early_stopping\n",
    "    notImproved = 0\n",
    "    \n",
    "    bestLoss = None\n",
    "    bestModel = None\n",
    "\n",
    "    trainArr = []\n",
    "    valArr = []\n",
    "\n",
    "    bestf1 = 0\n",
    "    bestEpoch = 0\n",
    "\n",
    "    for epoch in range(1, epochs + 1):\n",
    "    \n",
    "        train_loss = 0.0\n",
    "        for batch_idx, data in enumerate(train_loader):\n",
    "        \n",
    "            # get the input\n",
    "            inputs, labels = data\n",
    "    \n",
    "            inputs = inputs.to(device).float()\n",
    "            labels = labels.to(device).float()\n",
    "        \n",
    "            optimizer.zero_grad()\n",
    "        \n",
    "            outputs = model(inputs)\n",
    "            outputs = outputs.squeeze(1)\n",
    "        \n",
    "            loss = loss_function(outputs, labels)\n",
    "        \n",
    "            loss.backward()\n",
    "        \n",
    "            optimizer.step()\n",
    "        \n",
    "            train_loss += loss.item()\n",
    "    \n",
    "        train_loss /= len(train_loader.dataset)    \n",
    "        trainArr.append(train_loss)\n",
    "    \n",
    "        valid_loss = 0\n",
    "        labs = []\n",
    "        preds = []\n",
    "        \n",
    "        model.eval()\n",
    "        with torch.no_grad():        \n",
    "            for batch_idx, data in enumerate(valid_loader):\n",
    "                # get the input\n",
    "                inputs, labels = data           \n",
    "            \n",
    "                inputs = inputs.to(device).float()\n",
    "                labels = labels.to(device).float()\n",
    "                \n",
    "                outputs = model(inputs).squeeze()\n",
    "                \n",
    "                labs.extend(labels)\n",
    "                preds.extend(torch.round(outputs))\n",
    "            \n",
    "                valid_loss += loss_function(outputs, labels).item()\n",
    "        \n",
    "        valid_loss /= len(valid_loader.dataset)    \n",
    "        valArr.append(valid_loss)\n",
    "        \n",
    "        if bestLoss == None:\n",
    "            bestLoss = valid_loss\n",
    "    \n",
    "        if valid_loss <= bestLoss:\n",
    "            bestModel = torch.save(model, 'currentModel.pth')\n",
    "            bestLoss = valid_loss\n",
    "            notImproved = 0\n",
    "            bestEpoch = epoch\n",
    "        else:\n",
    "            notImproved +=1\n",
    "        \n",
    "        if notImproved >= early_stopping:\n",
    "            break\n",
    "\n",
    "    model = torch.load('currentModel.pth')\n",
    "    return model, valArr, trainArr, epoch"
   ]
  },
  {
   "cell_type": "code",
   "execution_count": 20,
   "metadata": {},
   "outputs": [
    {
     "name": "stdout",
     "output_type": "stream",
     "text": [
      "0.301010101010101\n"
     ]
    },
    {
     "data": {
      "image/png": "[encoded data removed]",
      "text/plain": [
       "<Figure size 720x360 with 1 Axes>"
      ]
     },
     "metadata": {
      "needs_background": "light"
     },
     "output_type": "display_data"
    },
    {
     "name": "stdout",
     "output_type": "stream",
     "text": [
      "Accuracy on validation set:  0.5\n",
      "Val f1: =  0.6666666666666666\n",
      "Test f1: =  0.6666666666666666\n",
      "Accuracy on test set:  0.5\n",
      "0.1\n"
     ]
    },
    {
     "data": {
      "image/png": "[encoded data removed]",
      "text/plain": [
       "<Figure size 720x360 with 1 Axes>"
      ]
     },
     "metadata": {
      "needs_background": "light"
     },
     "output_type": "display_data"
    },
    {
     "name": "stdout",
     "output_type": "stream",
     "text": [
      "Accuracy on validation set:  0.5049668874172185\n",
      "Val f1: =  0.6645725824545657\n",
      "Test f1: =  0.6672645739910315\n",
      "Accuracy on test set:  0.5086092715231788\n"
     ]
    }
   ],
   "source": [
    "epsilons = []\n",
    "pathArr = []\n",
    "\n",
    "for filePath in glob.glob('PCAmodels50000/*'):\n",
    "    pathArr.append(filePath)\n",
    "    epsilons.append(filePath[16:-4].replace(',', '.'))\n",
    "\n",
    "epsilons = np.array(epsilons, dtype=float)\n",
    "pathArr = np.array(pathArr)\n",
    "\n",
    "# sort by epsilons\n",
    "sortedIndexes = np.argsort(epsilons)\n",
    "epsilons = epsilons[sortedIndexes]\n",
    "pathArr = pathArr[sortedIndexes]\n",
    "\n",
    "epsilons = np.flip(epsilons)\n",
    "pathArr = np.flip(pathArr)\n",
    "\n",
    "for i, path in enumerate(pathArr):\n",
    "    print(epsilons[i])\n",
    "    PCAmodel = torch.load(path)\n",
    "    transformedXTrain = PCAmodel.transform(X_train)\n",
    "    \n",
    "    prepare_trainloader = []\n",
    "    for i in range(len(X_train)):\n",
    "        prepare_trainloader.append([transformedXTrain[i], Y_train[i]])\n",
    "    \n",
    "    train_loader = torch.utils.data.DataLoader(prepare_trainloader, batch_size=16, shuffle=True)\n",
    "    valid_loader = torch.utils.data.DataLoader(prepare_validloader, batch_size=16, shuffle=False)\n",
    "    test_loader = torch.utils.data.DataLoader(prepare_testloader, batch_size=16, shuffle=False)\n",
    "        \n",
    "    model, valLossArr , trainLossArr, epoch = Train(Net(), train_loader, valid_loader, nn.BCELoss(), 'AdamW', 0.00001, early_stopping=50, epochs=5000)\n",
    "    \n",
    "    CreatePlot(trainLossArr, valLossArr, 'PrivateModels50000/img' + path[16:-4]+ '.png')\n",
    "    torch.save(model, 'PrivateModels50000/private' + path[16:])\n",
    "    \n",
    "    labs = []\n",
    "    preds = []\n",
    "    model.eval()\n",
    "    with torch.no_grad():\n",
    "        for batch_idx, data in enumerate(valid_loader):\n",
    "            inputs, labels = data\n",
    "            inputs = inputs.to(device).float()\n",
    "            labels = labels.to(device).float()\n",
    "            outputs = model(inputs).squeeze()\n",
    "            labs.extend(labels)\n",
    "            preds.extend(torch.round(outputs))\n",
    "    accVal = CheckAccuracy(labs, preds)\n",
    "    print(\"Accuracy on validation set: \", accVal)\n",
    "    f1 = f1_score(torch.Tensor(labs).numpy(), torch.Tensor(preds).numpy(), zero_division=1)\n",
    "    print(\"Val f1: = \", f1)\n",
    "    \n",
    "    labs = []\n",
    "    preds = []\n",
    "    model.eval()\n",
    "    with torch.no_grad():\n",
    "        for batch_idx, data in enumerate(test_loader):\n",
    "            inputs, labels = data\n",
    "            inputs = inputs.to(device).float()\n",
    "            labels = labels.to(device).float()\n",
    "            outputs = model(inputs).squeeze()\n",
    "            labs.extend(labels)\n",
    "            preds.extend(torch.round(outputs))\n",
    "    accTest = CheckAccuracy(labs, preds)\n",
    "    f1 = f1_score(torch.Tensor(labs).numpy(), torch.Tensor(preds).numpy(), zero_division=1)\n",
    "    print(\"Test f1: = \", f1)\n",
    "    print(\"Accuracy on test set: \", accTest)"
   ]
  },
  {
   "cell_type": "code",
   "execution_count": null,
   "metadata": {},
   "outputs": [],
   "source": []
  },
  {
   "cell_type": "code",
   "execution_count": null,
   "metadata": {},
   "outputs": [],
   "source": []
  },
  {
   "cell_type": "code",
   "execution_count": 54,
   "metadata": {},
   "outputs": [],
   "source": [
    "def F1_Scores(preds, labels):\n",
    "    true_positives = 0\n",
    "    true_negatives = 0\n",
    "    false_positives = 0\n",
    "    false_negatives = 0\n",
    "    for i in range(len(labs)):\n",
    "        if labels[i]==1 and preds[i]==1:\n",
    "            true_positives += 1\n",
    "        if labels[i]==0 and preds[i]==0:\n",
    "            true_negatives += 1\n",
    "        if labels[i]==0 and preds[i]==1:\n",
    "            false_positives += 1\n",
    "        if labels[i]==1 and preds[i]==0:\n",
    "            false_negatives += 1\n",
    "    print(\"true_positives\", true_positives)\n",
    "    print(\"true_negatives\", true_negatives)\n",
    "    print(\"false_positives\", false_positives)\n",
    "    print(\"false_negatives\", false_negatives)\n",
    "    \n",
    "    return true_positives, true_negatives, false_positives, false_negatives"
   ]
  },
  {
   "cell_type": "code",
   "execution_count": 56,
   "metadata": {
    "scrolled": true
   },
   "outputs": [
    {
     "name": "stdout",
     "output_type": "stream",
     "text": [
      "\n",
      "\n",
      "Accuracy on test set:  0.5086092715231788\n",
      "F1_score test:  0.6672645739910315\n",
      "true_positives 1488\n",
      "true_negatives 48\n",
      "false_positives 1462\n",
      "false_negatives 22\n",
      "\n",
      "\n",
      "Accuracy on validation set:  0.5049668874172185\n",
      "F1_score val:  0.6645725824545657\n",
      "true_positives 1481\n",
      "true_negatives 44\n",
      "false_positives 1466\n",
      "false_negatives 29\n",
      "\n",
      "\n",
      "Accuracy on train set:  0.6961835529304862\n",
      "F1_score train:  0.7202911281214706\n",
      "true_positives 17220\n",
      "true_negatives 13426\n",
      "false_positives 8584\n",
      "false_negatives 4790\n"
     ]
    }
   ],
   "source": [
    "labs = []\n",
    "preds = []\n",
    "\n",
    "model.eval()\n",
    "with torch.no_grad():        \n",
    "    for batch_idx, data in enumerate(test_loader):\n",
    "        # get the input\n",
    "        inputs, labels = data\n",
    "        inputs = inputs.unsqueeze(1)\n",
    "        inputs = inputs.to(device).float()\n",
    "        labels = labels.to(device).float()\n",
    "        \n",
    "        outputs = model(inputs).squeeze()\n",
    "        \n",
    "        labs.extend(labels)\n",
    "        preds.extend(torch.round(outputs))\n",
    "\n",
    "print(\"\\n\")        \n",
    "print(\"Accuracy on test set: \", CheckAccuracy(labs, preds))\n",
    "f1 = f1_score(torch.Tensor(labs).numpy(), torch.Tensor(preds).numpy(), zero_division=1)\n",
    "print(\"F1_score test: \", f1)\n",
    "true_positives, true_negatives, false_positives, false_negatives = F1_Scores(preds, labs)\n",
    "\n",
    "labs = []\n",
    "preds = []\n",
    "\n",
    "model.eval()\n",
    "with torch.no_grad():        \n",
    "    for batch_idx, data in enumerate(valid_loader):\n",
    "        # get the input\n",
    "        inputs, labels = data\n",
    "        \n",
    "        inputs = inputs.to(device).float()\n",
    "        labels = labels.to(device).float()\n",
    "        \n",
    "        outputs = model(inputs).squeeze()\n",
    "        \n",
    "        labs.extend(labels)\n",
    "        preds.extend(torch.round(outputs))\n",
    "\n",
    "print(\"\\n\")\n",
    "print(\"Accuracy on validation set: \", CheckAccuracy(labs, preds))\n",
    "f1 = f1_score(torch.Tensor(labs).numpy(), torch.Tensor(preds).numpy(), zero_division=1)\n",
    "print(\"F1_score val: \", f1)\n",
    "true_positives, true_negatives, false_positives, false_negatives = F1_Scores(preds, labs)\n",
    "\n",
    "labs = []\n",
    "preds = []\n",
    "\n",
    "model.eval()\n",
    "with torch.no_grad():        \n",
    "    for batch_idx, data in enumerate(train_loader):\n",
    "        # get the input\n",
    "        inputs, labels = data\n",
    "        inputs = inputs.unsqueeze(1)\n",
    "        inputs = inputs.to(device).float()\n",
    "        labels = labels.to(device).float()\n",
    "        \n",
    "        outputs = model(inputs).squeeze()\n",
    "        \n",
    "        labs.extend(labels)\n",
    "        preds.extend(torch.round(outputs))\n",
    "        \n",
    "print(\"\\n\")\n",
    "print(\"Accuracy on train set: \", CheckAccuracy(labs, preds))\n",
    "f1 = f1_score(torch.Tensor(labs).numpy(), torch.Tensor(preds).numpy(), zero_division=1)\n",
    "print(\"F1_score train: \", f1)\n",
    "true_positives, true_negatives, false_positives, false_negatives = F1_Scores(preds, labs)\n"
   ]
  },
  {
   "cell_type": "code",
   "execution_count": null,
   "metadata": {
    "scrolled": true
   },
   "outputs": [],
   "source": []
  },
  {
   "cell_type": "code",
   "execution_count": null,
   "metadata": {},
   "outputs": [],
   "source": []
  },
  {
   "cell_type": "code",
   "execution_count": null,
   "metadata": {},
   "outputs": [],
   "source": []
  },
  {
   "cell_type": "code",
   "execution_count": null,
   "metadata": {},
   "outputs": [],
   "source": []
  },
  {
   "cell_type": "code",
   "execution_count": null,
   "metadata": {},
   "outputs": [],
   "source": []
  },
  {
   "cell_type": "code",
   "execution_count": null,
   "metadata": {},
   "outputs": [],
   "source": []
  }
 ],
 "metadata": {
  "kernelspec": {
   "display_name": "Python 3",
   "language": "python",
   "name": "python3"
  },
  "language_info": {
   "codemirror_mode": {
    "name": "ipython",
    "version": 3
   },
   "file_extension": ".py",
   "mimetype": "text/x-python",
   "name": "python",
   "nbconvert_exporter": "python",
   "pygments_lexer": "ipython3",
   "version": "3.8.5"
  }
 },
 "nbformat": 4,
 "nbformat_minor": 5
}
