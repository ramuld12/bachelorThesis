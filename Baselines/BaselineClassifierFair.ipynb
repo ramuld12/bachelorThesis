{
 "cells": [
  {
   "cell_type": "code",
   "execution_count": 1,
   "metadata": {},
   "outputs": [],
   "source": [
    "import pandas as pd\n",
    "import numpy as np\n",
    "from sklearn.model_selection import train_test_split\n",
    "import re\n",
    "from sklearn.feature_extraction.text import CountVectorizer\n",
    "from wilds.common.data_loaders import get_train_loader\n",
    "import torchvision.transforms as transforms\n",
    "from sklearn.linear_model import LogisticRegression\n",
    "import matplotlib.pyplot as plt\n",
    "from sklearn.metrics import f1_score"
   ]
  },
  {
   "cell_type": "code",
   "execution_count": 2,
   "metadata": {},
   "outputs": [],
   "source": [
    "def CleanText(text):\n",
    "    text = re.sub(r'''[\\[|\\]]''', \"\", text).split()\n",
    "    text = np.array(text, dtype=\"float64\")\n",
    "    return text"
   ]
  },
  {
   "cell_type": "code",
   "execution_count": 3,
   "metadata": {},
   "outputs": [],
   "source": [
    "df = pd.read_csv(\"../CSVFiles/small50000DomainDataBertweetEmbedded.csv\")"
   ]
  },
  {
   "cell_type": "code",
   "execution_count": null,
   "metadata": {},
   "outputs": [],
   "source": []
  },
  {
   "cell_type": "code",
   "execution_count": 4,
   "metadata": {},
   "outputs": [],
   "source": [
    "df = df.loc[:, [\"comment_text\", \"split\", \"toxicity\", \"male\", \"female\", \"LGBTQ\", \"christian\", \"muslim\", \"other_religion\", \"black\", \"white\"]]\n",
    "df['comment_text'] = df['comment_text'].apply(lambda text: CleanText(text))\n",
    "\n",
    "df['toxicity'] = df['toxicity'].apply(lambda text: np.round(text >= 0.5))\n",
    "df['male'] = df['male'].apply(lambda x: np.round(x>=0.5))\n",
    "df['female'] = df['female'].apply(lambda x: np.round(x>=0.5))\n",
    "df['LGBTQ'] = df['LGBTQ'].apply(lambda x: np.round(x>=0.5))\n",
    "df['christian'] = df['christian'].apply(lambda x: np.round(x>=0.5))\n",
    "df['muslim'] = df['muslim'].apply(lambda x: np.round(x>=0.5))\n",
    "df['other_religion'] = df['other_religion'].apply(lambda x: np.round(x>=0.5))\n",
    "df['black'] = df['black'].apply(lambda x: np.round(x>=0.5))\n",
    "df['white'] = df['white'].apply(lambda x: np.round(x>=0.5))"
   ]
  },
  {
   "cell_type": "code",
   "execution_count": null,
   "metadata": {
    "scrolled": true
   },
   "outputs": [],
   "source": []
  },
  {
   "cell_type": "code",
   "execution_count": 5,
   "metadata": {},
   "outputs": [],
   "source": [
    "# Updating values for training_data\n",
    "training_data = df[df['split'] == 'train']\n",
    "\n",
    "# Getting test_data\n",
    "test_data = df[df['split'] == 'test']\n",
    "\n",
    "# Getting validation_data\n",
    "validation_data = df[df['split'] == 'val']"
   ]
  },
  {
   "cell_type": "code",
   "execution_count": 6,
   "metadata": {},
   "outputs": [],
   "source": [
    "X_train = training_data['comment_text'].values.tolist()\n",
    "Y_train = training_data['toxicity'].values.tolist()\n",
    "\n",
    "X_test = test_data['comment_text'].values.tolist()\n",
    "Y_test = test_data['toxicity'].values.tolist()\n",
    "\n",
    "X_val = validation_data['comment_text'].values.tolist()\n",
    "Y_val = validation_data['toxicity'].values.tolist()"
   ]
  },
  {
   "cell_type": "code",
   "execution_count": 7,
   "metadata": {},
   "outputs": [],
   "source": [
    "class AdalineGDFair():\n",
    "    def __init__(self, learning_rate = 0.01, n_iter = 20, w = None):\n",
    "        self.w = w\n",
    "        self.bestW = None\n",
    "        self.learning_rate = learning_rate\n",
    "        self.n_iter = n_iter\n",
    "        \n",
    "    def CheckAccuracy(self, predictions, labels):\n",
    "        acc = 0.0\n",
    "        for i in range(len(predictions)):\n",
    "            if (np.round(predictions[i]) == np.round(labels[i])):\n",
    "                acc += 1\n",
    "        return acc/len(predictions)\n",
    "    \n",
    "    def predict(self, X_test):\n",
    "        # Making sure that array is numpy array\n",
    "        X_test = np.array(X_test).reshape((len(X_test), -1))\n",
    "        output = np.dot(X_test, self.w)\n",
    "        # Sigmoid giving 0-1 results\n",
    "        preds = np.round(1/(1+np.exp(-output)))\n",
    "        return preds\n",
    "    \n",
    "    def PredictTestSetDemographic(self, dfTest):\n",
    "        dic = {}\n",
    "        for col in dfTest.columns[3:]:\n",
    "            tempSet = dfTest[dfTest[col] == 1]\n",
    "            tempLabels = tempSet['toxicity'].values.tolist()\n",
    "            tempVecs = tempSet['comment_text'].values.tolist()\n",
    "            dic[col] = [tempVecs, tempLabels]\n",
    "        \n",
    "        f1_scores = []\n",
    "        for col in dic:\n",
    "            tempPredictions = self.predict(dic[col][0])\n",
    "            currentF1 = f1_score(dic[col][1], tempPredictions, zero_division=1)\n",
    "            f1_scores.append([currentF1, col])\n",
    "        \n",
    "        f1_scores = np.array(f1_scores)\n",
    "        return f1_scores\n",
    "    \n",
    "        \n",
    "    def fit(self, dfTrain, dfVal):\n",
    "        # Making sure that arrays are numpy arrays\n",
    "        \n",
    "        X_train = dfTrain['comment_text'].values.tolist()\n",
    "        Y_train = dfTrain['toxicity'].values.tolist()\n",
    "        \n",
    "        X_train = np.array(X_train).reshape((len(X_train), -1))\n",
    "        Y_train = np.array(Y_train).reshape((len(Y_train), 1))\n",
    "        \n",
    "        X_val = dfVal['comment_text'].values.tolist()\n",
    "        Y_val = dfVal['toxicity'].values.tolist()\n",
    "        \n",
    "        X_val = np.array(X_val).reshape((len(X_val), -1))\n",
    "        Y_val = np.array(Y_val).reshape((len(Y_val), 1))\n",
    "        \n",
    "        # Initializing w vector using random normal distribution\n",
    "        if self.w == None:\n",
    "            self.w = np.random.normal(0, 0.1, len(X_train[0])).reshape(len(X_train[0]), 1)\n",
    "        \n",
    "        # Updating w vector for each sample\n",
    "        output = 1/(1+np.exp(-np.dot(X_train, self.w)))\n",
    "        error = (Y_train - output)\n",
    "        self.w += (1/len(Y_train)) * self.learning_rate * np.dot(X_train.T, error)\n",
    "        \n",
    "        dicTrain = {}\n",
    "        # AFHÆNGER AF HVOR MANGE DEMOGRAFISKE VARIABLER DER HAVES: \n",
    "        for col in dfTrain.columns[3:]:\n",
    "            tempSet = dfTrain[dfTrain[col] == 1]\n",
    "            tempLabels = tempSet['toxicity'].values.tolist()\n",
    "            tempVecs = tempSet['comment_text'].values.tolist()\n",
    "            dicTrain[col] = [tempVecs, tempLabels]\n",
    "            \n",
    "        dicVal = {}\n",
    "        # AFHÆNGER AF HVOR MANGE DEMOGRAFISKE VARIABLER DER HAVES: \n",
    "        for col in dfVal.columns[3:]:\n",
    "            tempSet = dfVal[dfVal[col] == 1]\n",
    "            tempLabels = tempSet['toxicity'].values.tolist()\n",
    "            tempVecs = tempSet['comment_text'].values.tolist()\n",
    "            dicVal[col] = [tempVecs, tempLabels]\n",
    "        \n",
    "        valPreds = self.predict(X_val)\n",
    "        bestAcc = self.CheckAccuracy(valPreds, Y_val)\n",
    "\n",
    "        badEpoch = 0\n",
    "        self.bestW = self.w\n",
    "        early_stopping = 200\n",
    "        \n",
    "        self.FinalAccList_ = []\n",
    "        self.FinalAccListTrain_ = []\n",
    "        \n",
    "        # Using n epochs\n",
    "        for i in range(self.n_iter):\n",
    "            f1_scores = []\n",
    "            for col in dicVal:\n",
    "                tempPredictions = self.predict(dicVal[col][0])\n",
    "                currentF1 = f1_score(dicVal[col][1], tempPredictions, zero_division=1)\n",
    "                f1_scores.append([currentF1, col])\n",
    "            f1_scores = np.array(f1_scores)        \n",
    "            \n",
    "            if i == 0:\n",
    "                print(f1_scores)\n",
    "            \n",
    "            worstCol = f1_scores[np.argmin(f1_scores[:,0])][1]\n",
    "                        \n",
    "            X_train = dicTrain[worstCol][0]\n",
    "            Y_train = dicTrain[worstCol][1]\n",
    "            \n",
    "            X_train = np.array(X_train).reshape((len(X_train), -1))\n",
    "            Y_train = np.array(Y_train).reshape((len(Y_train), 1))\n",
    "            \n",
    "            # Updating w vector for each sample\n",
    "            output = 1/(1+np.exp(-np.dot(X_train, self.w)))\n",
    "            error = (Y_train - output)\n",
    "            self.w += (1/len(Y_train)) * self.learning_rate * np.dot(X_train.T, error)\n",
    "            \n",
    "            valPreds = self.predict(X_val)\n",
    "            acc = self.CheckAccuracy(valPreds, Y_val)\n",
    "            self.FinalAccList_.append((acc, worstCol, i))\n",
    "            \n",
    "            trainPreds = self.predict(X_train)\n",
    "            acc = self.CheckAccuracy(trainPreds, Y_train)\n",
    "            self.FinalAccListTrain_.append((acc, worstCol, i))\n",
    "                        \n",
    "            # Saving the best model and also checks for Early_Stopping\n",
    "            if acc > bestAcc:\n",
    "                bestAcc = acc\n",
    "                badEpoch = 0\n",
    "                self.bestW = self.w\n",
    "            else:\n",
    "                badEpoch += 1\n",
    "\n",
    "            if badEpoch >= early_stopping:\n",
    "                self.w = self.bestW\n",
    "                print(\"Stopped cause of bad Epoch in iteration: \", i)\n",
    "                break\n",
    "                \n",
    "        self.FinalAccList_ = np.array(self.FinalAccList_)\n",
    "        self.FinalAccListTrain_ = np.array(self.FinalAccListTrain_)\n",
    "        self.w = self.bestW\n",
    "        return self"
   ]
  },
  {
   "cell_type": "code",
   "execution_count": 8,
   "metadata": {
    "scrolled": true
   },
   "outputs": [
    {
     "name": "stdout",
     "output_type": "stream",
     "text": [
      "[['0.33093525179856115' 'male']\n",
      " ['0.39436619718309857' 'female']\n",
      " ['0.3611111111111111' 'LGBTQ']\n",
      " ['0.4311926605504587' 'christian']\n",
      " ['0.49438202247191015' 'muslim']\n",
      " ['0.28571428571428575' 'other_religion']\n",
      " ['0.4299065420560747' 'black']\n",
      " ['0.4904458598726115' 'white']]\n",
      "Stopped cause of bad Epoch in iteration:  231\n",
      "Accuracy on testSet after round 0.5006622516556292\n"
     ]
    }
   ],
   "source": [
    "model = AdalineGDFair(learning_rate = 0.1, n_iter = 1000)\n",
    "\n",
    "model.fit(training_data, validation_data)\n",
    "\n",
    "predictions = model.predict(X_test)\n",
    "\n",
    "Y_test = np.array(Y_test).reshape(len(Y_test), 1)\n",
    "\n",
    "model.CheckAccuracy(predictions, Y_test)\n",
    "\n",
    "print(\"Accuracy on testSet after round\", model.CheckAccuracy(predictions, Y_test))"
   ]
  },
  {
   "cell_type": "code",
   "execution_count": 9,
   "metadata": {},
   "outputs": [],
   "source": [
    "forBarPlot = model.PredictTestSetDemographic(test_data)"
   ]
  },
  {
   "cell_type": "code",
   "execution_count": 10,
   "metadata": {},
   "outputs": [
    {
     "data": {
      "text/plain": [
       "0.08243433446945703"
      ]
     },
     "execution_count": 10,
     "metadata": {},
     "output_type": "execute_result"
    }
   ],
   "source": [
    "np.std(forBarPlot[:,0].astype(float))"
   ]
  },
  {
   "cell_type": "code",
   "execution_count": 11,
   "metadata": {
    "scrolled": false
   },
   "outputs": [
    {
     "name": "stdout",
     "output_type": "stream",
     "text": [
      "[['0.7082405345211581' 'male']\n",
      " ['0.6998087954110898' 'female']\n",
      " ['0.6984126984126985' 'LGBTQ']\n",
      " ['0.5703422053231939' 'christian']\n",
      " ['0.7345679012345678' 'muslim']\n",
      " ['0.5555555555555556' 'other_religion']\n",
      " ['0.82' 'black']\n",
      " ['0.740909090909091' 'white']]\n"
     ]
    },
    {
     "data": {
      "image/png": "[encoded data removed]",
      "text/plain": [
       "<Figure size 432x288 with 1 Axes>"
      ]
     },
     "metadata": {
      "needs_background": "light"
     },
     "output_type": "display_data"
    }
   ],
   "source": [
    "forBarPlot = model.PredictTestSetDemographic(test_data)\n",
    "print(forBarPlot)\n",
    "plt.figure()\n",
    "\n",
    "x = forBarPlot[:,1]\n",
    "for i in range(len(x)):\n",
    "    if i%2 == 0:\n",
    "        x[i] = \"\\n\"+x[i]\n",
    "\n",
    "y = np.array(forBarPlot[:,0].astype(float))\n",
    "\n",
    "x_pos = [i for i, _ in enumerate(x)]\n",
    "\n",
    "plt.bar(x_pos, y, color=['b', 'g', 'r', 'c', 'm', 'y', 'brown', 'k'])\n",
    "\n",
    "plt.xlabel(\"\\nDemographic source\")\n",
    "plt.ylabel(\"F1-scores\")\n",
    "plt.xticks(x_pos, x)\n",
    "plt.savefig('FinalF1-scoresFair')\n",
    "plt.show()"
   ]
  },
  {
   "cell_type": "code",
   "execution_count": 12,
   "metadata": {},
   "outputs": [
    {
     "name": "stdout",
     "output_type": "stream",
     "text": [
      "0.006795419499422311\n",
      "0.26444444444444437\n"
     ]
    }
   ],
   "source": [
    "print(np.var(forBarPlot[:,0].astype(float)))\n",
    "print(np.max(forBarPlot[:,0].astype(float)) - np.min(forBarPlot[:,0].astype(float)))"
   ]
  },
  {
   "cell_type": "code",
   "execution_count": null,
   "metadata": {},
   "outputs": [],
   "source": []
  },
  {
   "cell_type": "code",
   "execution_count": 13,
   "metadata": {},
   "outputs": [
    {
     "data": {
      "image/png": "[encoded data removed]",
      "text/plain": [
       "<Figure size 432x288 with 1 Axes>"
      ]
     },
     "metadata": {
      "needs_background": "light"
     },
     "output_type": "display_data"
    }
   ],
   "source": [
    "lstlst = []\n",
    "for k in np.unique(model.FinalAccList_[:,1]):\n",
    "    tmpLst = []\n",
    "    for i in model.FinalAccList_:\n",
    "        if k == i[1]:\n",
    "            tmpLst.append([i[0], i[2], i[1]])\n",
    "    lstlst.append(np.array(tmpLst))\n",
    "\n",
    "plt.figure()\n",
    "for lst in lstlst:\n",
    "    plt.scatter(np.array(lst[:,1]).astype(int), np.array(lst[:,0]).astype(np.float), label=lst[:,2][0])\n",
    "\n",
    "plt.xlabel('Iteration')\n",
    "plt.ylabel('Validation accuracy')\n",
    "plt.title('Fair classifier shifting between demographic groups')\n",
    "plt.legend(loc='upper left')\n",
    "plt.savefig('AccuracyEvolvingFair')\n",
    "plt.show()"
   ]
  },
  {
   "cell_type": "code",
   "execution_count": 14,
   "metadata": {},
   "outputs": [
    {
     "data": {
      "image/png": "[encoded data removed]",
      "text/plain": [
       "<Figure size 432x288 with 1 Axes>"
      ]
     },
     "metadata": {
      "needs_background": "light"
     },
     "output_type": "display_data"
    }
   ],
   "source": [
    "lstlst = []\n",
    "for k in np.unique(model.FinalAccListTrain_[:,1]):\n",
    "    tmpLst = []\n",
    "    for i in model.FinalAccListTrain_:\n",
    "        if k == i[1]:\n",
    "            tmpLst.append([i[0], i[2], i[1]])\n",
    "    lstlst.append(np.array(tmpLst))\n",
    "\n",
    "plt.figure()\n",
    "for lst in lstlst:\n",
    "    plt.scatter(np.array(lst[:,1]).astype(int), np.array(lst[:,0]).astype(np.float), label=lst[:,2][0])\n",
    "\n",
    "plt.xlabel('Iteration')\n",
    "plt.ylabel('Validation accuracy')\n",
    "plt.title('Fair classifier shifting between demographic groups')\n",
    "plt.legend(loc='upper right')\n",
    "plt.savefig('AccuracyEvolving')\n",
    "plt.show()"
   ]
  },
  {
   "cell_type": "code",
   "execution_count": null,
   "metadata": {},
   "outputs": [],
   "source": []
  },
  {
   "cell_type": "code",
   "execution_count": null,
   "metadata": {},
   "outputs": [],
   "source": []
  },
  {
   "cell_type": "code",
   "execution_count": null,
   "metadata": {},
   "outputs": [],
   "source": []
  },
  {
   "cell_type": "code",
   "execution_count": null,
   "metadata": {},
   "outputs": [],
   "source": []
  },
  {
   "cell_type": "code",
   "execution_count": null,
   "metadata": {},
   "outputs": [],
   "source": []
  },
  {
   "cell_type": "code",
   "execution_count": null,
   "metadata": {},
   "outputs": [],
   "source": []
  }
 ],
 "metadata": {
  "kernelspec": {
   "display_name": "Python 3",
   "language": "python",
   "name": "python3"
  },
  "language_info": {
   "codemirror_mode": {
    "name": "ipython",
    "version": 3
   },
   "file_extension": ".py",
   "mimetype": "text/x-python",
   "name": "python",
   "nbconvert_exporter": "python",
   "pygments_lexer": "ipython3",
   "version": "3.8.8"
  }
 },
 "nbformat": 4,
 "nbformat_minor": 4
}
