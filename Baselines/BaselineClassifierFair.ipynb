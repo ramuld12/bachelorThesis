{
 "cells": [
  {
   "cell_type": "code",
   "execution_count": 7,
   "metadata": {},
   "outputs": [],
   "source": [
    "import pandas as pd\n",
    "import numpy as np\n",
    "from sklearn.model_selection import train_test_split\n",
    "import re\n",
    "import matplotlib.pyplot as plt\n",
    "from sklearn.metrics import f1_score"
   ]
  },
  {
   "cell_type": "code",
   "execution_count": 8,
   "metadata": {},
   "outputs": [],
   "source": [
    "def CleanText(text):\n",
    "    text = re.sub(r'''[\\[|\\]]''', \"\", text).split()\n",
    "    text = np.array(text, dtype=\"float64\")\n",
    "    return text"
   ]
  },
  {
   "cell_type": "code",
   "execution_count": 9,
   "metadata": {},
   "outputs": [],
   "source": [
    "df = pd.read_csv(\"../CSVFiles/small50000DomainDataBertweetEmbedded.csv\")"
   ]
  },
  {
   "cell_type": "code",
   "execution_count": null,
   "metadata": {},
   "outputs": [],
   "source": []
  },
  {
   "cell_type": "code",
   "execution_count": 10,
   "metadata": {},
   "outputs": [],
   "source": [
    "df = df.loc[:, [\"comment_text\", \"split\", \"toxicity\", \"male\", \"female\", \"LGBTQ\", \"christian\", \"muslim\", \"other_religion\", \"black\", \"white\"]]\n",
    "df['comment_text'] = df['comment_text'].apply(lambda text: CleanText(text))\n",
    "\n",
    "df['toxicity'] = df['toxicity'].apply(lambda text: np.round(text >= 0.5))\n",
    "df['male'] = df['male'].apply(lambda x: np.round(x>=0.5))\n",
    "df['female'] = df['female'].apply(lambda x: np.round(x>=0.5))\n",
    "df['LGBTQ'] = df['LGBTQ'].apply(lambda x: np.round(x>=0.5))\n",
    "df['christian'] = df['christian'].apply(lambda x: np.round(x>=0.5))\n",
    "df['muslim'] = df['muslim'].apply(lambda x: np.round(x>=0.5))\n",
    "df['other_religion'] = df['other_religion'].apply(lambda x: np.round(x>=0.5))\n",
    "df['black'] = df['black'].apply(lambda x: np.round(x>=0.5))\n",
    "df['white'] = df['white'].apply(lambda x: np.round(x>=0.5))"
   ]
  },
  {
   "cell_type": "code",
   "execution_count": 11,
   "metadata": {
    "scrolled": true
   },
   "outputs": [
    {
     "data": {
      "text/html": [
       "<div>\n",
       "<style scoped>\n",
       "    .dataframe tbody tr th:only-of-type {\n",
       "        vertical-align: middle;\n",
       "    }\n",
       "\n",
       "    .dataframe tbody tr th {\n",
       "        vertical-align: top;\n",
       "    }\n",
       "\n",
       "    .dataframe thead th {\n",
       "        text-align: right;\n",
       "    }\n",
       "</style>\n",
       "<table border=\"1\" class=\"dataframe\">\n",
       "  <thead>\n",
       "    <tr style=\"text-align: right;\">\n",
       "      <th></th>\n",
       "      <th>comment_text</th>\n",
       "      <th>split</th>\n",
       "      <th>toxicity</th>\n",
       "      <th>male</th>\n",
       "      <th>female</th>\n",
       "      <th>LGBTQ</th>\n",
       "      <th>christian</th>\n",
       "      <th>muslim</th>\n",
       "      <th>other_religion</th>\n",
       "      <th>black</th>\n",
       "      <th>white</th>\n",
       "    </tr>\n",
       "  </thead>\n",
       "  <tbody>\n",
       "    <tr>\n",
       "      <th>0</th>\n",
       "      <td>[0.172204494, -0.177482158, 0.0382581912, -0.2...</td>\n",
       "      <td>train</td>\n",
       "      <td>1.0</td>\n",
       "      <td>0.0</td>\n",
       "      <td>0.0</td>\n",
       "      <td>0.0</td>\n",
       "      <td>0.0</td>\n",
       "      <td>0.0</td>\n",
       "      <td>1.0</td>\n",
       "      <td>0.0</td>\n",
       "      <td>0.0</td>\n",
       "    </tr>\n",
       "    <tr>\n",
       "      <th>1</th>\n",
       "      <td>[0.296798497, -0.134108931, -0.0418556035, -0....</td>\n",
       "      <td>test</td>\n",
       "      <td>1.0</td>\n",
       "      <td>0.0</td>\n",
       "      <td>0.0</td>\n",
       "      <td>0.0</td>\n",
       "      <td>1.0</td>\n",
       "      <td>1.0</td>\n",
       "      <td>1.0</td>\n",
       "      <td>0.0</td>\n",
       "      <td>0.0</td>\n",
       "    </tr>\n",
       "    <tr>\n",
       "      <th>2</th>\n",
       "      <td>[0.218573064, -0.105159663, 0.0901519805, -0.1...</td>\n",
       "      <td>val</td>\n",
       "      <td>1.0</td>\n",
       "      <td>0.0</td>\n",
       "      <td>0.0</td>\n",
       "      <td>0.0</td>\n",
       "      <td>0.0</td>\n",
       "      <td>0.0</td>\n",
       "      <td>1.0</td>\n",
       "      <td>0.0</td>\n",
       "      <td>0.0</td>\n",
       "    </tr>\n",
       "    <tr>\n",
       "      <th>3</th>\n",
       "      <td>[0.256517917, -0.17231974, 0.025769854, -0.176...</td>\n",
       "      <td>train</td>\n",
       "      <td>1.0</td>\n",
       "      <td>0.0</td>\n",
       "      <td>0.0</td>\n",
       "      <td>0.0</td>\n",
       "      <td>1.0</td>\n",
       "      <td>0.0</td>\n",
       "      <td>1.0</td>\n",
       "      <td>0.0</td>\n",
       "      <td>0.0</td>\n",
       "    </tr>\n",
       "    <tr>\n",
       "      <th>4</th>\n",
       "      <td>[0.218547627, -0.252514452, -0.11583256, -0.27...</td>\n",
       "      <td>test</td>\n",
       "      <td>1.0</td>\n",
       "      <td>0.0</td>\n",
       "      <td>1.0</td>\n",
       "      <td>1.0</td>\n",
       "      <td>0.0</td>\n",
       "      <td>1.0</td>\n",
       "      <td>1.0</td>\n",
       "      <td>0.0</td>\n",
       "      <td>0.0</td>\n",
       "    </tr>\n",
       "    <tr>\n",
       "      <th>...</th>\n",
       "      <td>...</td>\n",
       "      <td>...</td>\n",
       "      <td>...</td>\n",
       "      <td>...</td>\n",
       "      <td>...</td>\n",
       "      <td>...</td>\n",
       "      <td>...</td>\n",
       "      <td>...</td>\n",
       "      <td>...</td>\n",
       "      <td>...</td>\n",
       "      <td>...</td>\n",
       "    </tr>\n",
       "    <tr>\n",
       "      <th>50055</th>\n",
       "      <td>[0.226048529, -0.217119217, 0.0278342944, -0.1...</td>\n",
       "      <td>val</td>\n",
       "      <td>0.0</td>\n",
       "      <td>0.0</td>\n",
       "      <td>0.0</td>\n",
       "      <td>0.0</td>\n",
       "      <td>0.0</td>\n",
       "      <td>0.0</td>\n",
       "      <td>0.0</td>\n",
       "      <td>0.0</td>\n",
       "      <td>0.0</td>\n",
       "    </tr>\n",
       "    <tr>\n",
       "      <th>50056</th>\n",
       "      <td>[0.186890587, -0.135441616, 0.0349006988, -0.1...</td>\n",
       "      <td>val</td>\n",
       "      <td>0.0</td>\n",
       "      <td>0.0</td>\n",
       "      <td>0.0</td>\n",
       "      <td>0.0</td>\n",
       "      <td>0.0</td>\n",
       "      <td>0.0</td>\n",
       "      <td>0.0</td>\n",
       "      <td>0.0</td>\n",
       "      <td>0.0</td>\n",
       "    </tr>\n",
       "    <tr>\n",
       "      <th>50057</th>\n",
       "      <td>[0.162124693, -0.10534849, 0.014436258, -0.244...</td>\n",
       "      <td>val</td>\n",
       "      <td>0.0</td>\n",
       "      <td>0.0</td>\n",
       "      <td>0.0</td>\n",
       "      <td>0.0</td>\n",
       "      <td>0.0</td>\n",
       "      <td>0.0</td>\n",
       "      <td>0.0</td>\n",
       "      <td>0.0</td>\n",
       "      <td>0.0</td>\n",
       "    </tr>\n",
       "    <tr>\n",
       "      <th>50058</th>\n",
       "      <td>[0.257547528, -0.143339753, 0.0844875649, -0.2...</td>\n",
       "      <td>val</td>\n",
       "      <td>0.0</td>\n",
       "      <td>0.0</td>\n",
       "      <td>0.0</td>\n",
       "      <td>0.0</td>\n",
       "      <td>0.0</td>\n",
       "      <td>0.0</td>\n",
       "      <td>0.0</td>\n",
       "      <td>0.0</td>\n",
       "      <td>0.0</td>\n",
       "    </tr>\n",
       "    <tr>\n",
       "      <th>50059</th>\n",
       "      <td>[0.29423511, -0.182879314, 0.070654124, -0.133...</td>\n",
       "      <td>val</td>\n",
       "      <td>0.0</td>\n",
       "      <td>0.0</td>\n",
       "      <td>0.0</td>\n",
       "      <td>0.0</td>\n",
       "      <td>0.0</td>\n",
       "      <td>0.0</td>\n",
       "      <td>0.0</td>\n",
       "      <td>0.0</td>\n",
       "      <td>0.0</td>\n",
       "    </tr>\n",
       "  </tbody>\n",
       "</table>\n",
       "<p>50060 rows × 11 columns</p>\n",
       "</div>"
      ],
      "text/plain": [
       "                                            comment_text  split  toxicity  \\\n",
       "0      [0.172204494, -0.177482158, 0.0382581912, -0.2...  train       1.0   \n",
       "1      [0.296798497, -0.134108931, -0.0418556035, -0....   test       1.0   \n",
       "2      [0.218573064, -0.105159663, 0.0901519805, -0.1...    val       1.0   \n",
       "3      [0.256517917, -0.17231974, 0.025769854, -0.176...  train       1.0   \n",
       "4      [0.218547627, -0.252514452, -0.11583256, -0.27...   test       1.0   \n",
       "...                                                  ...    ...       ...   \n",
       "50055  [0.226048529, -0.217119217, 0.0278342944, -0.1...    val       0.0   \n",
       "50056  [0.186890587, -0.135441616, 0.0349006988, -0.1...    val       0.0   \n",
       "50057  [0.162124693, -0.10534849, 0.014436258, -0.244...    val       0.0   \n",
       "50058  [0.257547528, -0.143339753, 0.0844875649, -0.2...    val       0.0   \n",
       "50059  [0.29423511, -0.182879314, 0.070654124, -0.133...    val       0.0   \n",
       "\n",
       "       male  female  LGBTQ  christian  muslim  other_religion  black  white  \n",
       "0       0.0     0.0    0.0        0.0     0.0             1.0    0.0    0.0  \n",
       "1       0.0     0.0    0.0        1.0     1.0             1.0    0.0    0.0  \n",
       "2       0.0     0.0    0.0        0.0     0.0             1.0    0.0    0.0  \n",
       "3       0.0     0.0    0.0        1.0     0.0             1.0    0.0    0.0  \n",
       "4       0.0     1.0    1.0        0.0     1.0             1.0    0.0    0.0  \n",
       "...     ...     ...    ...        ...     ...             ...    ...    ...  \n",
       "50055   0.0     0.0    0.0        0.0     0.0             0.0    0.0    0.0  \n",
       "50056   0.0     0.0    0.0        0.0     0.0             0.0    0.0    0.0  \n",
       "50057   0.0     0.0    0.0        0.0     0.0             0.0    0.0    0.0  \n",
       "50058   0.0     0.0    0.0        0.0     0.0             0.0    0.0    0.0  \n",
       "50059   0.0     0.0    0.0        0.0     0.0             0.0    0.0    0.0  \n",
       "\n",
       "[50060 rows x 11 columns]"
      ]
     },
     "execution_count": 11,
     "metadata": {},
     "output_type": "execute_result"
    }
   ],
   "source": [
    "df"
   ]
  },
  {
   "cell_type": "code",
   "execution_count": 12,
   "metadata": {},
   "outputs": [],
   "source": [
    "# Updating values for training_data\n",
    "training_data = df[df['split'] == 'train']\n",
    "\n",
    "# Getting test_data\n",
    "test_data = df[df['split'] == 'test']\n",
    "\n",
    "# Getting validation_data\n",
    "validation_data = df[df['split'] == 'val']"
   ]
  },
  {
   "cell_type": "code",
   "execution_count": 13,
   "metadata": {},
   "outputs": [],
   "source": [
    "X_train = training_data['comment_text'].values.tolist()\n",
    "Y_train = training_data['toxicity'].values.tolist()\n",
    "\n",
    "X_test = test_data['comment_text'].values.tolist()\n",
    "Y_test = test_data['toxicity'].values.tolist()\n",
    "\n",
    "X_val = validation_data['comment_text'].values.tolist()\n",
    "Y_val = validation_data['toxicity'].values.tolist()"
   ]
  },
  {
   "cell_type": "code",
   "execution_count": 55,
   "metadata": {},
   "outputs": [],
   "source": [
    "class AdalineGDFair():\n",
    "    def __init__(self, learning_rate = 0.01, n_iter = 20, w = None):\n",
    "        self.w = w\n",
    "        self.bestW = None\n",
    "        self.learning_rate = learning_rate\n",
    "        self.n_iter = n_iter\n",
    "        \n",
    "    def CheckAccuracy(self, predictions, labels):\n",
    "        acc = 0.0\n",
    "        for i in range(len(predictions)):\n",
    "            if (np.round(predictions[i]) == np.round(labels[i])):\n",
    "                acc += 1\n",
    "        return acc/len(predictions)\n",
    "    \n",
    "    def predict(self, X_test):\n",
    "        # Making sure that array is numpy array\n",
    "        X_test = np.array(X_test).reshape((len(X_test), -1))\n",
    "        output = np.dot(X_test, self.w)\n",
    "        # Sigmoid giving 0-1 results\n",
    "        preds = np.round(1/(1+np.exp(-output)))\n",
    "        return preds\n",
    "    \n",
    "    def PredictTestSetDemographic(self, dfTest):\n",
    "        dic = {}\n",
    "        for col in dfTest.columns[3:]:\n",
    "            tempSet = dfTest[dfTest[col] == 1]\n",
    "            tempLabels = tempSet['toxicity'].values.tolist()\n",
    "            tempVecs = tempSet['comment_text'].values.tolist()\n",
    "            dic[col] = [tempVecs, tempLabels]\n",
    "        \n",
    "        f1_scores = []\n",
    "        for col in dic:\n",
    "            tempPredictions = self.predict(dic[col][0])\n",
    "            currentF1 = f1_score(dic[col][1], tempPredictions, zero_division=1)\n",
    "            f1_scores.append([currentF1, col])\n",
    "        \n",
    "        f1_scores = np.array(f1_scores)\n",
    "        return f1_scores\n",
    "    \n",
    "        \n",
    "    def fit(self, dfTrain, dfVal):\n",
    "        # Making sure that arrays are numpy arrays\n",
    "        \n",
    "        X_train = dfTrain['comment_text'].values.tolist()\n",
    "        Y_train = dfTrain['toxicity'].values.tolist()\n",
    "        \n",
    "        X_train = np.array(X_train).reshape((len(X_train), -1))\n",
    "        Y_train = np.array(Y_train).reshape((len(Y_train), 1))\n",
    "        \n",
    "        X_val = dfVal['comment_text'].values.tolist()\n",
    "        Y_val = dfVal['toxicity'].values.tolist()\n",
    "        \n",
    "        X_val = np.array(X_val).reshape((len(X_val), -1))\n",
    "        Y_val = np.array(Y_val).reshape((len(Y_val), 1))\n",
    "        \n",
    "        # Initializing w vector using random normal distribution\n",
    "        if self.w == None:\n",
    "            self.w = np.random.normal(0, 0.1, len(X_train[0])).reshape(len(X_train[0]), 1)\n",
    "        \n",
    "        # Updating w vector for each sample\n",
    "        output = 1/(1+np.exp(-np.dot(X_train, self.w)))\n",
    "        error = (Y_train - output)\n",
    "        self.w += (1/len(Y_train)) * self.learning_rate * np.dot(X_train.T, error)\n",
    "        \n",
    "        dicTrain = {}\n",
    "        # AFHÆNGER AF HVOR MANGE DEMOGRAFISKE VARIABLER DER HAVES: \n",
    "        for col in dfTrain.columns[3:]:\n",
    "            tempSet = dfTrain[dfTrain[col] == 1]\n",
    "            tempLabels = tempSet['toxicity'].values.tolist()\n",
    "            tempVecs = tempSet['comment_text'].values.tolist()\n",
    "            dicTrain[col] = [tempVecs, tempLabels]\n",
    "            \n",
    "        dicVal = {}\n",
    "        # AFHÆNGER AF HVOR MANGE DEMOGRAFISKE VARIABLER DER HAVES: \n",
    "        for col in dfVal.columns[3:]:\n",
    "            tempSet = dfVal[dfVal[col] == 1]\n",
    "            tempLabels = tempSet['toxicity'].values.tolist()\n",
    "            tempVecs = tempSet['comment_text'].values.tolist()\n",
    "            dicVal[col] = [tempVecs, tempLabels]\n",
    "        \n",
    "        valPreds = self.predict(X_val)\n",
    "        bestAcc = self.CheckAccuracy(valPreds, Y_val)\n",
    "\n",
    "        badEpoch = 0\n",
    "        self.bestW = self.w\n",
    "        early_stopping = 150\n",
    "        \n",
    "        self.FinalAccList_ = []\n",
    "        self.FinalAccListTrain_ = []\n",
    "        \n",
    "        # Using n epochs\n",
    "        for i in range(self.n_iter):\n",
    "            f1_scores = []\n",
    "            for col in dicVal:\n",
    "                tempPredictions = self.predict(dicVal[col][0])\n",
    "                currentF1 = f1_score(dicVal[col][1], tempPredictions, zero_division=1)\n",
    "                f1_scores.append([currentF1, col])\n",
    "            f1_scores = np.array(f1_scores)        \n",
    "            \n",
    "            if i == 0:\n",
    "                print(f1_scores)\n",
    "            \n",
    "            worstCol = f1_scores[np.argmin(f1_scores[:,0])][1]\n",
    "                        \n",
    "            temp_X_train = dicTrain[worstCol][0]\n",
    "            temp_Y_train = dicTrain[worstCol][1]\n",
    "            \n",
    "            temp_X_train = np.array(temp_X_train).reshape((len(temp_X_train), -1))\n",
    "            temp_Y_train = np.array(temp_Y_train).reshape((len(temp_Y_train), 1))\n",
    "            \n",
    "            # Updating w vector for each sample\n",
    "            output = 1/(1+np.exp(-np.dot(temp_X_train, self.w)))\n",
    "            error = (temp_Y_train - output)\n",
    "            self.w += (1/len(Y_train)) * self.learning_rate * np.dot(temp_X_train.T, error)\n",
    "            \n",
    "            valPreds = self.predict(X_val)\n",
    "            acc = self.CheckAccuracy(valPreds, Y_val)\n",
    "            self.FinalAccList_.append((acc, worstCol, i))\n",
    "            \n",
    "            trainPreds = self.predict(X_train)\n",
    "            acc = self.CheckAccuracy(trainPreds, Y_train)\n",
    "            self.FinalAccListTrain_.append((acc, worstCol, i))\n",
    "                        \n",
    "            # Saving the best model and also checks for Early_Stopping\n",
    "            if acc > bestAcc:\n",
    "                bestAcc = acc\n",
    "                badEpoch = 0\n",
    "                self.bestW = self.w\n",
    "            else:\n",
    "                badEpoch += 1\n",
    "\n",
    "            if badEpoch >= early_stopping:\n",
    "                self.w = self.bestW\n",
    "                print(\"Stopped cause of bad Epoch in iteration: \", i)\n",
    "                break\n",
    "                \n",
    "        self.FinalAccList_ = np.array(self.FinalAccList_)\n",
    "        self.FinalAccListTrain_ = np.array(self.FinalAccListTrain_)\n",
    "        self.w = self.bestW\n",
    "        return self"
   ]
  },
  {
   "cell_type": "code",
   "execution_count": 65,
   "metadata": {
    "scrolled": true
   },
   "outputs": [
    {
     "name": "stdout",
     "output_type": "stream",
     "text": [
      "[['0.48484848484848486' 'male']\n",
      " ['0.46753246753246763' 'female']\n",
      " ['0.34246575342465757' 'LGBTQ']\n",
      " ['0.29999999999999993' 'christian']\n",
      " ['0.32900432900432897' 'muslim']\n",
      " ['0.0' 'other_religion']\n",
      " ['0.5950413223140496' 'black']\n",
      " ['0.5671641791044776' 'white']]\n",
      "Stopped cause of bad Epoch in iteration:  361\n",
      "Accuracy on testSet after round 0.45761589403973507\n"
     ]
    }
   ],
   "source": [
    "model = AdalineGDFair(learning_rate = 0.1, n_iter = 5000)\n",
    "\n",
    "model.fit(training_data, validation_data)\n",
    "\n",
    "predictions = model.predict(X_test)\n",
    "\n",
    "Y_test = np.array(Y_test).reshape(len(Y_test), 1)\n",
    "\n",
    "model.CheckAccuracy(predictions, Y_test)\n",
    "print(\"Accuracy on testSet after round\", model.CheckAccuracy(predictions, Y_test))"
   ]
  },
  {
   "cell_type": "code",
   "execution_count": 66,
   "metadata": {},
   "outputs": [],
   "source": [
    "forBarPlot = model.PredictTestSetDemographic(test_data)"
   ]
  },
  {
   "cell_type": "code",
   "execution_count": 67,
   "metadata": {},
   "outputs": [
    {
     "data": {
      "text/plain": [
       "0.11325173772896217"
      ]
     },
     "execution_count": 67,
     "metadata": {},
     "output_type": "execute_result"
    }
   ],
   "source": [
    "np.std(forBarPlot[:,0].astype(float))"
   ]
  },
  {
   "cell_type": "code",
   "execution_count": 68,
   "metadata": {
    "scrolled": false
   },
   "outputs": [
    {
     "name": "stdout",
     "output_type": "stream",
     "text": [
      "[['0.5223880597014925' 'male']\n",
      " ['0.46867749419953597' 'female']\n",
      " ['0.46009389671361495' 'LGBTQ']\n",
      " ['0.40528634361233484' 'christian']\n",
      " ['0.3786008230452675' 'muslim']\n",
      " ['0.16666666666666669' 'other_religion']\n",
      " ['0.5271966527196653' 'black']\n",
      " ['0.5283018867924528' 'white']]\n"
     ]
    },
    {
     "data": {
      "image/png": "[encoded data removed]",
      "text/plain": [
       "<Figure size 432x288 with 1 Axes>"
      ]
     },
     "metadata": {
      "needs_background": "light"
     },
     "output_type": "display_data"
    }
   ],
   "source": [
    "forBarPlot = model.PredictTestSetDemographic(test_data)\n",
    "print(forBarPlot)\n",
    "plt.figure()\n",
    "\n",
    "x = forBarPlot[:,1]\n",
    "for i in range(len(x)):\n",
    "    if i%2 == 0:\n",
    "        x[i] = \"\\n\"+x[i]\n",
    "\n",
    "y = np.array(forBarPlot[:,0].astype(float))\n",
    "\n",
    "x_pos = [i for i, _ in enumerate(x)]\n",
    "\n",
    "plt.bar(x_pos, y, color=['b', 'g', 'r', 'c', 'm', 'y', 'brown', 'k'])\n",
    "\n",
    "plt.xlabel(\"\\nDemographic source\")\n",
    "plt.ylabel(\"F1-scores\")\n",
    "plt.xticks(x_pos, x)\n",
    "plt.savefig('FinalF1-scoresFair')\n",
    "plt.show()"
   ]
  },
  {
   "cell_type": "code",
   "execution_count": 69,
   "metadata": {},
   "outputs": [
    {
     "name": "stdout",
     "output_type": "stream",
     "text": [
      "0.0025988163713265345\n",
      "0.14301057501652345\n"
     ]
    }
   ],
   "source": [
    "print(np.var(forBarPlot[:,0].astype(float)))\n",
    "print(np.max(forBarPlot[:,0].astype(float)) - np.min(forBarPlot[:,0].astype(float)))"
   ]
  },
  {
   "cell_type": "code",
   "execution_count": null,
   "metadata": {},
   "outputs": [],
   "source": []
  },
  {
   "cell_type": "code",
   "execution_count": 70,
   "metadata": {},
   "outputs": [
    {
     "data": {
      "image/png": "[encoded data removed]",
      "text/plain": [
       "<Figure size 432x288 with 1 Axes>"
      ]
     },
     "metadata": {
      "needs_background": "light"
     },
     "output_type": "display_data"
    }
   ],
   "source": [
    "lstlst = []\n",
    "for k in np.unique(model.FinalAccList_[:,1]):\n",
    "    tmpLst = []\n",
    "    for i in model.FinalAccList_:\n",
    "        if k == i[1]:\n",
    "            tmpLst.append([i[0], i[2], i[1]])\n",
    "    lstlst.append(np.array(tmpLst))\n",
    "\n",
    "plt.figure()\n",
    "for lst in lstlst:\n",
    "    plt.scatter(np.array(lst[:,1]).astype(int), np.array(lst[:,0]).astype(np.float), label=lst[:,2][0])\n",
    "\n",
    "plt.xlabel('Iteration')\n",
    "plt.ylabel('Validation accuracy')\n",
    "plt.title('Fair classifier shifting between demographic groups')\n",
    "plt.legend(loc='upper left')\n",
    "plt.savefig('AccuracyEvolvingFair')\n",
    "plt.show()"
   ]
  },
  {
   "cell_type": "code",
   "execution_count": 71,
   "metadata": {},
   "outputs": [
    {
     "data": {
      "image/png": "[encoded data removed]",
      "text/plain": [
       "<Figure size 432x288 with 1 Axes>"
      ]
     },
     "metadata": {
      "needs_background": "light"
     },
     "output_type": "display_data"
    }
   ],
   "source": [
    "lstlst = []\n",
    "for k in np.unique(model.FinalAccListTrain_[:,1]):\n",
    "    tmpLst = []\n",
    "    for i in model.FinalAccListTrain_:\n",
    "        if k == i[1]:\n",
    "            tmpLst.append([i[0], i[2], i[1]])\n",
    "    lstlst.append(np.array(tmpLst))\n",
    "\n",
    "plt.figure()\n",
    "for lst in lstlst:\n",
    "    plt.scatter(np.array(lst[:,1]).astype(int), np.array(lst[:,0]).astype(np.float), label=lst[:,2][0])\n",
    "\n",
    "plt.xlabel('Iteration')\n",
    "plt.ylabel('Training accuracy')\n",
    "plt.title('Fair classifier shifting between demographic groups')\n",
    "plt.legend(loc='upper right')\n",
    "plt.savefig('AccuracyEvolving')\n",
    "plt.show()"
   ]
  },
  {
   "cell_type": "code",
   "execution_count": null,
   "metadata": {},
   "outputs": [],
   "source": []
  },
  {
   "cell_type": "code",
   "execution_count": null,
   "metadata": {},
   "outputs": [],
   "source": []
  },
  {
   "cell_type": "code",
   "execution_count": null,
   "metadata": {},
   "outputs": [],
   "source": []
  },
  {
   "cell_type": "code",
   "execution_count": null,
   "metadata": {},
   "outputs": [],
   "source": []
  }
 ],
 "metadata": {
  "kernelspec": {
   "display_name": "Python 3",
   "language": "python",
   "name": "python3"
  },
  "language_info": {
   "codemirror_mode": {
    "name": "ipython",
    "version": 3
   },
   "file_extension": ".py",
   "mimetype": "text/x-python",
   "name": "python",
   "nbconvert_exporter": "python",
   "pygments_lexer": "ipython3",
   "version": "3.8.8"
  }
 },
 "nbformat": 4,
 "nbformat_minor": 4
}
