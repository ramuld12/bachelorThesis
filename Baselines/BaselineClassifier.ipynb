{
 "cells": [
  {
   "cell_type": "code",
   "execution_count": null,
   "metadata": {
    "scrolled": false
   },
   "outputs": [],
   "source": [
    "import pandas as pd\n",
    "import numpy as np\n",
    "from sklearn.model_selection import train_test_split\n",
    "import re\n",
    "from sklearn.feature_extraction.text import CountVectorizer\n",
    "from wilds.common.data_loaders import get_train_loader\n",
    "import torchvision.transforms as transforms\n",
    "import matplotlib.pyplot as plt\n",
    "from sklearn.metrics import f1_score"
   ]
  },
  {
   "cell_type": "code",
   "execution_count": null,
   "metadata": {},
   "outputs": [],
   "source": [
    "def CleanText(text):\n",
    "    text = re.sub(r'''[\\[|\\]]''', \"\", text).split()\n",
    "    text = np.array(text, dtype=\"float64\")\n",
    "    return text"
   ]
  },
  {
   "cell_type": "code",
   "execution_count": null,
   "metadata": {},
   "outputs": [],
   "source": [
    "df = pd.read_csv(\"../CSVFiles/small50000DomainDataBertweetEmbedded.csv\")"
   ]
  },
  {
   "cell_type": "code",
   "execution_count": null,
   "metadata": {},
   "outputs": [],
   "source": [
    "df = df.loc[:, [\"comment_text\", \"split\", \"toxicity\", \"male\", \"female\", \"LGBTQ\", \"christian\", \"muslim\", \"other_religion\", \"black\", \"white\"]]\n",
    "df['comment_text'] = df['comment_text'].apply(lambda text: CleanText(text))\n",
    "\n",
    "df['toxicity'] = df['toxicity'].apply(lambda text: np.round(text >= 0.5))\n",
    "df['male'] = df['male'].apply(lambda x: np.round(x>=0.5))\n",
    "df['female'] = df['female'].apply(lambda x: np.round(x>=0.5))\n",
    "df['LGBTQ'] = df['LGBTQ'].apply(lambda x: np.round(x>=0.5))\n",
    "df['christian'] = df['christian'].apply(lambda x: np.round(x>=0.5))\n",
    "df['muslim'] = df['muslim'].apply(lambda x: np.round(x>=0.5))\n",
    "df['other_religion'] = df['other_religion'].apply(lambda x: np.round(x>=0.5))\n",
    "df['black'] = df['black'].apply(lambda x: np.round(x>=0.5))\n",
    "df['white'] = df['white'].apply(lambda x: np.round(x>=0.5))"
   ]
  },
  {
   "cell_type": "code",
   "execution_count": null,
   "metadata": {},
   "outputs": [],
   "source": [
    "# Updating values for training_data\n",
    "training_data = df[df['split'] == 'train']\n",
    "\n",
    "# Getting test_data\n",
    "test_data = df[df['split'] == 'test']\n",
    "\n",
    "# Getting validation_data\n",
    "validation_data = df[df['split'] == 'val']"
   ]
  },
  {
   "cell_type": "code",
   "execution_count": null,
   "metadata": {},
   "outputs": [],
   "source": []
  },
  {
   "cell_type": "code",
   "execution_count": null,
   "metadata": {},
   "outputs": [],
   "source": [
    "X_train = training_data['comment_text'].values.tolist()\n",
    "Y_train = training_data['toxicity'].values.tolist()\n",
    "\n",
    "X_test = test_data['comment_text'].values.tolist()\n",
    "Y_test = test_data['toxicity'].values.tolist()\n",
    "\n",
    "X_val = validation_data['comment_text'].values.tolist()\n",
    "Y_val = validation_data['toxicity'].values.tolist()"
   ]
  },
  {
   "cell_type": "code",
   "execution_count": null,
   "metadata": {},
   "outputs": [],
   "source": [
    "class AdalineGD():\n",
    "    def __init__(self, learning_rate = 0.01, n_iter = 20, w = None):\n",
    "        self.w = w\n",
    "        self.learning_rate = learning_rate\n",
    "        self.n_iter = n_iter\n",
    "        \n",
    "    def CheckAccuracy(self, predictions, labels):\n",
    "        acc = 0.0\n",
    "        for i in range(len(predictions)):\n",
    "            #print(predictions[i],labels[i])\n",
    "            if (predictions[i] == labels[i]):\n",
    "                acc += 1\n",
    "        return acc/len(predictions)\n",
    "    \n",
    "    def predict(self, X_test):\n",
    "        # Making sure that array is numpy array\n",
    "        X_test = np.array(X_test).reshape((len(X_test), -1))\n",
    "        output = np.dot(X_test, self.w)\n",
    "        # Sigmoid giving 0-1 results\n",
    "        \n",
    "        preds = np.round(1/(1+np.exp(-output)))\n",
    "        return preds\n",
    "    \n",
    "    def PredictTestSetDemographic(self, dfTest):\n",
    "        dic = {}\n",
    "        for col in dfTest.columns[3:]:\n",
    "            tempSet = dfTest[dfTest[col] == 1]\n",
    "            tempLabels = tempSet['toxicity'].values.tolist()\n",
    "            tempVecs = tempSet['comment_text'].values.tolist()\n",
    "            dic[col] = [tempVecs, tempLabels]\n",
    "        \n",
    "        f1_scores = []\n",
    "        for col in dic:\n",
    "            tempPredictions = self.predict(dic[col][0])\n",
    "            currentF1 = f1_score(dic[col][1], tempPredictions, zero_division=1)\n",
    "            f1_scores.append([currentF1, col])\n",
    "        \n",
    "        f1_scores = np.array(f1_scores)\n",
    "        return f1_scores\n",
    "        \n",
    "    def fit(self, X_train, Y_train, X_val, Y_val):\n",
    "        # Making sure that arrays are numpy arrays\n",
    "        \n",
    "        X_train = np.array(X_train).reshape((len(X_train), -1))\n",
    "        Y_train = np.array(Y_train).reshape((len(Y_train), 1))\n",
    "        \n",
    "        X_val = np.array(X_val).reshape((len(X_val), -1))\n",
    "        Y_val = np.array(Y_val).reshape((len(Y_val), 1))\n",
    "        \n",
    "        # Initializing w vector using random normal distribution\n",
    "        if self.w == None:\n",
    "            self.w = np.random.normal(0, 0.1, len(X_train[0])).reshape(len(X_train[0]), 1)\n",
    "        \n",
    "        badEpoch = 0\n",
    "        self.bestW = self.w\n",
    "        bestAcc = 0\n",
    "        early_stopping = 150\n",
    "        \n",
    "        self.TrainAccArr_ = []\n",
    "        self.ValAccArr_ = []\n",
    "        \n",
    "        # Using n epochs\n",
    "        for i in range(self.n_iter):\n",
    "            output = 1/(1+np.exp(-np.dot(X_train, self.w)))\n",
    "            error = (Y_train - output)\n",
    "            self.w += (1/len(Y_train)) * self.learning_rate * np.dot(X_train.T, error)\n",
    "        \n",
    "            tmpPredsVal = self.predict(X_val)\n",
    "            valAcc = self.CheckAccuracy(tmpPredsVal, Y_val)\n",
    "            self.ValAccArr_.append(valAcc)\n",
    "            \n",
    "            tmpPredsTrain = self.predict(X_train)\n",
    "            TrainAcc = self.CheckAccuracy(tmpPredsTrain, Y_train)\n",
    "            self.TrainAccArr_.append(TrainAcc)\n",
    "            \n",
    "            # Saving the best model and also checks for Early_Stopping\n",
    "            if valAcc > bestAcc:\n",
    "                bestAcc = valAcc\n",
    "                badEpoch = 0\n",
    "                self.bestW = self.w\n",
    "            else:\n",
    "                badEpoch += 1\n",
    "            \n",
    "            if badEpoch >= early_stopping:\n",
    "                self.w = self.bestW                \n",
    "                print(\"Stopped cause of bad Epoch in iteration: \", i)\n",
    "                break\n",
    "            #Print status\n",
    "            if (i % 100) == 0:\n",
    "                print('Iteration ', i, ' Done')\n",
    "                \n",
    "        self.TrainAccArr_ = np.array(self.TrainAccArr_)\n",
    "        self.ValAccArr_ = np.array(self.ValAccArr_)\n",
    "        self.w = self.bestW \n",
    "        return self"
   ]
  },
  {
   "cell_type": "code",
   "execution_count": null,
   "metadata": {},
   "outputs": [],
   "source": []
  },
  {
   "cell_type": "code",
   "execution_count": null,
   "metadata": {
    "scrolled": false
   },
   "outputs": [],
   "source": [
    "model = AdalineGD(learning_rate = 0.1, n_iter = 5000)\n",
    "\n",
    "model.fit(X_train, Y_train, X_val, Y_val)\n",
    "\n",
    "predictions = model.predict(X_test)\n",
    "Y_test = np.array(Y_test).reshape(len(Y_test), 1)\n",
    "\n",
    "model.CheckAccuracy(predictions, Y_test)"
   ]
  },
  {
   "cell_type": "code",
   "execution_count": null,
   "metadata": {},
   "outputs": [],
   "source": [
    "plt.figure()\n",
    "plt.scatter(np.arange(0,len(model.TrainAccArr_)), model.TrainAccArr_, color='r', label='Training accuracy')\n",
    "plt.scatter(np.arange(0,len(model.ValAccArr_)), model.ValAccArr_, color='g', label='Validation accuracy')\n",
    "#plt.title(\"Training loss vs Validation loss\")\n",
    "plt.xlabel(\"Iteration\")\n",
    "plt.ylabel(\"Accuracy\")\n",
    "plt.legend(loc='lower right')\n",
    "plt.savefig('BaselineClassifier accuracy')\n",
    "plt.show()"
   ]
  },
  {
   "cell_type": "code",
   "execution_count": null,
   "metadata": {},
   "outputs": [],
   "source": [
    "forBarPlot = model.PredictTestSetDemographic(test_data)\n",
    "print(forBarPlot)\n",
    "plt.figure()\n",
    "\n",
    "x = forBarPlot[:,1]\n",
    "for i in range(len(x)):\n",
    "    if i%2 == 0:\n",
    "        x[i] = \"\\n\"+x[i]\n",
    "\n",
    "y = np.array(forBarPlot[:,0].astype(float))\n",
    "\n",
    "x_pos = [i for i, _ in enumerate(x)]\n",
    "\n",
    "plt.bar(x_pos, y, color=['b', 'g', 'r', 'c', 'm', 'y', 'brown', 'k'])\n",
    "plt.xlabel(\"\\nDemographic source\")\n",
    "plt.ylabel(\"F1-scores\")\n",
    "plt.xticks(x_pos, x)\n",
    "plt.savefig('FinalF1BaselineClassifier')\n",
    "plt.show()"
   ]
  },
  {
   "cell_type": "code",
   "execution_count": null,
   "metadata": {},
   "outputs": [],
   "source": [
    "forBarPlot"
   ]
  },
  {
   "cell_type": "code",
   "execution_count": null,
   "metadata": {},
   "outputs": [],
   "source": [
    "print(np.var(forBarPlot[:,0].astype(float)))\n",
    "print(np.max(forBarPlot[:,0].astype(float)) - np.min(forBarPlot[:,0].astype(float)))"
   ]
  },
  {
   "cell_type": "code",
   "execution_count": null,
   "metadata": {},
   "outputs": [],
   "source": [
    "print(\"Antal toxic i predictions: \", sum(predictions))\n",
    "print(\"Antal toxic i test set: \", sum(Y_test))\n",
    "print(\"Samples i test set: \", len(Y_test))"
   ]
  },
  {
   "cell_type": "code",
   "execution_count": null,
   "metadata": {},
   "outputs": [],
   "source": []
  },
  {
   "cell_type": "code",
   "execution_count": null,
   "metadata": {},
   "outputs": [],
   "source": []
  },
  {
   "cell_type": "code",
   "execution_count": null,
   "metadata": {},
   "outputs": [],
   "source": []
  }
 ],
 "metadata": {
  "kernelspec": {
   "display_name": "Python 3",
   "language": "python",
   "name": "python3"
  },
  "language_info": {
   "codemirror_mode": {
    "name": "ipython",
    "version": 3
   },
   "file_extension": ".py",
   "mimetype": "text/x-python",
   "name": "python",
   "nbconvert_exporter": "python",
   "pygments_lexer": "ipython3",
   "version": "3.8.8"
  }
 },
 "nbformat": 4,
 "nbformat_minor": 4
}
