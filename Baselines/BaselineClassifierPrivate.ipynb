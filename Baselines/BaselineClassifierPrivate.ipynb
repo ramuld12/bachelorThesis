{
 "cells": [
  {
   "cell_type": "code",
   "execution_count": 1,
   "metadata": {},
   "outputs": [],
   "source": [
    "import pandas as pd\n",
    "import numpy as np\n",
    "from sklearn.model_selection import train_test_split\n",
    "import re\n",
    "import torchvision.transforms as transforms\n",
    "import matplotlib.pyplot as plt\n",
    "from sklearn.metrics import f1_score"
   ]
  },
  {
   "cell_type": "code",
   "execution_count": 2,
   "metadata": {},
   "outputs": [],
   "source": [
    "df = pd.read_csv(\"../CSVFiles/small50000DomainDataBertweetEmbedded.csv\")"
   ]
  },
  {
   "cell_type": "code",
   "execution_count": 3,
   "metadata": {},
   "outputs": [],
   "source": [
    "def CleanText(text):\n",
    "    text = re.sub(r'''[\\[|\\]]''', \"\", text).split()\n",
    "    text = np.array(text, dtype=\"float64\")\n",
    "    return text"
   ]
  },
  {
   "cell_type": "code",
   "execution_count": 4,
   "metadata": {},
   "outputs": [],
   "source": [
    "df = df.loc[:, [\"comment_text\", \"split\", \"toxicity\", \"male\", \"female\", \"LGBTQ\", \"christian\", \"muslim\", \"other_religion\", \"black\", \"white\"]]\n",
    "df['comment_text'] = df['comment_text'].apply(lambda text: CleanText(text))\n",
    "\n",
    "df['toxicity'] = df['toxicity'].apply(lambda text: np.round(text >= 0.5))\n",
    "df['male'] = df['male'].apply(lambda x: np.round(x>=0.5))\n",
    "df['female'] = df['female'].apply(lambda x: np.round(x>=0.5))\n",
    "df['LGBTQ'] = df['LGBTQ'].apply(lambda x: np.round(x>=0.5))\n",
    "df['christian'] = df['christian'].apply(lambda x: np.round(x>=0.5))\n",
    "df['muslim'] = df['muslim'].apply(lambda x: np.round(x>=0.5))\n",
    "df['other_religion'] = df['other_religion'].apply(lambda x: np.round(x>=0.5))\n",
    "df['black'] = df['black'].apply(lambda x: np.round(x>=0.5))\n",
    "df['white'] = df['white'].apply(lambda x: np.round(x>=0.5))"
   ]
  },
  {
   "cell_type": "code",
   "execution_count": 5,
   "metadata": {},
   "outputs": [],
   "source": [
    "# Updating values for training_data\n",
    "training_data = df[df['split'] == 'train']\n",
    "\n",
    "# Getting test_data\n",
    "test_data = df[df['split'] == 'test']\n",
    "\n",
    "# Getting validation_data\n",
    "validation_data = df[df['split'] == 'val']"
   ]
  },
  {
   "cell_type": "code",
   "execution_count": 6,
   "metadata": {},
   "outputs": [],
   "source": [
    "X_train = training_data['comment_text'].values.tolist()\n",
    "Y_train = training_data['toxicity'].values.tolist()\n",
    "\n",
    "X_test = test_data['comment_text'].values.tolist()\n",
    "Y_test = test_data['toxicity'].values.tolist()\n",
    "\n",
    "X_val = validation_data['comment_text'].values.tolist()\n",
    "Y_val = validation_data['toxicity'].values.tolist()"
   ]
  },
  {
   "cell_type": "code",
   "execution_count": 7,
   "metadata": {},
   "outputs": [],
   "source": [
    "class AdalineGDPrivate():\n",
    "    def __init__(self, learning_rate = 0.01, n_iter = 20, w = None):\n",
    "        self.w = w\n",
    "        self.learning_rate = learning_rate\n",
    "        self.n_iter = n_iter\n",
    "        \n",
    "    def CheckAccuracy(self, predictions, labels):\n",
    "        acc = 0.0\n",
    "        for i in range(len(predictions)):\n",
    "            if (predictions[i] == labels[i]):\n",
    "                acc += 1\n",
    "        return acc/len(predictions)\n",
    "    \n",
    "    def predict(self, X_test):\n",
    "        # Making sure that array is numpy array\n",
    "        X_test = np.array(X_test).reshape((len(X_test), -1))\n",
    "        output = np.dot(X_test, self.w)\n",
    "        # Sigmoid giving 0-1 results\n",
    "        \n",
    "        preds = np.round(1/(1+np.exp(-output)))\n",
    "        return preds\n",
    "    \n",
    "    def PredictTestSetDemographic(self, dfTest):\n",
    "        dic = {}\n",
    "        for col in dfTest.columns[3:]:\n",
    "            tempSet = dfTest[dfTest[col] == 1]\n",
    "            tempLabels = tempSet['toxicity'].values.tolist()\n",
    "            tempVecs = tempSet['comment_text'].values.tolist()\n",
    "            dic[col] = [tempVecs, tempLabels]\n",
    "        \n",
    "        f1_scores = []\n",
    "        for col in dic:\n",
    "            tempPredictions = self.predict(dic[col][0])\n",
    "            currentF1 = f1_score(dic[col][1], tempPredictions, zero_division=1)\n",
    "            f1_scores.append([currentF1, col])\n",
    "        \n",
    "        f1_scores = np.array(f1_scores)\n",
    "        return f1_scores\n",
    "    \n",
    "    def addNoise(self, X_train, eps):\n",
    "        #Inspiration from https://www.researchgate.net/post/How-to-add-some-noise-data-to-my-classification-datasets\n",
    "        #Find standard deviation\n",
    "        std = np.std(X_train, axis=1)\n",
    "        \n",
    "        #Choose number to scale added noise by\n",
    "        epsilon = eps\n",
    "        \n",
    "        #Add noise to each entrance in each row\n",
    "        for i in range(len(std)):\n",
    "            noise = np.random.uniform(-std[i], std[i], len(X_train[i]))\n",
    "            X_train[i] += (noise * epsilon)\n",
    "        return X_train\n",
    "        \n",
    "    def fit(self, X_train, Y_train, X_val, Y_val):\n",
    "        # Making sure that arrays are numpy arrays\n",
    "        \n",
    "        X_train = np.array(X_train).reshape((len(X_train), -1))\n",
    "        Y_train = np.array(Y_train).reshape((len(Y_train), 1))\n",
    "        \n",
    "        X_val = np.array(X_val).reshape((len(X_val), -1))\n",
    "        Y_val = np.array(Y_val).reshape((len(Y_val), 1))\n",
    "        \n",
    "        # Initializing w vector using random normal distribution\n",
    "        if self.w == None:\n",
    "            self.w = np.random.normal(0, 0.1, len(X_train[0])).reshape(len(X_train[0]), 1)\n",
    "        \n",
    "        badEpoch = 0\n",
    "        self.bestW = self.w\n",
    "        bestAcc = 0\n",
    "        early_stopping = 150\n",
    "        \n",
    "        self.TrainAccArr_ = []\n",
    "        self.ValAccArr_ = []\n",
    "        \n",
    "        # Using n epochs\n",
    "        for i in range(self.n_iter):\n",
    "            #Add noise to traning data\n",
    "            X_trainTemp = self.addNoise(X_train, 0.1)\n",
    "            \n",
    "            output = 1/(1+np.exp(-np.dot(X_trainTemp, self.w)))\n",
    "            error = (Y_train - output)\n",
    "            self.w += (1/len(Y_train)) * self.learning_rate * np.dot(X_trainTemp.T, error)\n",
    "        \n",
    "            tmpPredsVal = self.predict(X_val)\n",
    "            valAcc = self.CheckAccuracy(tmpPredsVal, Y_val)\n",
    "            self.ValAccArr_.append(valAcc)\n",
    "            \n",
    "            tmpPredsTrain = self.predict(X_train)\n",
    "            TrainAcc = self.CheckAccuracy(tmpPredsTrain, Y_train)\n",
    "            self.TrainAccArr_.append(TrainAcc)\n",
    "            \n",
    "            # Saving the best model and also checks for Early_Stopping\n",
    "            if valAcc > bestAcc:\n",
    "                bestAcc = valAcc\n",
    "                badEpoch = 0\n",
    "                self.bestW = self.w\n",
    "            else:\n",
    "                badEpoch += 1\n",
    "            \n",
    "            if badEpoch >= early_stopping:\n",
    "                self.w = self.bestW                \n",
    "                print(\"Stopped cause of bad Epoch in iteration: \", i)\n",
    "                break\n",
    "            #Print status\n",
    "            if (i % 100) == 0:\n",
    "                print('Iteration ', i, ' Done')\n",
    "            #print(i)\n",
    "                \n",
    "        self.TrainAccArr_ = np.array(self.TrainAccArr_)\n",
    "        self.ValAccArr_ = np.array(self.ValAccArr_)\n",
    "        self.w = self.bestW\n",
    "        return self"
   ]
  },
  {
   "cell_type": "code",
   "execution_count": 8,
   "metadata": {},
   "outputs": [
    {
     "name": "stdout",
     "output_type": "stream",
     "text": [
      "Iteration  0  Done\n"
     ]
    },
    {
     "ename": "KeyboardInterrupt",
     "evalue": "",
     "output_type": "error",
     "traceback": [
      "\u001b[1;31m---------------------------------------------------------------------------\u001b[0m",
      "\u001b[1;31mKeyboardInterrupt\u001b[0m                         Traceback (most recent call last)",
      "\u001b[1;32m<ipython-input-8-ff93adc4ee9a>\u001b[0m in \u001b[0;36m<module>\u001b[1;34m\u001b[0m\n\u001b[0;32m      1\u001b[0m \u001b[0mmodel\u001b[0m \u001b[1;33m=\u001b[0m \u001b[0mAdalineGDPrivate\u001b[0m\u001b[1;33m(\u001b[0m\u001b[0mlearning_rate\u001b[0m \u001b[1;33m=\u001b[0m \u001b[1;36m0.1\u001b[0m\u001b[1;33m,\u001b[0m \u001b[0mn_iter\u001b[0m \u001b[1;33m=\u001b[0m \u001b[1;36m5000\u001b[0m\u001b[1;33m)\u001b[0m\u001b[1;33m\u001b[0m\u001b[1;33m\u001b[0m\u001b[0m\n\u001b[0;32m      2\u001b[0m \u001b[1;33m\u001b[0m\u001b[0m\n\u001b[1;32m----> 3\u001b[1;33m \u001b[0mmodel\u001b[0m\u001b[1;33m.\u001b[0m\u001b[0mfit\u001b[0m\u001b[1;33m(\u001b[0m\u001b[0mX_train\u001b[0m\u001b[1;33m,\u001b[0m \u001b[0mY_train\u001b[0m\u001b[1;33m,\u001b[0m \u001b[0mX_val\u001b[0m\u001b[1;33m,\u001b[0m \u001b[0mY_val\u001b[0m\u001b[1;33m)\u001b[0m\u001b[1;33m\u001b[0m\u001b[1;33m\u001b[0m\u001b[0m\n\u001b[0m\u001b[0;32m      4\u001b[0m \u001b[0mpredictions\u001b[0m \u001b[1;33m=\u001b[0m \u001b[0mmodel\u001b[0m\u001b[1;33m.\u001b[0m\u001b[0mpredict\u001b[0m\u001b[1;33m(\u001b[0m\u001b[0mX_test\u001b[0m\u001b[1;33m)\u001b[0m\u001b[1;33m\u001b[0m\u001b[1;33m\u001b[0m\u001b[0m\n\u001b[0;32m      5\u001b[0m \u001b[1;33m\u001b[0m\u001b[0m\n",
      "\u001b[1;32m<ipython-input-7-cdab636c8562>\u001b[0m in \u001b[0;36mfit\u001b[1;34m(self, X_train, Y_train, X_val, Y_val)\u001b[0m\n\u001b[0;32m     76\u001b[0m         \u001b[1;32mfor\u001b[0m \u001b[0mi\u001b[0m \u001b[1;32min\u001b[0m \u001b[0mrange\u001b[0m\u001b[1;33m(\u001b[0m\u001b[0mself\u001b[0m\u001b[1;33m.\u001b[0m\u001b[0mn_iter\u001b[0m\u001b[1;33m)\u001b[0m\u001b[1;33m:\u001b[0m\u001b[1;33m\u001b[0m\u001b[1;33m\u001b[0m\u001b[0m\n\u001b[0;32m     77\u001b[0m             \u001b[1;31m#Add noise to traning data\u001b[0m\u001b[1;33m\u001b[0m\u001b[1;33m\u001b[0m\u001b[1;33m\u001b[0m\u001b[0m\n\u001b[1;32m---> 78\u001b[1;33m             \u001b[0mX_trainTemp\u001b[0m \u001b[1;33m=\u001b[0m \u001b[0mself\u001b[0m\u001b[1;33m.\u001b[0m\u001b[0maddNoise\u001b[0m\u001b[1;33m(\u001b[0m\u001b[0mX_train\u001b[0m\u001b[1;33m,\u001b[0m \u001b[1;36m0.1\u001b[0m\u001b[1;33m)\u001b[0m\u001b[1;33m\u001b[0m\u001b[1;33m\u001b[0m\u001b[0m\n\u001b[0m\u001b[0;32m     79\u001b[0m \u001b[1;33m\u001b[0m\u001b[0m\n\u001b[0;32m     80\u001b[0m             \u001b[0moutput\u001b[0m \u001b[1;33m=\u001b[0m \u001b[1;36m1\u001b[0m\u001b[1;33m/\u001b[0m\u001b[1;33m(\u001b[0m\u001b[1;36m1\u001b[0m\u001b[1;33m+\u001b[0m\u001b[0mnp\u001b[0m\u001b[1;33m.\u001b[0m\u001b[0mexp\u001b[0m\u001b[1;33m(\u001b[0m\u001b[1;33m-\u001b[0m\u001b[0mnp\u001b[0m\u001b[1;33m.\u001b[0m\u001b[0mdot\u001b[0m\u001b[1;33m(\u001b[0m\u001b[0mX_trainTemp\u001b[0m\u001b[1;33m,\u001b[0m \u001b[0mself\u001b[0m\u001b[1;33m.\u001b[0m\u001b[0mw\u001b[0m\u001b[1;33m)\u001b[0m\u001b[1;33m)\u001b[0m\u001b[1;33m)\u001b[0m\u001b[1;33m\u001b[0m\u001b[1;33m\u001b[0m\u001b[0m\n",
      "\u001b[1;32m<ipython-input-7-cdab636c8562>\u001b[0m in \u001b[0;36maddNoise\u001b[1;34m(self, X_train, eps)\u001b[0m\n\u001b[0;32m     48\u001b[0m         \u001b[1;31m#Add noise to each entrance in each row\u001b[0m\u001b[1;33m\u001b[0m\u001b[1;33m\u001b[0m\u001b[1;33m\u001b[0m\u001b[0m\n\u001b[0;32m     49\u001b[0m         \u001b[1;32mfor\u001b[0m \u001b[0mi\u001b[0m \u001b[1;32min\u001b[0m \u001b[0mrange\u001b[0m\u001b[1;33m(\u001b[0m\u001b[0mlen\u001b[0m\u001b[1;33m(\u001b[0m\u001b[0mstd\u001b[0m\u001b[1;33m)\u001b[0m\u001b[1;33m)\u001b[0m\u001b[1;33m:\u001b[0m\u001b[1;33m\u001b[0m\u001b[1;33m\u001b[0m\u001b[0m\n\u001b[1;32m---> 50\u001b[1;33m             \u001b[0mnoise\u001b[0m \u001b[1;33m=\u001b[0m \u001b[0mnp\u001b[0m\u001b[1;33m.\u001b[0m\u001b[0mrandom\u001b[0m\u001b[1;33m.\u001b[0m\u001b[0muniform\u001b[0m\u001b[1;33m(\u001b[0m\u001b[1;33m-\u001b[0m\u001b[0mstd\u001b[0m\u001b[1;33m[\u001b[0m\u001b[0mi\u001b[0m\u001b[1;33m]\u001b[0m\u001b[1;33m,\u001b[0m \u001b[0mstd\u001b[0m\u001b[1;33m[\u001b[0m\u001b[0mi\u001b[0m\u001b[1;33m]\u001b[0m\u001b[1;33m,\u001b[0m \u001b[0mlen\u001b[0m\u001b[1;33m(\u001b[0m\u001b[0mX_train\u001b[0m\u001b[1;33m[\u001b[0m\u001b[0mi\u001b[0m\u001b[1;33m]\u001b[0m\u001b[1;33m)\u001b[0m\u001b[1;33m)\u001b[0m\u001b[1;33m\u001b[0m\u001b[1;33m\u001b[0m\u001b[0m\n\u001b[0m\u001b[0;32m     51\u001b[0m             \u001b[0mX_train\u001b[0m\u001b[1;33m[\u001b[0m\u001b[0mi\u001b[0m\u001b[1;33m]\u001b[0m \u001b[1;33m+=\u001b[0m \u001b[1;33m(\u001b[0m\u001b[0mnoise\u001b[0m \u001b[1;33m*\u001b[0m \u001b[0mepsilon\u001b[0m\u001b[1;33m)\u001b[0m\u001b[1;33m\u001b[0m\u001b[1;33m\u001b[0m\u001b[0m\n\u001b[0;32m     52\u001b[0m         \u001b[1;32mreturn\u001b[0m \u001b[0mX_train\u001b[0m\u001b[1;33m\u001b[0m\u001b[1;33m\u001b[0m\u001b[0m\n",
      "\u001b[1;31mKeyboardInterrupt\u001b[0m: "
     ]
    }
   ],
   "source": [
    "model = AdalineGDPrivate(learning_rate = 0.1, n_iter = 5000)\n",
    "\n",
    "model.fit(X_train, Y_train, X_val, Y_val)\n",
    "predictions = model.predict(X_test)\n",
    "\n",
    "Y_test = np.array(Y_test).reshape(len(Y_test), 1)\n",
    "model.CheckAccuracy(predictions, Y_test)"
   ]
  },
  {
   "cell_type": "code",
   "execution_count": null,
   "metadata": {},
   "outputs": [],
   "source": [
    "plt.figure()\n",
    "plt.scatter(np.arange(0,len(model.TrainAccArr_)), model.TrainAccArr_, color='r', label='Training accuracy')\n",
    "plt.scatter(np.arange(0,len(model.ValAccArr_)), model.ValAccArr_, color='g', label='Validation accuracy')\n",
    "#plt.title(\"Training loss vs Validation loss\")\n",
    "plt.xlabel(\"Iteration\")\n",
    "plt.ylabel(\"Accuracy\")\n",
    "plt.legend(loc=\"upper left\")\n",
    "plt.savefig('BaselineClassifier accuracy Private')\n",
    "plt.show()"
   ]
  },
  {
   "cell_type": "code",
   "execution_count": null,
   "metadata": {},
   "outputs": [],
   "source": [
    "forBarPlot = model.PredictTestSetDemographic(test_data)"
   ]
  },
  {
   "cell_type": "code",
   "execution_count": null,
   "metadata": {},
   "outputs": [],
   "source": [
    "np.std(forBarPlot[:,0].astype(float))"
   ]
  },
  {
   "cell_type": "code",
   "execution_count": null,
   "metadata": {},
   "outputs": [],
   "source": [
    "forBarPlot = model.PredictTestSetDemographic(test_data)\n",
    "print(forBarPlot)\n",
    "plt.figure()\n",
    "\n",
    "x = forBarPlot[:,1]\n",
    "for i in range(len(x)):\n",
    "    if i%2 == 0:\n",
    "        x[i] = \"\\n\"+x[i]\n",
    "\n",
    "y = np.array(forBarPlot[:,0].astype(float))\n",
    "\n",
    "x_pos = [i for i, _ in enumerate(x)]\n",
    "\n",
    "plt.bar(x_pos, y, color=['b', 'g', 'r', 'c', 'm', 'y', 'brown', 'k'])\n",
    "plt.title('F1_socres across demographic groups')\n",
    "plt.xlabel(\"\\nDemographic source\")\n",
    "plt.ylabel(\"F1-scores\")\n",
    "plt.xticks(x_pos, x)\n",
    "plt.savefig('FinalF1BaselineClassifierPrivate')\n",
    "plt.show()"
   ]
  },
  {
   "cell_type": "code",
   "execution_count": null,
   "metadata": {},
   "outputs": [],
   "source": [
    "print(np.var(forBarPlot[:,0].astype(float)))\n",
    "print(np.max(forBarPlot[:,0].astype(float)) - np.min(forBarPlot[:,0].astype(float)))"
   ]
  },
  {
   "cell_type": "code",
   "execution_count": null,
   "metadata": {},
   "outputs": [],
   "source": []
  },
  {
   "cell_type": "code",
   "execution_count": null,
   "metadata": {},
   "outputs": [],
   "source": []
  },
  {
   "cell_type": "code",
   "execution_count": null,
   "metadata": {},
   "outputs": [],
   "source": []
  }
 ],
 "metadata": {
  "kernelspec": {
   "display_name": "Python 3",
   "language": "python",
   "name": "python3"
  },
  "language_info": {
   "codemirror_mode": {
    "name": "ipython",
    "version": 3
   },
   "file_extension": ".py",
   "mimetype": "text/x-python",
   "name": "python",
   "nbconvert_exporter": "python",
   "pygments_lexer": "ipython3",
   "version": "3.8.8"
  }
 },
 "nbformat": 4,
 "nbformat_minor": 4
}
