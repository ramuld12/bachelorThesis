{
 "cells": [
  {
   "cell_type": "code",
   "execution_count": 1,
   "metadata": {},
   "outputs": [
    {
     "name": "stderr",
     "output_type": "stream",
     "text": [
      "WARNING:root:The WILDS package is out of date. Your version is 1.0.0, while the latest version is 1.1.0.\n"
     ]
    }
   ],
   "source": [
    "import pandas as pd\n",
    "import numpy as np\n",
    "from sklearn.model_selection import train_test_split\n",
    "import re\n",
    "from sklearn.feature_extraction.text import CountVectorizer\n",
    "from wilds.common.data_loaders import get_train_loader\n",
    "from sklearn.metrics import f1_score\n",
    "import torchvision.transforms as transforms\n",
    "from sklearn.linear_model import LogisticRegression\n",
    "import matplotlib.pyplot as plt"
   ]
  },
  {
   "cell_type": "code",
   "execution_count": 2,
   "metadata": {},
   "outputs": [],
   "source": [
    "df = pd.read_csv(\"all_data_with_identitiesEmbedded.csv\")"
   ]
  },
  {
   "cell_type": "code",
   "execution_count": 3,
   "metadata": {},
   "outputs": [],
   "source": [
    "def CleanText(text):\n",
    "    text = re.sub(r'''[\\[|\\]]''', \"\", text).split()\n",
    "    text = np.array(text, dtype=\"float64\")\n",
    "    return text"
   ]
  },
  {
   "cell_type": "code",
   "execution_count": 4,
   "metadata": {},
   "outputs": [],
   "source": [
    "\n",
    "df = df.loc[:, [\"comment_text\", \"split\", \"na_gender\", \"na_race\", \"toxicity\", \"male\", \"female\", \"transgender\", \"black\", \"white\", \"asian\", \"latino\"]]\n",
    "\n",
    "df['toxicity'] = df['toxicity'].apply(lambda score: np.round(score))\n",
    "df['comment_text'] = df['comment_text'].apply(lambda text: CleanText(text))\n",
    "\n",
    "df['male'] = df['male'].apply(lambda x: round(x))\n",
    "df['female'] = df['female'].apply(lambda x: round(x))\n",
    "df['transgender'] = df['transgender'].apply(lambda x: round(x))\n",
    "df['black'] = df['black'].apply(lambda x: round(x))\n",
    "df['white'] = df['white'].apply(lambda x: round(x))\n",
    "df['asian'] = df['asian'].apply(lambda x: round(x))\n",
    "df['latino'] = df['latino'].apply(lambda x: round(x))"
   ]
  },
  {
   "cell_type": "code",
   "execution_count": 5,
   "metadata": {},
   "outputs": [],
   "source": [
    "# Updating values for training_data\n",
    "training_data = df[df['split'] == 'train']\n",
    "training_data = training_data[(training_data['na_gender'] == 0) | (training_data['na_race'] == 0)]\n",
    "\n",
    "# Getting test_data\n",
    "test_data = df[df['split'] == 'test']\n",
    "test_data = test_data[(test_data['na_gender'] == 0) | (test_data['na_race'] == 0)]\n",
    "\n",
    "# Getting validation_data\n",
    "validation_data = df[df['split'] == 'val']\n",
    "validation_data = validation_data[(validation_data['na_gender'] == 0) | (validation_data['na_race'] == 0)]"
   ]
  },
  {
   "cell_type": "code",
   "execution_count": 6,
   "metadata": {},
   "outputs": [],
   "source": [
    "X_train = training_data['comment_text'].values.tolist()\n",
    "Y_train = training_data['toxicity'].values.tolist()\n",
    "\n",
    "X_test = test_data['comment_text'].values.tolist()\n",
    "Y_test = test_data['toxicity'].values.tolist()\n",
    "\n",
    "X_val = validation_data['comment_text'].values.tolist()\n",
    "Y_val = validation_data['toxicity'].values.tolist()"
   ]
  },
  {
   "cell_type": "code",
   "execution_count": 7,
   "metadata": {},
   "outputs": [],
   "source": [
    "class OwnF1():\n",
    "    def __init__(self, y_pred=None, y_true=None):\n",
    "        self.tp = 0\n",
    "        self.tn = 0\n",
    "        self.fp = 0\n",
    "        self.fn = 0\n",
    "        self.f1 = 0\n",
    "        self.y_pred = y_pred\n",
    "        self.y_true = y_true\n",
    "    \n",
    "    precision = 0\n",
    "    recall = 0\n",
    "    def confusion_matrix(self):\n",
    "        for i in range(len(self.y_true)):\n",
    "            if self.y_true[i]==1 and self.y_pred[i]==1:\n",
    "                self.tp += 1\n",
    "            if self.y_true[i]==0 and self.y_pred[i]==0:\n",
    "                self.tn += 1\n",
    "            if self.y_true[i]==0 and self.y_pred[i]==1:\n",
    "                self.fp += 1\n",
    "            if self.y_true[i]==1 and self.y_pred[i]==0:\n",
    "                self.fn += 1\n",
    "    \n",
    "    def precision_recall(self):\n",
    "        self.confusion_matrix()\n",
    "        self.precision = self.tp/(self.tp+self.fp)\n",
    "        self.recall = self.tp/(self.tp+self.fn)\n",
    "        \n",
    "    def f1_score(self):\n",
    "        self.precision_recall()\n",
    "        self.f1 = 2*(self.precision*self.recall)/(self.precision+self.recall)\n",
    "        \n",
    "    def print_info(self):\n",
    "        print('True Positives :', self.tp)\n",
    "        print('True Negatives :', self.tn)\n",
    "        print('False Positives :',self.fp)\n",
    "        print('False Negatives :',self.fn)\n",
    "        print('Precision : ',self.precision, '\\nRecall : ',self.recall)\n",
    "        print('F1 Score : ',self.f1)"
   ]
  },
  {
   "cell_type": "code",
   "execution_count": 30,
   "metadata": {},
   "outputs": [],
   "source": [
    "class AdalineGDPrivateAndFairF1():\n",
    "    def __init__(self, learning_rate = 0.01, n_iter = 20, w = None):\n",
    "        self.w = w\n",
    "        self.bestW = None\n",
    "        self.learning_rate = learning_rate\n",
    "        self.n_iter = n_iter\n",
    "        \n",
    "    def CheckAccuracy(self, predictions, labels):\n",
    "        acc = 0.0\n",
    "        for i in range(len(predictions)):\n",
    "            if (np.round(predictions[i]) == np.round(labels[i])):\n",
    "                acc += 1\n",
    "        return acc/len(predictions)\n",
    "    \n",
    "    def CheckF1Score(self, predictions, labels):\n",
    "        # As seen in https://scikit-learn.org/stable/modules/generated/sklearn.metrics.f1_score.html\n",
    "        ownF1Model = OwnF1(predictions, labels)\n",
    "        ownF1Model.f1_score()\n",
    "        ownF1Model.print_info()\n",
    "    \n",
    "    def predict(self, X_test):\n",
    "        #print(len(X_test))\n",
    "        # Making sure that array is numpy array\n",
    "        X_test = np.array(X_test).reshape((len(X_test), -1))\n",
    "        output = np.dot(X_test, self.w)\n",
    "        # Sigmoid giving 0-1 results\n",
    "        preds = np.round(1/(1+np.exp(-output)))\n",
    "        return preds\n",
    "    \n",
    "    def PredictTestSetDemographic(self, dfTest):\n",
    "        dic = {}\n",
    "        for col in dfTest.columns[5:]:\n",
    "            tempSet = dfTest[dfTest[col] == 1]\n",
    "            tempLabels = tempSet['toxicity'].values.tolist()\n",
    "            tempVecs = tempSet['comment_text'].values.tolist()\n",
    "            dic[col] = [tempVecs, tempLabels]\n",
    "        \n",
    "        accuracies = []\n",
    "        for col in dic:\n",
    "            tempPredictions = self.predict(dic[col][0])\n",
    "            currentAccuracy = self.CheckAccuracy(tempPredictions, dic[col][1])\n",
    "            accuracies.append([currentAccuracy, col])\n",
    "        \n",
    "        accuracies = np.array(accuracies)\n",
    "        return accuracies\n",
    "    \n",
    "    # For adding noise \n",
    "    def addNoise(self, X_train):\n",
    "        #Inspiration from https://www.researchgate.net/post/How-to-add-some-noise-data-to-my-classification-datasets\n",
    "        #Find standard deviation\n",
    "        std = np.std(X_train, axis=1)\n",
    "        \n",
    "        #Choose number to scale added noise by\n",
    "        epsilon = 0.1\n",
    "        \n",
    "        #Add noise to each entrance in each row\n",
    "        for i in range(len(std)):\n",
    "            noise = np.random.uniform(-std[i], std[i], len(X_train[i]))\n",
    "            X_train[i] += (noise * epsilon)\n",
    "        return X_train\n",
    "        \n",
    "    def fit(self, dfTrain, dfVal):\n",
    "        # Making sure that arrays are numpy arrays\n",
    "        \n",
    "        X_train = dfTrain['comment_text'].values.tolist()\n",
    "        Y_train = dfTrain['toxicity'].values.tolist()\n",
    "        \n",
    "        X_train = np.array(X_train).reshape((len(X_train), -1))\n",
    "        Y_train = np.array(Y_train).reshape((len(Y_train), 1))\n",
    "        \n",
    "        X_val = dfVal['comment_text'].values.tolist()\n",
    "        Y_val = dfVal['toxicity'].values.tolist()\n",
    "        \n",
    "        X_val = np.array(X_val).reshape((len(X_val), -1))\n",
    "        Y_val = np.array(Y_val).reshape((len(Y_val), 1))\n",
    "        \n",
    "        # Initializing w vector using random normal distribution\n",
    "        if self.w == None:\n",
    "            self.w = np.random.normal(0, 0.1, len(X_train[0])).reshape(len(X_train[0]), 1)\n",
    "        \n",
    "        # Updating w vector for each sample\n",
    "        output = 1/(1+np.exp(-np.dot(X_train, self.w)))\n",
    "        error = (Y_train - output)            \n",
    "        self.w += (1/len(Y_train)) * self.learning_rate * np.dot(X_train.T, error)\n",
    "        \n",
    "        dic = {}\n",
    "        # AFHÆNGER AF HVOR MANGE DEMOGRAFISKE VARIABLER DER HAVES: \n",
    "        for col in dfTrain.columns[5:]:\n",
    "            tempSet = dfTrain[dfTrain[col] == 1]\n",
    "            tempLabels = tempSet['toxicity'].values.tolist()\n",
    "            tempVecs = tempSet['comment_text'].values.tolist()\n",
    "            dic[col] = [tempVecs, tempLabels]\n",
    "        \n",
    "        valPreds = self.predict(X_val)\n",
    "        bestValAcc = self.CheckAccuracy(valPreds, Y_val)\n",
    "\n",
    "        badEpoch = 0\n",
    "        self.bestW = self.w\n",
    "        early_stopping = 10\n",
    "        \n",
    "        self.FinalAccList_ = []\n",
    "        \n",
    "        # Using n epochs\n",
    "        for i in range(self.n_iter):\n",
    "            f1_array = []\n",
    "            for col in dic:\n",
    "                tempPredictions = self.predict(dic[col][0])\n",
    "                currentF1 = f1_score(tempPredictions, dic[col][1],zero_division=1)\n",
    "                f1_array.append([currentF1, col])\n",
    "            f1_array = np.array(f1_array)\n",
    "            \n",
    "            if i == 0:        \n",
    "                print(\"---- F1 score before training ---------\")\n",
    "                self.CheckF1Score(self.predict(X_test), Y_test)\n",
    "            \n",
    "            worstCol = f1_array[np.argmin(f1_array[:,0])][1]\n",
    "            \n",
    "            \n",
    "            #Add noise to traning data\n",
    "            X_train = self.addNoise(dic[worstCol][0])\n",
    "            Y_train = dic[worstCol][1]\n",
    "            \n",
    "            X_train = np.array(X_train).reshape((len(X_train), -1))\n",
    "            Y_train = np.array(Y_train).reshape((len(Y_train), 1))\n",
    "            \n",
    "            # Updating w vector for each sample\n",
    "            output = 1/(1+np.exp(-np.dot(X_train, self.w)))\n",
    "            error = (Y_train - output)\n",
    "            self.w += (1/len(Y_train)) * self.learning_rate * np.dot(X_train.T, error)\n",
    "            \n",
    "            valPreds = self.predict(X_val)\n",
    "            valAcc = self.CheckAccuracy(valPreds, Y_val)\n",
    "            \n",
    "            self.FinalAccList_.append((valAcc, worstCol, i))\n",
    "            \n",
    "                        \n",
    "            # Saving the best model and also checks for Early_Stopping\n",
    "            if valAcc > bestValAcc:\n",
    "                bestValAcc = valAcc\n",
    "                badEpoch = 0\n",
    "                self.bestW = self.w\n",
    "            else:\n",
    "                badEpoch += 1\n",
    "\n",
    "            if badEpoch >= early_stopping:\n",
    "                self.w = self.bestW\n",
    "                print(\"Stopped cause of bad Epoch in iteration: \", i)\n",
    "                break\n",
    "            if (i % 100) == 0:\n",
    "                print('Iteration ', i, ' Done, current accuracy is: ', bestValAcc, ' on col: ', worstCol)\n",
    "            \n",
    "        \n",
    "        self.FinalAccList_ = np.array(self.FinalAccList_)\n",
    "        return self"
   ]
  },
  {
   "cell_type": "code",
   "execution_count": 31,
   "metadata": {},
   "outputs": [
    {
     "name": "stdout",
     "output_type": "stream",
     "text": [
      "---- F1 score before training ---------\n",
      "True Positives : 2233\n",
      "True Negatives : 16388\n",
      "False Positives : 14277\n",
      "False Negatives : 2184\n",
      "Precision :  0.13525136281041794 \n",
      "Recall :  0.5055467511885895\n",
      "F1 Score :  0.21340851531514313\n",
      "Iteration  0  Done, current accuracy is:  0.5450671910848902  on col:  asian\n",
      "Iteration  100  Done, current accuracy is:  0.8657817109144543  on col:  transgender\n",
      "Stopped cause of bad Epoch in iteration:  151\n",
      "---- F1 score after training ---------\n",
      "True Positives : 17\n",
      "True Negatives : 30505\n",
      "False Positives : 160\n",
      "False Negatives : 4400\n",
      "Precision :  0.096045197740113 \n",
      "Recall :  0.0038487661308580483\n",
      "F1 Score :  0.007400957771005659\n",
      "Accuracy after training:  0.8700188130665298\n"
     ]
    }
   ],
   "source": [
    "model = AdalineGDPrivateAndFairF1(learning_rate = 0.0004, n_iter = 1000)\n",
    "\n",
    "model.fit(training_data, validation_data)\n",
    "\n",
    "predictions = model.predict(X_test)\n",
    "\n",
    "\n",
    "Y_test = np.array(Y_test).reshape(len(Y_test), 1)\n",
    "\n",
    "print(\"---- F1 score after training ---------\")\n",
    "model.CheckF1Score(predictions, Y_test)\n",
    "\n",
    "print(\"Accuracy after training: \", model.CheckAccuracy(predictions, Y_test))\n"
   ]
  },
  {
   "cell_type": "code",
   "execution_count": null,
   "metadata": {},
   "outputs": [],
   "source": []
  },
  {
   "cell_type": "code",
   "execution_count": null,
   "metadata": {},
   "outputs": [],
   "source": []
  },
  {
   "cell_type": "code",
   "execution_count": 32,
   "metadata": {},
   "outputs": [],
   "source": [
    "forBarPlot = model.PredictTestSetDemographic(test_data)"
   ]
  },
  {
   "cell_type": "code",
   "execution_count": 33,
   "metadata": {},
   "outputs": [
    {
     "data": {
      "text/plain": [
       "0.051500950284863546"
      ]
     },
     "execution_count": 33,
     "metadata": {},
     "output_type": "execute_result"
    }
   ],
   "source": [
    "np.std(forBarPlot[:,0].astype(float))"
   ]
  },
  {
   "cell_type": "code",
   "execution_count": 34,
   "metadata": {},
   "outputs": [
    {
     "name": "stderr",
     "output_type": "stream",
     "text": [
      "<ipython-input-34-b3e39705347d>:6: MatplotlibDeprecationWarning: Using a string of single character colors as a color sequence is deprecated since 3.2 and will be removed two minor releases later. Use an explicit list instead.\n",
      "  plt.bar(x_pos, y, color='rgbkymc')\n"
     ]
    },
    {
     "data": {
      "image/png": "[encoded data removed]",
      "text/plain": [
       "<Figure size 432x288 with 1 Axes>"
      ]
     },
     "metadata": {
      "needs_background": "light"
     },
     "output_type": "display_data"
    }
   ],
   "source": [
    "forBarPlot = model.PredictTestSetDemographic(test_data)\n",
    "plt.figure()\n",
    "x = forBarPlot[:,1]\n",
    "y = np.array(forBarPlot[:,0].astype(float))\n",
    "x_pos = [i for i, _ in enumerate(x)]\n",
    "plt.bar(x_pos, y, color='rgbkymc')\n",
    "plt.xlabel(\"\\nDemographic source\")\n",
    "plt.ylabel(\"Accuracy\")\n",
    "plt.xticks(x_pos, x)\n",
    "plt.show()"
   ]
  },
  {
   "cell_type": "code",
   "execution_count": 35,
   "metadata": {},
   "outputs": [],
   "source": [
    "# Rodet\n",
    "lstlst = []\n",
    "for k in np.unique(model.FinalAccList_[:,1]):\n",
    "    tmpLst = []\n",
    "    for i in model.FinalAccList_:\n",
    "        if k == i[1]:\n",
    "            tmpLst.append([i[0], i[2], i[1]])\n",
    "    lstlst.append(np.array(tmpLst))"
   ]
  },
  {
   "cell_type": "code",
   "execution_count": 36,
   "metadata": {},
   "outputs": [
    {
     "data": {
      "image/png": "[encoded data removed]",
      "text/plain": [
       "<Figure size 432x288 with 1 Axes>"
      ]
     },
     "metadata": {
      "needs_background": "light"
     },
     "output_type": "display_data"
    }
   ],
   "source": [
    "plt.figure()\n",
    "for lst in lstlst:\n",
    "    plt.scatter(np.array(lst[:,1]).astype(int), np.array(lst[:,0]).astype(np.float), label=lst[:,2][0])\n",
    "\n",
    "plt.xlabel('Iteration')\n",
    "plt.ylabel('Accuracy')\n",
    "plt.title('Fair and private classifier with f1')\n",
    "plt.legend(loc='lower right')\n",
    "plt.show()"
   ]
  },
  {
   "cell_type": "code",
   "execution_count": null,
   "metadata": {},
   "outputs": [],
   "source": []
  },
  {
   "cell_type": "code",
   "execution_count": null,
   "metadata": {},
   "outputs": [],
   "source": []
  },
  {
   "cell_type": "code",
   "execution_count": null,
   "metadata": {},
   "outputs": [],
   "source": []
  }
 ],
 "metadata": {
  "kernelspec": {
   "display_name": "Python 3",
   "language": "python",
   "name": "python3"
  },
  "language_info": {
   "codemirror_mode": {
    "name": "ipython",
    "version": 3
   },
   "file_extension": ".py",
   "mimetype": "text/x-python",
   "name": "python",
   "nbconvert_exporter": "python",
   "pygments_lexer": "ipython3",
   "version": "3.8.5"
  }
 },
 "nbformat": 4,
 "nbformat_minor": 4
}
