{
 "cells": [
  {
   "cell_type": "code",
   "execution_count": 1,
   "id": "sized-nickname",
   "metadata": {},
   "outputs": [],
   "source": [
    "import pandas as pd\n",
    "import numpy as np\n",
    "import re\n",
    "import torchvision.transforms as transforms\n",
    "import matplotlib.pyplot as plt\n",
    "\n",
    "import torch\n",
    "from torch.utils.data import DataLoader\n",
    "from torch import nn, optim\n",
    "from torch.nn import functional as F\n",
    "from torchvision import datasets, transforms\n",
    "\n",
    "from sklearn.metrics import f1_score"
   ]
  },
  {
   "cell_type": "code",
   "execution_count": 2,
   "id": "sapphire-consumer",
   "metadata": {},
   "outputs": [],
   "source": [
    "# Read dataset\n",
    "df = pd.read_csv('CSVFiles/all_data_with_identities_50000.csv')"
   ]
  },
  {
   "cell_type": "code",
   "execution_count": null,
   "id": "forbidden-pastor",
   "metadata": {},
   "outputs": [],
   "source": [
    "# Updating values for training_data, since no need for val set\n",
    "training_data = df[(df['split'] == 'train') | (df['split'] == 'val')]\n",
    "\n",
    "# Getting test_data\n",
    "test_data = df[df['split'] == 'test']"
   ]
  }
 ],
 "metadata": {
  "kernelspec": {
   "display_name": "Python 3",
   "language": "python",
   "name": "python3"
  },
  "language_info": {
   "codemirror_mode": {
    "name": "ipython",
    "version": 3
   },
   "file_extension": ".py",
   "mimetype": "text/x-python",
   "name": "python",
   "nbconvert_exporter": "python",
   "pygments_lexer": "ipython3",
   "version": "3.8.8"
  }
 },
 "nbformat": 4,
 "nbformat_minor": 5
}
