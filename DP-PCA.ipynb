{
 "cells": [
  {
   "cell_type": "code",
   "execution_count": 30,
   "id": "reported-worship",
   "metadata": {},
   "outputs": [],
   "source": [
    "import pandas as pd\n",
    "import numpy as np\n",
    "import re\n",
    "import torch"
   ]
  },
  {
   "cell_type": "code",
   "execution_count": 31,
   "id": "amended-mainland",
   "metadata": {},
   "outputs": [],
   "source": [
    "def CleanText(text):\n",
    "    text = re.sub(r'''[\\[|\\]]''', \"\", text).split()\n",
    "    text = np.array(text, dtype=\"float64\")\n",
    "    return text"
   ]
  },
  {
   "cell_type": "code",
   "execution_count": 32,
   "id": "hindu-level",
   "metadata": {},
   "outputs": [],
   "source": [
    "df = pd.read_csv(\"domain_data_with_identities.csv\")\n",
    "df['comment_text'] = df['comment_text'].apply(lambda text: CleanText(text))"
   ]
  },
  {
   "cell_type": "code",
   "execution_count": 33,
   "id": "royal-society",
   "metadata": {},
   "outputs": [],
   "source": [
    "# Updating values for training_data\n",
    "training_data = df[df['split'] == 'train']\n",
    "\n",
    "# Getting test_data\n",
    "test_data = df[df['split'] == 'test']\n",
    "\n",
    "# Getting validation_data\n",
    "validation_data = df[df['split'] == 'val']"
   ]
  },
  {
   "cell_type": "code",
   "execution_count": 34,
   "id": "limited-description",
   "metadata": {},
   "outputs": [],
   "source": [
    "X_train = np.array(training_data['comment_text'].values.tolist())\n",
    "\n",
    "X_test = np.array(test_data['comment_text'].values.tolist())\n",
    "\n",
    "X_val = np.array(validation_data['comment_text'].values.tolist())"
   ]
  },
  {
   "cell_type": "code",
   "execution_count": 35,
   "id": "scientific-terminal",
   "metadata": {},
   "outputs": [],
   "source": [
    "samples, features = X_train.shape"
   ]
  },
  {
   "cell_type": "code",
   "execution_count": null,
   "id": "becoming-proposal",
   "metadata": {},
   "outputs": [],
   "source": [
    "from diffprivlib.models import PCA\n",
    "\n",
    "# The only permitted `svd_solver` is 'full'.  Specifying the ``svd_solver`` option will result in a warning\n",
    "\n",
    "# If n_components is not set all components are kept\n",
    "\n",
    "#Centered: If False, the data will be centered before calculating the principal components\n",
    "\n",
    "#If ``centered=False``, half of epsilon is used to calculate the\n",
    "#        differentially private mean to center the data prior to the calculation of principal components\n",
    "\n",
    "\n",
    "#data_norm: The max l2 norm of any row of the data.  This defines the spread of data that will be protected by\n",
    "#        differential privacy.\n",
    "#Matrix norms: the Frobenius norm: #https://www.datacamp.com/community/tutorials/tutorial-machine-learning-basics-norms\n",
    "\n",
    "data_norm = np.linalg.norm(X_train)\n",
    "\n",
    "\n",
    "#model = PCA(n_components = features, centered='False', epsilon=0.1, data_norm = data_norm)\n",
    "model = PCA(epsilon=0.1)\n",
    "model.fit(X_train)"
   ]
  },
  {
   "cell_type": "code",
   "execution_count": 37,
   "id": "spatial-bowling",
   "metadata": {},
   "outputs": [],
   "source": [
    "PCAModel001 = torch.load('PCAeps0,01.pth')"
   ]
  },
  {
   "cell_type": "code",
   "execution_count": 38,
   "id": "sweet-lunch",
   "metadata": {},
   "outputs": [],
   "source": [
    "transformedXtrain = PCAModel001.transform(X_train)"
   ]
  },
  {
   "cell_type": "code",
   "execution_count": 39,
   "id": "spanish-tennis",
   "metadata": {},
   "outputs": [],
   "source": [
    "for i, ind in enumerate(training_data.index):\n",
    "    df.at[ind, 'comment_text'] = transformedXtrain[i]"
   ]
  },
  {
   "cell_type": "code",
   "execution_count": 40,
   "id": "yellow-problem",
   "metadata": {},
   "outputs": [],
   "source": [
    "df.to_csv(r'C:\\Users\\frede\\Desktop\\domain_data_with_identities_private_xtrain0,01.csv', index=False, header=True)"
   ]
  },
  {
   "cell_type": "code",
   "execution_count": null,
   "id": "thirty-highway",
   "metadata": {},
   "outputs": [],
   "source": []
  },
  {
   "cell_type": "code",
   "execution_count": null,
   "id": "attempted-accounting",
   "metadata": {},
   "outputs": [],
   "source": []
  },
  {
   "cell_type": "code",
   "execution_count": null,
   "id": "excessive-sauce",
   "metadata": {},
   "outputs": [],
   "source": []
  }
 ],
 "metadata": {
  "kernelspec": {
   "display_name": "Python 3",
   "language": "python",
   "name": "python3"
  },
  "language_info": {
   "codemirror_mode": {
    "name": "ipython",
    "version": 3
   },
   "file_extension": ".py",
   "mimetype": "text/x-python",
   "name": "python",
   "nbconvert_exporter": "python",
   "pygments_lexer": "ipython3",
   "version": "3.8.8"
  }
 },
 "nbformat": 4,
 "nbformat_minor": 5
}
